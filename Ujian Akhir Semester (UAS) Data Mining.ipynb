{
  "nbformat": 4,
  "nbformat_minor": 0,
  "metadata": {
    "colab": {
      "provenance": [],
      "collapsed_sections": [
        "I15SDMt4fMmF",
        "krm5wFg54qoW",
        "o2ZRh0DLN2Ir",
        "FxRZC-M_yhXX",
        "BY1t2hhf4d87",
        "y42DKriE8GCE",
        "MmZ226Hqe_aZ",
        "02acvacXrOq5",
        "IcJuC3Z2p3nH",
        "mRUttpjSSTl7"
      ]
    },
    "kernelspec": {
      "name": "python3",
      "display_name": "Python 3"
    },
    "language_info": {
      "name": "python"
    }
  },
  "cells": [
    {
      "cell_type": "code",
      "source": [
        "pip install --upgrade ipython"
      ],
      "metadata": {
        "colab": {
          "base_uri": "https://localhost:8080/"
        },
        "id": "dYJkBmUEwTRd",
        "outputId": "8af25cfc-f975-4691-b8a2-fe6582ee9b92"
      },
      "execution_count": null,
      "outputs": [
        {
          "output_type": "stream",
          "name": "stdout",
          "text": [
            "Requirement already satisfied: ipython in /usr/local/lib/python3.10/dist-packages (8.15.0)\n",
            "Requirement already satisfied: backcall in /usr/local/lib/python3.10/dist-packages (from ipython) (0.2.0)\n",
            "Requirement already satisfied: decorator in /usr/local/lib/python3.10/dist-packages (from ipython) (4.4.2)\n",
            "Requirement already satisfied: jedi>=0.16 in /usr/local/lib/python3.10/dist-packages (from ipython) (0.19.0)\n",
            "Requirement already satisfied: matplotlib-inline in /usr/local/lib/python3.10/dist-packages (from ipython) (0.1.6)\n",
            "Requirement already satisfied: pickleshare in /usr/local/lib/python3.10/dist-packages (from ipython) (0.7.5)\n",
            "Requirement already satisfied: prompt-toolkit!=3.0.37,<3.1.0,>=3.0.30 in /usr/local/lib/python3.10/dist-packages (from ipython) (3.0.39)\n",
            "Requirement already satisfied: pygments>=2.4.0 in /usr/local/lib/python3.10/dist-packages (from ipython) (2.16.1)\n",
            "Requirement already satisfied: stack-data in /usr/local/lib/python3.10/dist-packages (from ipython) (0.6.2)\n",
            "Requirement already satisfied: traitlets>=5 in /usr/local/lib/python3.10/dist-packages (from ipython) (5.7.1)\n",
            "Requirement already satisfied: exceptiongroup in /usr/local/lib/python3.10/dist-packages (from ipython) (1.1.3)\n",
            "Requirement already satisfied: pexpect>4.3 in /usr/local/lib/python3.10/dist-packages (from ipython) (4.8.0)\n",
            "Requirement already satisfied: parso<0.9.0,>=0.8.3 in /usr/local/lib/python3.10/dist-packages (from jedi>=0.16->ipython) (0.8.3)\n",
            "Requirement already satisfied: ptyprocess>=0.5 in /usr/local/lib/python3.10/dist-packages (from pexpect>4.3->ipython) (0.7.0)\n",
            "Requirement already satisfied: wcwidth in /usr/local/lib/python3.10/dist-packages (from prompt-toolkit!=3.0.37,<3.1.0,>=3.0.30->ipython) (0.2.6)\n",
            "Requirement already satisfied: executing>=1.2.0 in /usr/local/lib/python3.10/dist-packages (from stack-data->ipython) (1.2.0)\n",
            "Requirement already satisfied: asttokens>=2.1.0 in /usr/local/lib/python3.10/dist-packages (from stack-data->ipython) (2.4.0)\n",
            "Requirement already satisfied: pure-eval in /usr/local/lib/python3.10/dist-packages (from stack-data->ipython) (0.2.2)\n",
            "Requirement already satisfied: six>=1.12.0 in /usr/local/lib/python3.10/dist-packages (from asttokens>=2.1.0->stack-data->ipython) (1.16.0)\n"
          ]
        }
      ]
    },
    {
      "cell_type": "code",
      "source": [
        "import warnings\n",
        "warnings.filterwarnings(\"ignore\", category=DeprecationWarning)"
      ],
      "metadata": {
        "id": "97jHeem2wNj_"
      },
      "execution_count": null,
      "outputs": []
    },
    {
      "cell_type": "markdown",
      "source": [
        "### Import Data"
      ],
      "metadata": {
        "id": "I15SDMt4fMmF"
      }
    },
    {
      "cell_type": "code",
      "execution_count": null,
      "metadata": {
        "id": "Jc85Y9_ALptq"
      },
      "outputs": [],
      "source": [
        "import pandas as pd"
      ]
    },
    {
      "cell_type": "code",
      "source": [
        "from google.colab import drive\n",
        "drive.mount('/content/drive')"
      ],
      "metadata": {
        "colab": {
          "base_uri": "https://localhost:8080/"
        },
        "id": "8Ri-SsPdLwcm",
        "outputId": "a144e617-1e56-4f47-f272-0bdcc506b952"
      },
      "execution_count": null,
      "outputs": [
        {
          "output_type": "stream",
          "name": "stdout",
          "text": [
            "Drive already mounted at /content/drive; to attempt to forcibly remount, call drive.mount(\"/content/drive\", force_remount=True).\n"
          ]
        }
      ]
    },
    {
      "cell_type": "code",
      "source": [
        "import xml.etree.ElementTree as ET\n",
        "\n",
        "file_path = '/content/drive/My Drive/UAS Data Mining/data.bmkg.go.id_DataMKG_MEWS_DigitalForecast_DigitalForecast-Aceh.xml'\n",
        "tree = ET.parse(file_path)\n",
        "root = tree.getroot()"
      ],
      "metadata": {
        "id": "ZZpGEWgILzZk"
      },
      "execution_count": null,
      "outputs": []
    },
    {
      "cell_type": "code",
      "source": [
        "# Memeriksa isi data XML\n",
        "for elem in root:\n",
        "    print(f\"Tag: {elem.tag}, Isi: {elem.text}\")\n",
        "    for subelem in elem:\n",
        "        print(f\"  Sub Tag: {subelem.tag}, Isi: {subelem.text}\")"
      ],
      "metadata": {
        "id": "S7mCQjvcMwX8",
        "colab": {
          "base_uri": "https://localhost:8080/"
        },
        "outputId": "08e16174-891c-4ca5-c11f-ccf2a252ead6"
      },
      "execution_count": null,
      "outputs": [
        {
          "output_type": "stream",
          "name": "stdout",
          "text": [
            "Tag: forecast, Isi: \n",
            "\n",
            "  Sub Tag: issue, Isi: \n",
            "\n",
            "  Sub Tag: area, Isi: \n",
            "\n",
            "  Sub Tag: area, Isi: \n",
            "\n",
            "  Sub Tag: area, Isi: \n",
            "\n",
            "  Sub Tag: area, Isi: \n",
            "\n",
            "  Sub Tag: area, Isi: \n",
            "\n",
            "  Sub Tag: area, Isi: \n",
            "\n",
            "  Sub Tag: area, Isi: \n",
            "\n",
            "  Sub Tag: area, Isi: \n",
            "\n",
            "  Sub Tag: area, Isi: \n",
            "\n",
            "  Sub Tag: area, Isi: \n",
            "\n",
            "  Sub Tag: area, Isi: \n",
            "\n",
            "  Sub Tag: area, Isi: \n",
            "\n",
            "  Sub Tag: area, Isi: \n",
            "\n",
            "  Sub Tag: area, Isi: \n",
            "\n",
            "  Sub Tag: area, Isi: \n",
            "\n",
            "  Sub Tag: area, Isi: \n",
            "\n",
            "  Sub Tag: area, Isi: \n",
            "\n",
            "  Sub Tag: area, Isi: \n",
            "\n",
            "  Sub Tag: area, Isi: \n",
            "\n",
            "  Sub Tag: area, Isi: \n",
            "\n",
            "  Sub Tag: area, Isi: \n",
            "\n",
            "  Sub Tag: area, Isi: \n",
            "\n",
            "  Sub Tag: area, Isi: \n",
            "\n"
          ]
        }
      ]
    },
    {
      "cell_type": "code",
      "source": [
        "#Memeriksa elemen 'issue'\n",
        "for issue in root.findall('./forecast/issue'):\n",
        "    timestamp = issue.find('timestamp').text\n",
        "    year = issue.find('year').text\n",
        "    month = issue.find('month').text\n",
        "    day = issue.find('day').text\n",
        "    hour = issue.find('hour').text\n",
        "    minute = issue.find('minute').text\n",
        "    second = issue.find('second').text\n",
        "\n",
        "    print(f\"Timestamp: {timestamp}\")\n",
        "    print(f\"Year: {year}\")\n",
        "    print(f\"Month: {month}\")\n",
        "    print(f\"Day: {day}\")\n",
        "    print(f\"Hour: {hour}\")\n",
        "    print(f\"Minute: {minute}\")\n",
        "    print(f\"Second: {second}\")"
      ],
      "metadata": {
        "colab": {
          "base_uri": "https://localhost:8080/"
        },
        "id": "TbrLvBWIMw3I",
        "outputId": "ad7eb4ee-af46-44be-8b33-729258468bdb"
      },
      "execution_count": null,
      "outputs": [
        {
          "output_type": "stream",
          "name": "stdout",
          "text": [
            "Timestamp: 20230908024749\n",
            "Year: 2023\n",
            "Month: 09\n",
            "Day: 08\n",
            "Hour: 02\n",
            "Minute: 47\n",
            "Second: 49\n"
          ]
        }
      ]
    },
    {
      "cell_type": "code",
      "source": [
        "data = []\n",
        "\n",
        "for area in root.findall('./forecast/area'):\n",
        "    area_id = area.get('id')\n",
        "    latitude = area.get('latitude')\n",
        "    longitude = area.get('longitude')\n",
        "    area_name = area.find('name').text\n",
        "\n",
        "    for parameter in area.findall('parameter'):\n",
        "        parameter_id = parameter.get('id')\n",
        "        parameter_description = parameter.get('description')\n",
        "\n",
        "        for value in parameter.findall('timerange/value'):\n",
        "            unit = value.get('unit')\n",
        "            value_text = value.text\n",
        "\n",
        "            data.append({\n",
        "                'Area ID': area_id,\n",
        "                'Latitude': latitude,\n",
        "                'Longitude': longitude,\n",
        "                'Area Name': area_name,\n",
        "                'Parameter ID': parameter_id,\n",
        "                'Parameter Description': parameter_description,\n",
        "                'Value Unit': unit,\n",
        "                'Value': value_text\n",
        "            })\n",
        "\n",
        "# Membuat DataFrame dari data yang diekstraksi\n",
        "df = pd.DataFrame(data)\n",
        "\n",
        "# Menampilkan DataFrame\n",
        "print(df)"
      ],
      "metadata": {
        "colab": {
          "base_uri": "https://localhost:8080/"
        },
        "id": "nkLmiHLhM0jG",
        "outputId": "1c88b7f6-810c-48ab-edac-f95f21ee1f31"
      },
      "execution_count": null,
      "outputs": [
        {
          "output_type": "stream",
          "name": "stdout",
          "text": [
            "     Area ID  Latitude  Longitude     Area Name Parameter ID  \\\n",
            "0     501409  4.176594  96.124878    Aceh Barat           hu   \n",
            "1     501409  4.176594  96.124878    Aceh Barat           hu   \n",
            "2     501409  4.176594  96.124878    Aceh Barat           hu   \n",
            "3     501409  4.176594  96.124878    Aceh Barat           hu   \n",
            "4     501409  4.176594  96.124878    Aceh Barat           hu   \n",
            "...      ...       ...        ...           ...          ...   \n",
            "3445  501606    2.6453   98.02611  Subulussalam           ws   \n",
            "3446  501606    2.6453   98.02611  Subulussalam           ws   \n",
            "3447  501606    2.6453   98.02611  Subulussalam           ws   \n",
            "3448  501606    2.6453   98.02611  Subulussalam           ws   \n",
            "3449  501606    2.6453   98.02611  Subulussalam           ws   \n",
            "\n",
            "     Parameter Description Value Unit        Value  \n",
            "0                 Humidity          %           90  \n",
            "1                 Humidity          %           85  \n",
            "2                 Humidity          %           95  \n",
            "3                 Humidity          %           90  \n",
            "4                 Humidity          %           90  \n",
            "...                    ...        ...          ...  \n",
            "3445            Wind speed         MS   2.57222222  \n",
            "3446            Wind speed         Kt            2  \n",
            "3447            Wind speed        MPH    2.3015589  \n",
            "3448            Wind speed        KPH        3.704  \n",
            "3449            Wind speed         MS  1.028888888  \n",
            "\n",
            "[3450 rows x 8 columns]\n"
          ]
        }
      ]
    },
    {
      "cell_type": "code",
      "source": [
        "pd.concat([df.head(5), df.tail(5)])"
      ],
      "metadata": {
        "colab": {
          "base_uri": "https://localhost:8080/"
        },
        "id": "cIJfn16iM4yD",
        "outputId": "edb333da-9df9-4728-ebc7-739752c51e45"
      },
      "execution_count": null,
      "outputs": [
        {
          "output_type": "execute_result",
          "data": {
            "text/plain": [
              "     Area ID  Latitude  Longitude     Area Name Parameter ID  \\\n",
              "0     501409  4.176594  96.124878    Aceh Barat           hu   \n",
              "1     501409  4.176594  96.124878    Aceh Barat           hu   \n",
              "2     501409  4.176594  96.124878    Aceh Barat           hu   \n",
              "3     501409  4.176594  96.124878    Aceh Barat           hu   \n",
              "4     501409  4.176594  96.124878    Aceh Barat           hu   \n",
              "3445  501606    2.6453   98.02611  Subulussalam           ws   \n",
              "3446  501606    2.6453   98.02611  Subulussalam           ws   \n",
              "3447  501606    2.6453   98.02611  Subulussalam           ws   \n",
              "3448  501606    2.6453   98.02611  Subulussalam           ws   \n",
              "3449  501606    2.6453   98.02611  Subulussalam           ws   \n",
              "\n",
              "     Parameter Description Value Unit        Value  \n",
              "0                 Humidity          %           90  \n",
              "1                 Humidity          %           85  \n",
              "2                 Humidity          %           95  \n",
              "3                 Humidity          %           90  \n",
              "4                 Humidity          %           90  \n",
              "3445            Wind speed         MS   2.57222222  \n",
              "3446            Wind speed         Kt            2  \n",
              "3447            Wind speed        MPH    2.3015589  \n",
              "3448            Wind speed        KPH        3.704  \n",
              "3449            Wind speed         MS  1.028888888  "
            ],
            "text/html": [
              "\n",
              "  <div id=\"df-71cc52fb-1c6a-4f49-a180-9f280e9a4d8e\" class=\"colab-df-container\">\n",
              "    <div>\n",
              "<style scoped>\n",
              "    .dataframe tbody tr th:only-of-type {\n",
              "        vertical-align: middle;\n",
              "    }\n",
              "\n",
              "    .dataframe tbody tr th {\n",
              "        vertical-align: top;\n",
              "    }\n",
              "\n",
              "    .dataframe thead th {\n",
              "        text-align: right;\n",
              "    }\n",
              "</style>\n",
              "<table border=\"1\" class=\"dataframe\">\n",
              "  <thead>\n",
              "    <tr style=\"text-align: right;\">\n",
              "      <th></th>\n",
              "      <th>Area ID</th>\n",
              "      <th>Latitude</th>\n",
              "      <th>Longitude</th>\n",
              "      <th>Area Name</th>\n",
              "      <th>Parameter ID</th>\n",
              "      <th>Parameter Description</th>\n",
              "      <th>Value Unit</th>\n",
              "      <th>Value</th>\n",
              "    </tr>\n",
              "  </thead>\n",
              "  <tbody>\n",
              "    <tr>\n",
              "      <th>0</th>\n",
              "      <td>501409</td>\n",
              "      <td>4.176594</td>\n",
              "      <td>96.124878</td>\n",
              "      <td>Aceh Barat</td>\n",
              "      <td>hu</td>\n",
              "      <td>Humidity</td>\n",
              "      <td>%</td>\n",
              "      <td>90</td>\n",
              "    </tr>\n",
              "    <tr>\n",
              "      <th>1</th>\n",
              "      <td>501409</td>\n",
              "      <td>4.176594</td>\n",
              "      <td>96.124878</td>\n",
              "      <td>Aceh Barat</td>\n",
              "      <td>hu</td>\n",
              "      <td>Humidity</td>\n",
              "      <td>%</td>\n",
              "      <td>85</td>\n",
              "    </tr>\n",
              "    <tr>\n",
              "      <th>2</th>\n",
              "      <td>501409</td>\n",
              "      <td>4.176594</td>\n",
              "      <td>96.124878</td>\n",
              "      <td>Aceh Barat</td>\n",
              "      <td>hu</td>\n",
              "      <td>Humidity</td>\n",
              "      <td>%</td>\n",
              "      <td>95</td>\n",
              "    </tr>\n",
              "    <tr>\n",
              "      <th>3</th>\n",
              "      <td>501409</td>\n",
              "      <td>4.176594</td>\n",
              "      <td>96.124878</td>\n",
              "      <td>Aceh Barat</td>\n",
              "      <td>hu</td>\n",
              "      <td>Humidity</td>\n",
              "      <td>%</td>\n",
              "      <td>90</td>\n",
              "    </tr>\n",
              "    <tr>\n",
              "      <th>4</th>\n",
              "      <td>501409</td>\n",
              "      <td>4.176594</td>\n",
              "      <td>96.124878</td>\n",
              "      <td>Aceh Barat</td>\n",
              "      <td>hu</td>\n",
              "      <td>Humidity</td>\n",
              "      <td>%</td>\n",
              "      <td>90</td>\n",
              "    </tr>\n",
              "    <tr>\n",
              "      <th>3445</th>\n",
              "      <td>501606</td>\n",
              "      <td>2.6453</td>\n",
              "      <td>98.02611</td>\n",
              "      <td>Subulussalam</td>\n",
              "      <td>ws</td>\n",
              "      <td>Wind speed</td>\n",
              "      <td>MS</td>\n",
              "      <td>2.57222222</td>\n",
              "    </tr>\n",
              "    <tr>\n",
              "      <th>3446</th>\n",
              "      <td>501606</td>\n",
              "      <td>2.6453</td>\n",
              "      <td>98.02611</td>\n",
              "      <td>Subulussalam</td>\n",
              "      <td>ws</td>\n",
              "      <td>Wind speed</td>\n",
              "      <td>Kt</td>\n",
              "      <td>2</td>\n",
              "    </tr>\n",
              "    <tr>\n",
              "      <th>3447</th>\n",
              "      <td>501606</td>\n",
              "      <td>2.6453</td>\n",
              "      <td>98.02611</td>\n",
              "      <td>Subulussalam</td>\n",
              "      <td>ws</td>\n",
              "      <td>Wind speed</td>\n",
              "      <td>MPH</td>\n",
              "      <td>2.3015589</td>\n",
              "    </tr>\n",
              "    <tr>\n",
              "      <th>3448</th>\n",
              "      <td>501606</td>\n",
              "      <td>2.6453</td>\n",
              "      <td>98.02611</td>\n",
              "      <td>Subulussalam</td>\n",
              "      <td>ws</td>\n",
              "      <td>Wind speed</td>\n",
              "      <td>KPH</td>\n",
              "      <td>3.704</td>\n",
              "    </tr>\n",
              "    <tr>\n",
              "      <th>3449</th>\n",
              "      <td>501606</td>\n",
              "      <td>2.6453</td>\n",
              "      <td>98.02611</td>\n",
              "      <td>Subulussalam</td>\n",
              "      <td>ws</td>\n",
              "      <td>Wind speed</td>\n",
              "      <td>MS</td>\n",
              "      <td>1.028888888</td>\n",
              "    </tr>\n",
              "  </tbody>\n",
              "</table>\n",
              "</div>\n",
              "    <div class=\"colab-df-buttons\">\n",
              "\n",
              "  <div class=\"colab-df-container\">\n",
              "    <button class=\"colab-df-convert\" onclick=\"convertToInteractive('df-71cc52fb-1c6a-4f49-a180-9f280e9a4d8e')\"\n",
              "            title=\"Convert this dataframe to an interactive table.\"\n",
              "            style=\"display:none;\">\n",
              "\n",
              "  <svg xmlns=\"http://www.w3.org/2000/svg\" height=\"24px\" viewBox=\"0 -960 960 960\">\n",
              "    <path d=\"M120-120v-720h720v720H120Zm60-500h600v-160H180v160Zm220 220h160v-160H400v160Zm0 220h160v-160H400v160ZM180-400h160v-160H180v160Zm440 0h160v-160H620v160ZM180-180h160v-160H180v160Zm440 0h160v-160H620v160Z\"/>\n",
              "  </svg>\n",
              "    </button>\n",
              "\n",
              "  <style>\n",
              "    .colab-df-container {\n",
              "      display:flex;\n",
              "      gap: 12px;\n",
              "    }\n",
              "\n",
              "    .colab-df-convert {\n",
              "      background-color: #E8F0FE;\n",
              "      border: none;\n",
              "      border-radius: 50%;\n",
              "      cursor: pointer;\n",
              "      display: none;\n",
              "      fill: #1967D2;\n",
              "      height: 32px;\n",
              "      padding: 0 0 0 0;\n",
              "      width: 32px;\n",
              "    }\n",
              "\n",
              "    .colab-df-convert:hover {\n",
              "      background-color: #E2EBFA;\n",
              "      box-shadow: 0px 1px 2px rgba(60, 64, 67, 0.3), 0px 1px 3px 1px rgba(60, 64, 67, 0.15);\n",
              "      fill: #174EA6;\n",
              "    }\n",
              "\n",
              "    .colab-df-buttons div {\n",
              "      margin-bottom: 4px;\n",
              "    }\n",
              "\n",
              "    [theme=dark] .colab-df-convert {\n",
              "      background-color: #3B4455;\n",
              "      fill: #D2E3FC;\n",
              "    }\n",
              "\n",
              "    [theme=dark] .colab-df-convert:hover {\n",
              "      background-color: #434B5C;\n",
              "      box-shadow: 0px 1px 3px 1px rgba(0, 0, 0, 0.15);\n",
              "      filter: drop-shadow(0px 1px 2px rgba(0, 0, 0, 0.3));\n",
              "      fill: #FFFFFF;\n",
              "    }\n",
              "  </style>\n",
              "\n",
              "    <script>\n",
              "      const buttonEl =\n",
              "        document.querySelector('#df-71cc52fb-1c6a-4f49-a180-9f280e9a4d8e button.colab-df-convert');\n",
              "      buttonEl.style.display =\n",
              "        google.colab.kernel.accessAllowed ? 'block' : 'none';\n",
              "\n",
              "      async function convertToInteractive(key) {\n",
              "        const element = document.querySelector('#df-71cc52fb-1c6a-4f49-a180-9f280e9a4d8e');\n",
              "        const dataTable =\n",
              "          await google.colab.kernel.invokeFunction('convertToInteractive',\n",
              "                                                    [key], {});\n",
              "        if (!dataTable) return;\n",
              "\n",
              "        const docLinkHtml = 'Like what you see? Visit the ' +\n",
              "          '<a target=\"_blank\" href=https://colab.research.google.com/notebooks/data_table.ipynb>data table notebook</a>'\n",
              "          + ' to learn more about interactive tables.';\n",
              "        element.innerHTML = '';\n",
              "        dataTable['output_type'] = 'display_data';\n",
              "        await google.colab.output.renderOutput(dataTable, element);\n",
              "        const docLink = document.createElement('div');\n",
              "        docLink.innerHTML = docLinkHtml;\n",
              "        element.appendChild(docLink);\n",
              "      }\n",
              "    </script>\n",
              "  </div>\n",
              "\n",
              "\n",
              "<div id=\"df-ff860ff9-3042-45e8-a871-a94d53575acc\">\n",
              "  <button class=\"colab-df-quickchart\" onclick=\"quickchart('df-ff860ff9-3042-45e8-a871-a94d53575acc')\"\n",
              "            title=\"Suggest charts.\"\n",
              "            style=\"display:none;\">\n",
              "\n",
              "<svg xmlns=\"http://www.w3.org/2000/svg\" height=\"24px\"viewBox=\"0 0 24 24\"\n",
              "     width=\"24px\">\n",
              "    <g>\n",
              "        <path d=\"M19 3H5c-1.1 0-2 .9-2 2v14c0 1.1.9 2 2 2h14c1.1 0 2-.9 2-2V5c0-1.1-.9-2-2-2zM9 17H7v-7h2v7zm4 0h-2V7h2v10zm4 0h-2v-4h2v4z\"/>\n",
              "    </g>\n",
              "</svg>\n",
              "  </button>\n",
              "\n",
              "<style>\n",
              "  .colab-df-quickchart {\n",
              "      --bg-color: #E8F0FE;\n",
              "      --fill-color: #1967D2;\n",
              "      --hover-bg-color: #E2EBFA;\n",
              "      --hover-fill-color: #174EA6;\n",
              "      --disabled-fill-color: #AAA;\n",
              "      --disabled-bg-color: #DDD;\n",
              "  }\n",
              "\n",
              "  [theme=dark] .colab-df-quickchart {\n",
              "      --bg-color: #3B4455;\n",
              "      --fill-color: #D2E3FC;\n",
              "      --hover-bg-color: #434B5C;\n",
              "      --hover-fill-color: #FFFFFF;\n",
              "      --disabled-bg-color: #3B4455;\n",
              "      --disabled-fill-color: #666;\n",
              "  }\n",
              "\n",
              "  .colab-df-quickchart {\n",
              "    background-color: var(--bg-color);\n",
              "    border: none;\n",
              "    border-radius: 50%;\n",
              "    cursor: pointer;\n",
              "    display: none;\n",
              "    fill: var(--fill-color);\n",
              "    height: 32px;\n",
              "    padding: 0;\n",
              "    width: 32px;\n",
              "  }\n",
              "\n",
              "  .colab-df-quickchart:hover {\n",
              "    background-color: var(--hover-bg-color);\n",
              "    box-shadow: 0 1px 2px rgba(60, 64, 67, 0.3), 0 1px 3px 1px rgba(60, 64, 67, 0.15);\n",
              "    fill: var(--button-hover-fill-color);\n",
              "  }\n",
              "\n",
              "  .colab-df-quickchart-complete:disabled,\n",
              "  .colab-df-quickchart-complete:disabled:hover {\n",
              "    background-color: var(--disabled-bg-color);\n",
              "    fill: var(--disabled-fill-color);\n",
              "    box-shadow: none;\n",
              "  }\n",
              "\n",
              "  .colab-df-spinner {\n",
              "    border: 2px solid var(--fill-color);\n",
              "    border-color: transparent;\n",
              "    border-bottom-color: var(--fill-color);\n",
              "    animation:\n",
              "      spin 1s steps(1) infinite;\n",
              "  }\n",
              "\n",
              "  @keyframes spin {\n",
              "    0% {\n",
              "      border-color: transparent;\n",
              "      border-bottom-color: var(--fill-color);\n",
              "      border-left-color: var(--fill-color);\n",
              "    }\n",
              "    20% {\n",
              "      border-color: transparent;\n",
              "      border-left-color: var(--fill-color);\n",
              "      border-top-color: var(--fill-color);\n",
              "    }\n",
              "    30% {\n",
              "      border-color: transparent;\n",
              "      border-left-color: var(--fill-color);\n",
              "      border-top-color: var(--fill-color);\n",
              "      border-right-color: var(--fill-color);\n",
              "    }\n",
              "    40% {\n",
              "      border-color: transparent;\n",
              "      border-right-color: var(--fill-color);\n",
              "      border-top-color: var(--fill-color);\n",
              "    }\n",
              "    60% {\n",
              "      border-color: transparent;\n",
              "      border-right-color: var(--fill-color);\n",
              "    }\n",
              "    80% {\n",
              "      border-color: transparent;\n",
              "      border-right-color: var(--fill-color);\n",
              "      border-bottom-color: var(--fill-color);\n",
              "    }\n",
              "    90% {\n",
              "      border-color: transparent;\n",
              "      border-bottom-color: var(--fill-color);\n",
              "    }\n",
              "  }\n",
              "</style>\n",
              "\n",
              "  <script>\n",
              "    async function quickchart(key) {\n",
              "      const quickchartButtonEl =\n",
              "        document.querySelector('#' + key + ' button');\n",
              "      quickchartButtonEl.disabled = true;  // To prevent multiple clicks.\n",
              "      quickchartButtonEl.classList.add('colab-df-spinner');\n",
              "      try {\n",
              "        const charts = await google.colab.kernel.invokeFunction(\n",
              "            'suggestCharts', [key], {});\n",
              "      } catch (error) {\n",
              "        console.error('Error during call to suggestCharts:', error);\n",
              "      }\n",
              "      quickchartButtonEl.classList.remove('colab-df-spinner');\n",
              "      quickchartButtonEl.classList.add('colab-df-quickchart-complete');\n",
              "    }\n",
              "    (() => {\n",
              "      let quickchartButtonEl =\n",
              "        document.querySelector('#df-ff860ff9-3042-45e8-a871-a94d53575acc button');\n",
              "      quickchartButtonEl.style.display =\n",
              "        google.colab.kernel.accessAllowed ? 'block' : 'none';\n",
              "    })();\n",
              "  </script>\n",
              "</div>\n",
              "    </div>\n",
              "  </div>\n"
            ]
          },
          "metadata": {},
          "execution_count": 532
        }
      ]
    },
    {
      "cell_type": "code",
      "source": [
        "df.info()"
      ],
      "metadata": {
        "colab": {
          "base_uri": "https://localhost:8080/"
        },
        "id": "OKWg9zSAM8A8",
        "outputId": "9de5c5a9-3fd2-4e91-db0b-42a20e568706"
      },
      "execution_count": null,
      "outputs": [
        {
          "output_type": "stream",
          "name": "stdout",
          "text": [
            "<class 'pandas.core.frame.DataFrame'>\n",
            "RangeIndex: 3450 entries, 0 to 3449\n",
            "Data columns (total 8 columns):\n",
            " #   Column                 Non-Null Count  Dtype \n",
            "---  ------                 --------------  ----- \n",
            " 0   Area ID                3450 non-null   object\n",
            " 1   Latitude               3450 non-null   object\n",
            " 2   Longitude              3450 non-null   object\n",
            " 3   Area Name              3450 non-null   object\n",
            " 4   Parameter ID           3450 non-null   object\n",
            " 5   Parameter Description  3450 non-null   object\n",
            " 6   Value Unit             3450 non-null   object\n",
            " 7   Value                  3450 non-null   object\n",
            "dtypes: object(8)\n",
            "memory usage: 215.8+ KB\n"
          ]
        }
      ]
    },
    {
      "cell_type": "code",
      "source": [
        "df.describe()"
      ],
      "metadata": {
        "colab": {
          "base_uri": "https://localhost:8080/"
        },
        "id": "FGm2YwVhM-AT",
        "outputId": "8225bf2a-74c8-452b-8924-6630264f4be8"
      },
      "execution_count": null,
      "outputs": [
        {
          "output_type": "execute_result",
          "data": {
            "text/plain": [
              "       Area ID  Latitude  Longitude   Area Name Parameter ID  \\\n",
              "count     3450      3450       3450        3450         3450   \n",
              "unique      23        23         23          23            9   \n",
              "top     501409  4.176594  96.124878  Aceh Barat           ws   \n",
              "freq       150       150        150         150         1104   \n",
              "\n",
              "       Parameter Description Value Unit Value  \n",
              "count                   3450       3450  3450  \n",
              "unique                     9         11   115  \n",
              "top               Wind speed          %     0  \n",
              "freq                    1104        414   198  "
            ],
            "text/html": [
              "\n",
              "  <div id=\"df-58af6cd5-b6c1-4719-a4c5-1a144acc3d5d\" class=\"colab-df-container\">\n",
              "    <div>\n",
              "<style scoped>\n",
              "    .dataframe tbody tr th:only-of-type {\n",
              "        vertical-align: middle;\n",
              "    }\n",
              "\n",
              "    .dataframe tbody tr th {\n",
              "        vertical-align: top;\n",
              "    }\n",
              "\n",
              "    .dataframe thead th {\n",
              "        text-align: right;\n",
              "    }\n",
              "</style>\n",
              "<table border=\"1\" class=\"dataframe\">\n",
              "  <thead>\n",
              "    <tr style=\"text-align: right;\">\n",
              "      <th></th>\n",
              "      <th>Area ID</th>\n",
              "      <th>Latitude</th>\n",
              "      <th>Longitude</th>\n",
              "      <th>Area Name</th>\n",
              "      <th>Parameter ID</th>\n",
              "      <th>Parameter Description</th>\n",
              "      <th>Value Unit</th>\n",
              "      <th>Value</th>\n",
              "    </tr>\n",
              "  </thead>\n",
              "  <tbody>\n",
              "    <tr>\n",
              "      <th>count</th>\n",
              "      <td>3450</td>\n",
              "      <td>3450</td>\n",
              "      <td>3450</td>\n",
              "      <td>3450</td>\n",
              "      <td>3450</td>\n",
              "      <td>3450</td>\n",
              "      <td>3450</td>\n",
              "      <td>3450</td>\n",
              "    </tr>\n",
              "    <tr>\n",
              "      <th>unique</th>\n",
              "      <td>23</td>\n",
              "      <td>23</td>\n",
              "      <td>23</td>\n",
              "      <td>23</td>\n",
              "      <td>9</td>\n",
              "      <td>9</td>\n",
              "      <td>11</td>\n",
              "      <td>115</td>\n",
              "    </tr>\n",
              "    <tr>\n",
              "      <th>top</th>\n",
              "      <td>501409</td>\n",
              "      <td>4.176594</td>\n",
              "      <td>96.124878</td>\n",
              "      <td>Aceh Barat</td>\n",
              "      <td>ws</td>\n",
              "      <td>Wind speed</td>\n",
              "      <td>%</td>\n",
              "      <td>0</td>\n",
              "    </tr>\n",
              "    <tr>\n",
              "      <th>freq</th>\n",
              "      <td>150</td>\n",
              "      <td>150</td>\n",
              "      <td>150</td>\n",
              "      <td>150</td>\n",
              "      <td>1104</td>\n",
              "      <td>1104</td>\n",
              "      <td>414</td>\n",
              "      <td>198</td>\n",
              "    </tr>\n",
              "  </tbody>\n",
              "</table>\n",
              "</div>\n",
              "    <div class=\"colab-df-buttons\">\n",
              "\n",
              "  <div class=\"colab-df-container\">\n",
              "    <button class=\"colab-df-convert\" onclick=\"convertToInteractive('df-58af6cd5-b6c1-4719-a4c5-1a144acc3d5d')\"\n",
              "            title=\"Convert this dataframe to an interactive table.\"\n",
              "            style=\"display:none;\">\n",
              "\n",
              "  <svg xmlns=\"http://www.w3.org/2000/svg\" height=\"24px\" viewBox=\"0 -960 960 960\">\n",
              "    <path d=\"M120-120v-720h720v720H120Zm60-500h600v-160H180v160Zm220 220h160v-160H400v160Zm0 220h160v-160H400v160ZM180-400h160v-160H180v160Zm440 0h160v-160H620v160ZM180-180h160v-160H180v160Zm440 0h160v-160H620v160Z\"/>\n",
              "  </svg>\n",
              "    </button>\n",
              "\n",
              "  <style>\n",
              "    .colab-df-container {\n",
              "      display:flex;\n",
              "      gap: 12px;\n",
              "    }\n",
              "\n",
              "    .colab-df-convert {\n",
              "      background-color: #E8F0FE;\n",
              "      border: none;\n",
              "      border-radius: 50%;\n",
              "      cursor: pointer;\n",
              "      display: none;\n",
              "      fill: #1967D2;\n",
              "      height: 32px;\n",
              "      padding: 0 0 0 0;\n",
              "      width: 32px;\n",
              "    }\n",
              "\n",
              "    .colab-df-convert:hover {\n",
              "      background-color: #E2EBFA;\n",
              "      box-shadow: 0px 1px 2px rgba(60, 64, 67, 0.3), 0px 1px 3px 1px rgba(60, 64, 67, 0.15);\n",
              "      fill: #174EA6;\n",
              "    }\n",
              "\n",
              "    .colab-df-buttons div {\n",
              "      margin-bottom: 4px;\n",
              "    }\n",
              "\n",
              "    [theme=dark] .colab-df-convert {\n",
              "      background-color: #3B4455;\n",
              "      fill: #D2E3FC;\n",
              "    }\n",
              "\n",
              "    [theme=dark] .colab-df-convert:hover {\n",
              "      background-color: #434B5C;\n",
              "      box-shadow: 0px 1px 3px 1px rgba(0, 0, 0, 0.15);\n",
              "      filter: drop-shadow(0px 1px 2px rgba(0, 0, 0, 0.3));\n",
              "      fill: #FFFFFF;\n",
              "    }\n",
              "  </style>\n",
              "\n",
              "    <script>\n",
              "      const buttonEl =\n",
              "        document.querySelector('#df-58af6cd5-b6c1-4719-a4c5-1a144acc3d5d button.colab-df-convert');\n",
              "      buttonEl.style.display =\n",
              "        google.colab.kernel.accessAllowed ? 'block' : 'none';\n",
              "\n",
              "      async function convertToInteractive(key) {\n",
              "        const element = document.querySelector('#df-58af6cd5-b6c1-4719-a4c5-1a144acc3d5d');\n",
              "        const dataTable =\n",
              "          await google.colab.kernel.invokeFunction('convertToInteractive',\n",
              "                                                    [key], {});\n",
              "        if (!dataTable) return;\n",
              "\n",
              "        const docLinkHtml = 'Like what you see? Visit the ' +\n",
              "          '<a target=\"_blank\" href=https://colab.research.google.com/notebooks/data_table.ipynb>data table notebook</a>'\n",
              "          + ' to learn more about interactive tables.';\n",
              "        element.innerHTML = '';\n",
              "        dataTable['output_type'] = 'display_data';\n",
              "        await google.colab.output.renderOutput(dataTable, element);\n",
              "        const docLink = document.createElement('div');\n",
              "        docLink.innerHTML = docLinkHtml;\n",
              "        element.appendChild(docLink);\n",
              "      }\n",
              "    </script>\n",
              "  </div>\n",
              "\n",
              "\n",
              "<div id=\"df-999c0d46-7723-499d-8e25-945b605cf5d3\">\n",
              "  <button class=\"colab-df-quickchart\" onclick=\"quickchart('df-999c0d46-7723-499d-8e25-945b605cf5d3')\"\n",
              "            title=\"Suggest charts.\"\n",
              "            style=\"display:none;\">\n",
              "\n",
              "<svg xmlns=\"http://www.w3.org/2000/svg\" height=\"24px\"viewBox=\"0 0 24 24\"\n",
              "     width=\"24px\">\n",
              "    <g>\n",
              "        <path d=\"M19 3H5c-1.1 0-2 .9-2 2v14c0 1.1.9 2 2 2h14c1.1 0 2-.9 2-2V5c0-1.1-.9-2-2-2zM9 17H7v-7h2v7zm4 0h-2V7h2v10zm4 0h-2v-4h2v4z\"/>\n",
              "    </g>\n",
              "</svg>\n",
              "  </button>\n",
              "\n",
              "<style>\n",
              "  .colab-df-quickchart {\n",
              "      --bg-color: #E8F0FE;\n",
              "      --fill-color: #1967D2;\n",
              "      --hover-bg-color: #E2EBFA;\n",
              "      --hover-fill-color: #174EA6;\n",
              "      --disabled-fill-color: #AAA;\n",
              "      --disabled-bg-color: #DDD;\n",
              "  }\n",
              "\n",
              "  [theme=dark] .colab-df-quickchart {\n",
              "      --bg-color: #3B4455;\n",
              "      --fill-color: #D2E3FC;\n",
              "      --hover-bg-color: #434B5C;\n",
              "      --hover-fill-color: #FFFFFF;\n",
              "      --disabled-bg-color: #3B4455;\n",
              "      --disabled-fill-color: #666;\n",
              "  }\n",
              "\n",
              "  .colab-df-quickchart {\n",
              "    background-color: var(--bg-color);\n",
              "    border: none;\n",
              "    border-radius: 50%;\n",
              "    cursor: pointer;\n",
              "    display: none;\n",
              "    fill: var(--fill-color);\n",
              "    height: 32px;\n",
              "    padding: 0;\n",
              "    width: 32px;\n",
              "  }\n",
              "\n",
              "  .colab-df-quickchart:hover {\n",
              "    background-color: var(--hover-bg-color);\n",
              "    box-shadow: 0 1px 2px rgba(60, 64, 67, 0.3), 0 1px 3px 1px rgba(60, 64, 67, 0.15);\n",
              "    fill: var(--button-hover-fill-color);\n",
              "  }\n",
              "\n",
              "  .colab-df-quickchart-complete:disabled,\n",
              "  .colab-df-quickchart-complete:disabled:hover {\n",
              "    background-color: var(--disabled-bg-color);\n",
              "    fill: var(--disabled-fill-color);\n",
              "    box-shadow: none;\n",
              "  }\n",
              "\n",
              "  .colab-df-spinner {\n",
              "    border: 2px solid var(--fill-color);\n",
              "    border-color: transparent;\n",
              "    border-bottom-color: var(--fill-color);\n",
              "    animation:\n",
              "      spin 1s steps(1) infinite;\n",
              "  }\n",
              "\n",
              "  @keyframes spin {\n",
              "    0% {\n",
              "      border-color: transparent;\n",
              "      border-bottom-color: var(--fill-color);\n",
              "      border-left-color: var(--fill-color);\n",
              "    }\n",
              "    20% {\n",
              "      border-color: transparent;\n",
              "      border-left-color: var(--fill-color);\n",
              "      border-top-color: var(--fill-color);\n",
              "    }\n",
              "    30% {\n",
              "      border-color: transparent;\n",
              "      border-left-color: var(--fill-color);\n",
              "      border-top-color: var(--fill-color);\n",
              "      border-right-color: var(--fill-color);\n",
              "    }\n",
              "    40% {\n",
              "      border-color: transparent;\n",
              "      border-right-color: var(--fill-color);\n",
              "      border-top-color: var(--fill-color);\n",
              "    }\n",
              "    60% {\n",
              "      border-color: transparent;\n",
              "      border-right-color: var(--fill-color);\n",
              "    }\n",
              "    80% {\n",
              "      border-color: transparent;\n",
              "      border-right-color: var(--fill-color);\n",
              "      border-bottom-color: var(--fill-color);\n",
              "    }\n",
              "    90% {\n",
              "      border-color: transparent;\n",
              "      border-bottom-color: var(--fill-color);\n",
              "    }\n",
              "  }\n",
              "</style>\n",
              "\n",
              "  <script>\n",
              "    async function quickchart(key) {\n",
              "      const quickchartButtonEl =\n",
              "        document.querySelector('#' + key + ' button');\n",
              "      quickchartButtonEl.disabled = true;  // To prevent multiple clicks.\n",
              "      quickchartButtonEl.classList.add('colab-df-spinner');\n",
              "      try {\n",
              "        const charts = await google.colab.kernel.invokeFunction(\n",
              "            'suggestCharts', [key], {});\n",
              "      } catch (error) {\n",
              "        console.error('Error during call to suggestCharts:', error);\n",
              "      }\n",
              "      quickchartButtonEl.classList.remove('colab-df-spinner');\n",
              "      quickchartButtonEl.classList.add('colab-df-quickchart-complete');\n",
              "    }\n",
              "    (() => {\n",
              "      let quickchartButtonEl =\n",
              "        document.querySelector('#df-999c0d46-7723-499d-8e25-945b605cf5d3 button');\n",
              "      quickchartButtonEl.style.display =\n",
              "        google.colab.kernel.accessAllowed ? 'block' : 'none';\n",
              "    })();\n",
              "  </script>\n",
              "</div>\n",
              "    </div>\n",
              "  </div>\n"
            ]
          },
          "metadata": {},
          "execution_count": 534
        }
      ]
    },
    {
      "cell_type": "code",
      "source": [
        "df = df.dropna()\n",
        "df.isnull().sum()"
      ],
      "metadata": {
        "colab": {
          "base_uri": "https://localhost:8080/"
        },
        "id": "wZA9HA-Zxv_r",
        "outputId": "be2accb7-ad0b-4615-f194-30a91ddee9a1"
      },
      "execution_count": null,
      "outputs": [
        {
          "output_type": "execute_result",
          "data": {
            "text/plain": [
              "Area ID                  0\n",
              "Latitude                 0\n",
              "Longitude                0\n",
              "Area Name                0\n",
              "Parameter ID             0\n",
              "Parameter Description    0\n",
              "Value Unit               0\n",
              "Value                    0\n",
              "dtype: int64"
            ]
          },
          "metadata": {},
          "execution_count": 535
        }
      ]
    },
    {
      "cell_type": "markdown",
      "source": [
        "###### Data Pre processing"
      ],
      "metadata": {
        "id": "krm5wFg54qoW"
      }
    },
    {
      "cell_type": "code",
      "source": [
        "df['Area ID'] = pd.to_numeric(df['Area ID'], errors='coerce')\n",
        "df['Latitude'] = pd.to_numeric(df['Latitude'], errors='coerce')\n",
        "df['Longitude'] = pd.to_numeric(df['Longitude'], errors='coerce')\n",
        "df['Value'] = pd.to_numeric(df['Value'], errors='coerce')\n",
        "\n",
        "df.info()"
      ],
      "metadata": {
        "colab": {
          "base_uri": "https://localhost:8080/"
        },
        "id": "_ttsFITkM_i9",
        "outputId": "816bf268-27e1-4ef1-c35d-08da0bac99b3"
      },
      "execution_count": null,
      "outputs": [
        {
          "output_type": "stream",
          "name": "stdout",
          "text": [
            "<class 'pandas.core.frame.DataFrame'>\n",
            "RangeIndex: 3450 entries, 0 to 3449\n",
            "Data columns (total 8 columns):\n",
            " #   Column                 Non-Null Count  Dtype  \n",
            "---  ------                 --------------  -----  \n",
            " 0   Area ID                3450 non-null   int64  \n",
            " 1   Latitude               3450 non-null   float64\n",
            " 2   Longitude              3450 non-null   float64\n",
            " 3   Area Name              3450 non-null   object \n",
            " 4   Parameter ID           3450 non-null   object \n",
            " 5   Parameter Description  3450 non-null   object \n",
            " 6   Value Unit             3450 non-null   object \n",
            " 7   Value                  3174 non-null   float64\n",
            "dtypes: float64(3), int64(1), object(4)\n",
            "memory usage: 215.8+ KB\n"
          ]
        }
      ]
    },
    {
      "cell_type": "markdown",
      "source": [
        "### EDA"
      ],
      "metadata": {
        "id": "o2ZRh0DLN2Ir"
      }
    },
    {
      "cell_type": "code",
      "source": [
        "import pandas as pd\n",
        "import numpy as np\n",
        "import seaborn as sns\n",
        "import matplotlib.pyplot as plt\n",
        "%matplotlib inline\n",
        "sns.set(color_codes=True)"
      ],
      "metadata": {
        "id": "FvwEkyu9NR6p"
      },
      "execution_count": null,
      "outputs": []
    },
    {
      "cell_type": "markdown",
      "source": [
        "**Tabulation**"
      ],
      "metadata": {
        "id": "J-dldhvKRTAH"
      }
    },
    {
      "cell_type": "code",
      "source": [
        "df['Area Name'].value_counts()"
      ],
      "metadata": {
        "colab": {
          "base_uri": "https://localhost:8080/"
        },
        "id": "5YkHf_lURVFN",
        "outputId": "9ce74fbc-4339-4d4a-bb20-9f8a5caf5527"
      },
      "execution_count": null,
      "outputs": [
        {
          "output_type": "execute_result",
          "data": {
            "text/plain": [
              "Aceh Barat         150\n",
              "Bener Meriah       150\n",
              "Simeulue           150\n",
              "Sabang             150\n",
              "Pidie Jaya         150\n",
              "Pidie              150\n",
              "Nagan Raya         150\n",
              "Lhokseumawe        150\n",
              "Langsa             150\n",
              "Gayo Lues          150\n",
              "Bireun             150\n",
              "Banda Aceh         150\n",
              "Aceh Barat Daya    150\n",
              "Aceh Utara         150\n",
              "Aceh Timur         150\n",
              "Aceh Tenggara      150\n",
              "Aceh Tengah        150\n",
              "Aceh Tamiang       150\n",
              "Aceh Singkil       150\n",
              "Aceh Selatan       150\n",
              "Aceh Jaya          150\n",
              "Aceh Besar         150\n",
              "Subulussalam       150\n",
              "Name: Area Name, dtype: int64"
            ]
          },
          "metadata": {},
          "execution_count": 538
        }
      ]
    },
    {
      "cell_type": "code",
      "source": [
        "df['Parameter Description'].value_counts()"
      ],
      "metadata": {
        "colab": {
          "base_uri": "https://localhost:8080/"
        },
        "id": "t2iJ1Hb3RbEx",
        "outputId": "79cd1e8f-7bbc-4eb7-e9b7-968be28bd292"
      },
      "execution_count": null,
      "outputs": [
        {
          "output_type": "execute_result",
          "data": {
            "text/plain": [
              "Wind speed         1104\n",
              "Wind direction      828\n",
              "Temperature         552\n",
              "Humidity            276\n",
              "Weather             276\n",
              "Max temperature     138\n",
              "Min temperature     138\n",
              "Max humidity         69\n",
              "Min humidity         69\n",
              "Name: Parameter Description, dtype: int64"
            ]
          },
          "metadata": {},
          "execution_count": 539
        }
      ]
    },
    {
      "cell_type": "markdown",
      "source": [
        "**Skewness**\n",
        "\n",
        "* If the skewness is between -0.5 and 0.5, the data are fairly symmetrical\n",
        "*If the skewness is between -1 and — 0.5 or between 0.5 and 1, the data are moderately skewed\n",
        "*If the skewness is less than -1 or greater than 1, the data are highly skewed\n",
        "*Zero value means the distribution is symmetrical\n",
        "*Negative value means the tail of the distribution is longer towards the left hand side of the curve\n",
        "*Positive value means the tail of the distribution is longer towards the right hand side of the curve"
      ],
      "metadata": {
        "id": "cMbTaZYYRKCc"
      }
    },
    {
      "cell_type": "code",
      "source": [
        "df.skew()"
      ],
      "metadata": {
        "colab": {
          "base_uri": "https://localhost:8080/"
        },
        "id": "zFtvp1CHN6CY",
        "outputId": "f97596fc-cdae-48d9-9011-7f0fa8683d0d"
      },
      "execution_count": null,
      "outputs": [
        {
          "output_type": "execute_result",
          "data": {
            "text/plain": [
              "Area ID      2.876861\n",
              "Latitude    -0.645835\n",
              "Longitude   -0.176447\n",
              "Value        4.324766\n",
              "dtype: float64"
            ]
          },
          "metadata": {},
          "execution_count": 540
        }
      ]
    },
    {
      "cell_type": "markdown",
      "source": [
        "**Kurtosis**\n",
        "\n",
        "* If the distribution is tall and thin it is called a leptokurtic distribution(Kurtosis > 3). Values in a leptokurtic distribution are near the mean or at the extremes.\n",
        "* A flat distribution where the values are moderately spread out (i.e., unlike leptokurtic) is called platykurtic(Kurtosis <3) distribution.\n",
        "* A distribution whose shape is in between a leptokurtic distribution and a platykurtic distribution is called a mesokurtic(Kurtosis=3) distribution. A mesokurtic distribution looks more close to a normal distribution."
      ],
      "metadata": {
        "id": "bSt63qt2Q9t8"
      }
    },
    {
      "cell_type": "code",
      "source": [
        "df.kurt()"
      ],
      "metadata": {
        "colab": {
          "base_uri": "https://localhost:8080/"
        },
        "id": "5sHvvcu7N7f7",
        "outputId": "d9c2e805-318c-4e07-8a0a-2d7c45539492"
      },
      "execution_count": null,
      "outputs": [
        {
          "output_type": "execute_result",
          "data": {
            "text/plain": [
              "Area ID       6.410651\n",
              "Latitude     -0.540049\n",
              "Longitude    -1.193430\n",
              "Value        18.596810\n",
              "dtype: float64"
            ]
          },
          "metadata": {},
          "execution_count": 541
        }
      ]
    },
    {
      "cell_type": "markdown",
      "source": [
        "**Histogram**"
      ],
      "metadata": {
        "id": "Rb2VTorTQ7sv"
      }
    },
    {
      "cell_type": "code",
      "source": [
        "df.plot.hist()"
      ],
      "metadata": {
        "colab": {
          "base_uri": "https://localhost:8080/"
        },
        "id": "kJqs8MAaN9HV",
        "outputId": "36def95f-1772-44d4-c8c2-f80fa39db6a8"
      },
      "execution_count": null,
      "outputs": [
        {
          "output_type": "execute_result",
          "data": {
            "text/plain": [
              "<Axes: ylabel='Frequency'>"
            ]
          },
          "metadata": {},
          "execution_count": 542
        },
        {
          "output_type": "display_data",
          "data": {
            "text/plain": [
              "<Figure size 640x480 with 1 Axes>"
            ],
            "image/png": "[encoded data removed]"
          },
          "metadata": {}
        }
      ]
    },
    {
      "cell_type": "markdown",
      "source": [
        "**Stem & Leaf Plots**"
      ],
      "metadata": {
        "id": "-sEMHAsVQ0a3"
      }
    },
    {
      "cell_type": "code",
      "source": [
        "import sys\n",
        "!{sys.executable} -m pip install stemgraphic\n",
        "import stemgraphic"
      ],
      "metadata": {
        "colab": {
          "base_uri": "https://localhost:8080/"
        },
        "id": "Rvk7GrQZN-j1",
        "outputId": "77a3c276-66e1-46b5-acff-7bcfad399130"
      },
      "execution_count": null,
      "outputs": [
        {
          "output_type": "stream",
          "name": "stdout",
          "text": [
            "Requirement already satisfied: stemgraphic in /usr/local/lib/python3.10/dist-packages (0.9.1)\n",
            "Requirement already satisfied: docopt in /usr/local/lib/python3.10/dist-packages (from stemgraphic) (0.6.2)\n",
            "Requirement already satisfied: matplotlib in /usr/local/lib/python3.10/dist-packages (from stemgraphic) (3.7.1)\n",
            "Requirement already satisfied: pandas in /usr/local/lib/python3.10/dist-packages (from stemgraphic) (1.5.3)\n",
            "Requirement already satisfied: seaborn in /usr/local/lib/python3.10/dist-packages (from stemgraphic) (0.12.2)\n",
            "Requirement already satisfied: contourpy>=1.0.1 in /usr/local/lib/python3.10/dist-packages (from matplotlib->stemgraphic) (1.1.0)\n",
            "Requirement already satisfied: cycler>=0.10 in /usr/local/lib/python3.10/dist-packages (from matplotlib->stemgraphic) (0.11.0)\n",
            "Requirement already satisfied: fonttools>=4.22.0 in /usr/local/lib/python3.10/dist-packages (from matplotlib->stemgraphic) (4.42.1)\n",
            "Requirement already satisfied: kiwisolver>=1.0.1 in /usr/local/lib/python3.10/dist-packages (from matplotlib->stemgraphic) (1.4.5)\n",
            "Requirement already satisfied: numpy>=1.20 in /usr/local/lib/python3.10/dist-packages (from matplotlib->stemgraphic) (1.23.5)\n",
            "Requirement already satisfied: packaging>=20.0 in /usr/local/lib/python3.10/dist-packages (from matplotlib->stemgraphic) (23.1)\n",
            "Requirement already satisfied: pillow>=6.2.0 in /usr/local/lib/python3.10/dist-packages (from matplotlib->stemgraphic) (9.4.0)\n",
            "Requirement already satisfied: pyparsing>=2.3.1 in /usr/local/lib/python3.10/dist-packages (from matplotlib->stemgraphic) (3.1.1)\n",
            "Requirement already satisfied: python-dateutil>=2.7 in /usr/local/lib/python3.10/dist-packages (from matplotlib->stemgraphic) (2.8.2)\n",
            "Requirement already satisfied: pytz>=2020.1 in /usr/local/lib/python3.10/dist-packages (from pandas->stemgraphic) (2023.3.post1)\n",
            "Requirement already satisfied: six>=1.5 in /usr/local/lib/python3.10/dist-packages (from python-dateutil>=2.7->matplotlib->stemgraphic) (1.16.0)\n"
          ]
        }
      ]
    },
    {
      "cell_type": "code",
      "source": [
        "data = df['Area ID'].head(10)\n",
        "stemgraphic.stem_graphic(data, scale = 10)"
      ],
      "metadata": {
        "colab": {
          "base_uri": "https://localhost:8080/"
        },
        "id": "9Yi0UWGHOZze",
        "outputId": "d816e31e-b256-403a-cb77-038849baf047"
      },
      "execution_count": null,
      "outputs": [
        {
          "output_type": "execute_result",
          "data": {
            "text/plain": [
              "(<Figure size 750x100 with 1 Axes>, <Axes: >)"
            ]
          },
          "metadata": {},
          "execution_count": 544
        },
        {
          "output_type": "display_data",
          "data": {
            "text/plain": [
              "<Figure size 750x100 with 1 Axes>"
            ],
            "image/png": "[encoded data removed]"
          },
          "metadata": {}
        }
      ]
    },
    {
      "cell_type": "code",
      "source": [
        "data = df['Latitude'].head(10)\n",
        "stemgraphic.stem_graphic(data, scale = 10)"
      ],
      "metadata": {
        "colab": {
          "base_uri": "https://localhost:8080/"
        },
        "id": "4Muk9UjWOZp6",
        "outputId": "30b36d62-a4a6-4621-e709-9b3405ebf697"
      },
      "execution_count": null,
      "outputs": [
        {
          "output_type": "execute_result",
          "data": {
            "text/plain": [
              "(<Figure size 750x100 with 1 Axes>, <Axes: >)"
            ]
          },
          "metadata": {},
          "execution_count": 545
        },
        {
          "output_type": "display_data",
          "data": {
            "text/plain": [
              "<Figure size 750x100 with 1 Axes>"
            ],
            "image/png": "[encoded data removed]"
          },
          "metadata": {}
        }
      ]
    },
    {
      "cell_type": "code",
      "source": [
        "data = df['Longitude'].head(10)\n",
        "stemgraphic.stem_graphic(data, scale = 10)"
      ],
      "metadata": {
        "colab": {
          "base_uri": "https://localhost:8080/"
        },
        "id": "6KAb0Nx6OZkW",
        "outputId": "aada3955-e5c2-436c-a300-a9ad30a6dc64"
      },
      "execution_count": null,
      "outputs": [
        {
          "output_type": "execute_result",
          "data": {
            "text/plain": [
              "(<Figure size 750x100 with 1 Axes>, <Axes: >)"
            ]
          },
          "metadata": {},
          "execution_count": 546
        },
        {
          "output_type": "display_data",
          "data": {
            "text/plain": [
              "<Figure size 750x100 with 1 Axes>"
            ],
            "image/png": "[encoded data removed]"
          },
          "metadata": {}
        }
      ]
    },
    {
      "cell_type": "code",
      "source": [
        "data = df['Value'].head(10)\n",
        "stemgraphic.stem_graphic(data, scale = 10)"
      ],
      "metadata": {
        "colab": {
          "base_uri": "https://localhost:8080/"
        },
        "id": "Diloe1hzOUrf",
        "outputId": "74739b76-dd02-493e-94d5-d80612602aab"
      },
      "execution_count": null,
      "outputs": [
        {
          "output_type": "execute_result",
          "data": {
            "text/plain": [
              "(<Figure size 750x125 with 1 Axes>, <Axes: >)"
            ]
          },
          "metadata": {},
          "execution_count": 547
        },
        {
          "output_type": "display_data",
          "data": {
            "text/plain": [
              "<Figure size 750x125 with 1 Axes>"
            ],
            "image/png": "[encoded data removed]"
          },
          "metadata": {}
        }
      ]
    },
    {
      "cell_type": "markdown",
      "source": [
        "**Boxplot**"
      ],
      "metadata": {
        "id": "Z9DEH66-Quaz"
      }
    },
    {
      "cell_type": "code",
      "source": [
        "data = pd.DataFrame(df, columns=['Area ID', 'Latitude', 'Longitude', 'Value'])\n",
        "boxplot = data.boxplot(column=['Area ID', 'Latitude', 'Longitude', 'Value'])"
      ],
      "metadata": {
        "colab": {
          "base_uri": "https://localhost:8080/"
        },
        "id": "5TNYJJQKOjhH",
        "outputId": "dc15312f-5cac-4167-d0e6-a0b10182b230"
      },
      "execution_count": null,
      "outputs": [
        {
          "output_type": "display_data",
          "data": {
            "text/plain": [
              "<Figure size 640x480 with 1 Axes>"
            ],
            "image/png": "[encoded data removed]"
          },
          "metadata": {}
        }
      ]
    },
    {
      "cell_type": "markdown",
      "source": [
        "**Quantile-normal plots**"
      ],
      "metadata": {
        "id": "OqqrFBCeQhl8"
      }
    },
    {
      "cell_type": "code",
      "source": [
        "import numpy as np\n",
        "import statsmodels.api as sm\n",
        "import pylab as py"
      ],
      "metadata": {
        "id": "sbjzwcRJOxqL"
      },
      "execution_count": null,
      "outputs": []
    },
    {
      "cell_type": "code",
      "source": [
        "data_points = df['Area ID']\n",
        "sm.qqplot(data_points, line ='45')\n",
        "py.show()"
      ],
      "metadata": {
        "colab": {
          "base_uri": "https://localhost:8080/"
        },
        "id": "oWcFByLYO2JK",
        "outputId": "312be270-953e-47bb-bb19-930e3e51bb1f"
      },
      "execution_count": null,
      "outputs": [
        {
          "output_type": "display_data",
          "data": {
            "text/plain": [
              "<Figure size 640x480 with 1 Axes>"
            ],
            "image/png": "[encoded data removed]"
          },
          "metadata": {}
        }
      ]
    },
    {
      "cell_type": "code",
      "source": [
        "data_points = df['Latitude']\n",
        "sm.qqplot(data_points, line ='45')\n",
        "py.show()"
      ],
      "metadata": {
        "colab": {
          "base_uri": "https://localhost:8080/"
        },
        "id": "VGZC-sVCO6aq",
        "outputId": "7ca15fc1-0b87-429a-c7ce-1307452f1440"
      },
      "execution_count": null,
      "outputs": [
        {
          "output_type": "display_data",
          "data": {
            "text/plain": [
              "<Figure size 640x480 with 1 Axes>"
            ],
            "image/png": "[encoded data removed]"
          },
          "metadata": {}
        }
      ]
    },
    {
      "cell_type": "code",
      "source": [
        "data_points = df['Longitude']\n",
        "sm.qqplot(data_points, line ='45')\n",
        "py.show()"
      ],
      "metadata": {
        "colab": {
          "base_uri": "https://localhost:8080/"
        },
        "id": "wphfCVnlO796",
        "outputId": "4dd64d47-4939-48ce-c84e-385d6b2a9e93"
      },
      "execution_count": null,
      "outputs": [
        {
          "output_type": "display_data",
          "data": {
            "text/plain": [
              "<Figure size 640x480 with 1 Axes>"
            ],
            "image/png": "[encoded data removed]"
          },
          "metadata": {}
        }
      ]
    },
    {
      "cell_type": "code",
      "source": [
        "data_points = df['Value']\n",
        "sm.qqplot(data_points, line ='45')\n",
        "py.show()"
      ],
      "metadata": {
        "colab": {
          "base_uri": "https://localhost:8080/"
        },
        "id": "zoPuy40AO8j5",
        "outputId": "75c502bd-8246-42bf-f794-d2820601ad38"
      },
      "execution_count": null,
      "outputs": [
        {
          "output_type": "display_data",
          "data": {
            "text/plain": [
              "<Figure size 640x480 with 1 Axes>"
            ],
            "image/png": "[encoded data removed]"
          },
          "metadata": {}
        }
      ]
    },
    {
      "cell_type": "markdown",
      "source": [
        "**Cross Tabulation**"
      ],
      "metadata": {
        "id": "_VjLGZf9QKDL"
      }
    },
    {
      "cell_type": "code",
      "source": [
        "pd.crosstab(df['Area Name'], df['Parameter Description'], margins=True, normalize=False)"
      ],
      "metadata": {
        "colab": {
          "base_uri": "https://localhost:8080/"
        },
        "id": "ApAw9gvsPBty",
        "outputId": "5c3661d9-c336-4fc4-bad5-74a11de70e78"
      },
      "execution_count": null,
      "outputs": [
        {
          "output_type": "execute_result",
          "data": {
            "text/plain": [
              "Parameter Description  Humidity  Max humidity  Max temperature  Min humidity  \\\n",
              "Area Name                                                                      \n",
              "Aceh Barat                   12             3                6             3   \n",
              "Aceh Barat Daya              12             3                6             3   \n",
              "Aceh Besar                   12             3                6             3   \n",
              "Aceh Jaya                    12             3                6             3   \n",
              "Aceh Selatan                 12             3                6             3   \n",
              "Aceh Singkil                 12             3                6             3   \n",
              "Aceh Tamiang                 12             3                6             3   \n",
              "Aceh Tengah                  12             3                6             3   \n",
              "Aceh Tenggara                12             3                6             3   \n",
              "Aceh Timur                   12             3                6             3   \n",
              "Aceh Utara                   12             3                6             3   \n",
              "Banda Aceh                   12             3                6             3   \n",
              "Bener Meriah                 12             3                6             3   \n",
              "Bireun                       12             3                6             3   \n",
              "Gayo Lues                    12             3                6             3   \n",
              "Langsa                       12             3                6             3   \n",
              "Lhokseumawe                  12             3                6             3   \n",
              "Nagan Raya                   12             3                6             3   \n",
              "Pidie                        12             3                6             3   \n",
              "Pidie Jaya                   12             3                6             3   \n",
              "Sabang                       12             3                6             3   \n",
              "Simeulue                     12             3                6             3   \n",
              "Subulussalam                 12             3                6             3   \n",
              "All                         276            69              138            69   \n",
              "\n",
              "Parameter Description  Min temperature  Temperature  Weather  Wind direction  \\\n",
              "Area Name                                                                      \n",
              "Aceh Barat                           6           24       12              36   \n",
              "Aceh Barat Daya                      6           24       12              36   \n",
              "Aceh Besar                           6           24       12              36   \n",
              "Aceh Jaya                            6           24       12              36   \n",
              "Aceh Selatan                         6           24       12              36   \n",
              "Aceh Singkil                         6           24       12              36   \n",
              "Aceh Tamiang                         6           24       12              36   \n",
              "Aceh Tengah                          6           24       12              36   \n",
              "Aceh Tenggara                        6           24       12              36   \n",
              "Aceh Timur                           6           24       12              36   \n",
              "Aceh Utara                           6           24       12              36   \n",
              "Banda Aceh                           6           24       12              36   \n",
              "Bener Meriah                         6           24       12              36   \n",
              "Bireun                               6           24       12              36   \n",
              "Gayo Lues                            6           24       12              36   \n",
              "Langsa                               6           24       12              36   \n",
              "Lhokseumawe                          6           24       12              36   \n",
              "Nagan Raya                           6           24       12              36   \n",
              "Pidie                                6           24       12              36   \n",
              "Pidie Jaya                           6           24       12              36   \n",
              "Sabang                               6           24       12              36   \n",
              "Simeulue                             6           24       12              36   \n",
              "Subulussalam                         6           24       12              36   \n",
              "All                                138          552      276             828   \n",
              "\n",
              "Parameter Description  Wind speed   All  \n",
              "Area Name                                \n",
              "Aceh Barat                     48   150  \n",
              "Aceh Barat Daya                48   150  \n",
              "Aceh Besar                     48   150  \n",
              "Aceh Jaya                      48   150  \n",
              "Aceh Selatan                   48   150  \n",
              "Aceh Singkil                   48   150  \n",
              "Aceh Tamiang                   48   150  \n",
              "Aceh Tengah                    48   150  \n",
              "Aceh Tenggara                  48   150  \n",
              "Aceh Timur                     48   150  \n",
              "Aceh Utara                     48   150  \n",
              "Banda Aceh                     48   150  \n",
              "Bener Meriah                   48   150  \n",
              "Bireun                         48   150  \n",
              "Gayo Lues                      48   150  \n",
              "Langsa                         48   150  \n",
              "Lhokseumawe                    48   150  \n",
              "Nagan Raya                     48   150  \n",
              "Pidie                          48   150  \n",
              "Pidie Jaya                     48   150  \n",
              "Sabang                         48   150  \n",
              "Simeulue                       48   150  \n",
              "Subulussalam                   48   150  \n",
              "All                          1104  3450  "
            ],
            "text/html": [
              "\n",
              "  <div id=\"df-a9c0f104-a7a2-475d-a4c7-3d850b1b1725\" class=\"colab-df-container\">\n",
              "    <div>\n",
              "<style scoped>\n",
              "    .dataframe tbody tr th:only-of-type {\n",
              "        vertical-align: middle;\n",
              "    }\n",
              "\n",
              "    .dataframe tbody tr th {\n",
              "        vertical-align: top;\n",
              "    }\n",
              "\n",
              "    .dataframe thead th {\n",
              "        text-align: right;\n",
              "    }\n",
              "</style>\n",
              "<table border=\"1\" class=\"dataframe\">\n",
              "  <thead>\n",
              "    <tr style=\"text-align: right;\">\n",
              "      <th>Parameter Description</th>\n",
              "      <th>Humidity</th>\n",
              "      <th>Max humidity</th>\n",
              "      <th>Max temperature</th>\n",
              "      <th>Min humidity</th>\n",
              "      <th>Min temperature</th>\n",
              "      <th>Temperature</th>\n",
              "      <th>Weather</th>\n",
              "      <th>Wind direction</th>\n",
              "      <th>Wind speed</th>\n",
              "      <th>All</th>\n",
              "    </tr>\n",
              "    <tr>\n",
              "      <th>Area Name</th>\n",
              "      <th></th>\n",
              "      <th></th>\n",
              "      <th></th>\n",
              "      <th></th>\n",
              "      <th></th>\n",
              "      <th></th>\n",
              "      <th></th>\n",
              "      <th></th>\n",
              "      <th></th>\n",
              "      <th></th>\n",
              "    </tr>\n",
              "  </thead>\n",
              "  <tbody>\n",
              "    <tr>\n",
              "      <th>Aceh Barat</th>\n",
              "      <td>12</td>\n",
              "      <td>3</td>\n",
              "      <td>6</td>\n",
              "      <td>3</td>\n",
              "      <td>6</td>\n",
              "      <td>24</td>\n",
              "      <td>12</td>\n",
              "      <td>36</td>\n",
              "      <td>48</td>\n",
              "      <td>150</td>\n",
              "    </tr>\n",
              "    <tr>\n",
              "      <th>Aceh Barat Daya</th>\n",
              "      <td>12</td>\n",
              "      <td>3</td>\n",
              "      <td>6</td>\n",
              "      <td>3</td>\n",
              "      <td>6</td>\n",
              "      <td>24</td>\n",
              "      <td>12</td>\n",
              "      <td>36</td>\n",
              "      <td>48</td>\n",
              "      <td>150</td>\n",
              "    </tr>\n",
              "    <tr>\n",
              "      <th>Aceh Besar</th>\n",
              "      <td>12</td>\n",
              "      <td>3</td>\n",
              "      <td>6</td>\n",
              "      <td>3</td>\n",
              "      <td>6</td>\n",
              "      <td>24</td>\n",
              "      <td>12</td>\n",
              "      <td>36</td>\n",
              "      <td>48</td>\n",
              "      <td>150</td>\n",
              "    </tr>\n",
              "    <tr>\n",
              "      <th>Aceh Jaya</th>\n",
              "      <td>12</td>\n",
              "      <td>3</td>\n",
              "      <td>6</td>\n",
              "      <td>3</td>\n",
              "      <td>6</td>\n",
              "      <td>24</td>\n",
              "      <td>12</td>\n",
              "      <td>36</td>\n",
              "      <td>48</td>\n",
              "      <td>150</td>\n",
              "    </tr>\n",
              "    <tr>\n",
              "      <th>Aceh Selatan</th>\n",
              "      <td>12</td>\n",
              "      <td>3</td>\n",
              "      <td>6</td>\n",
              "      <td>3</td>\n",
              "      <td>6</td>\n",
              "      <td>24</td>\n",
              "      <td>12</td>\n",
              "      <td>36</td>\n",
              "      <td>48</td>\n",
              "      <td>150</td>\n",
              "    </tr>\n",
              "    <tr>\n",
              "      <th>Aceh Singkil</th>\n",
              "      <td>12</td>\n",
              "      <td>3</td>\n",
              "      <td>6</td>\n",
              "      <td>3</td>\n",
              "      <td>6</td>\n",
              "      <td>24</td>\n",
              "      <td>12</td>\n",
              "      <td>36</td>\n",
              "      <td>48</td>\n",
              "      <td>150</td>\n",
              "    </tr>\n",
              "    <tr>\n",
              "      <th>Aceh Tamiang</th>\n",
              "      <td>12</td>\n",
              "      <td>3</td>\n",
              "      <td>6</td>\n",
              "      <td>3</td>\n",
              "      <td>6</td>\n",
              "      <td>24</td>\n",
              "      <td>12</td>\n",
              "      <td>36</td>\n",
              "      <td>48</td>\n",
              "      <td>150</td>\n",
              "    </tr>\n",
              "    <tr>\n",
              "      <th>Aceh Tengah</th>\n",
              "      <td>12</td>\n",
              "      <td>3</td>\n",
              "      <td>6</td>\n",
              "      <td>3</td>\n",
              "      <td>6</td>\n",
              "      <td>24</td>\n",
              "      <td>12</td>\n",
              "      <td>36</td>\n",
              "      <td>48</td>\n",
              "      <td>150</td>\n",
              "    </tr>\n",
              "    <tr>\n",
              "      <th>Aceh Tenggara</th>\n",
              "      <td>12</td>\n",
              "      <td>3</td>\n",
              "      <td>6</td>\n",
              "      <td>3</td>\n",
              "      <td>6</td>\n",
              "      <td>24</td>\n",
              "      <td>12</td>\n",
              "      <td>36</td>\n",
              "      <td>48</td>\n",
              "      <td>150</td>\n",
              "    </tr>\n",
              "    <tr>\n",
              "      <th>Aceh Timur</th>\n",
              "      <td>12</td>\n",
              "      <td>3</td>\n",
              "      <td>6</td>\n",
              "      <td>3</td>\n",
              "      <td>6</td>\n",
              "      <td>24</td>\n",
              "      <td>12</td>\n",
              "      <td>36</td>\n",
              "      <td>48</td>\n",
              "      <td>150</td>\n",
              "    </tr>\n",
              "    <tr>\n",
              "      <th>Aceh Utara</th>\n",
              "      <td>12</td>\n",
              "      <td>3</td>\n",
              "      <td>6</td>\n",
              "      <td>3</td>\n",
              "      <td>6</td>\n",
              "      <td>24</td>\n",
              "      <td>12</td>\n",
              "      <td>36</td>\n",
              "      <td>48</td>\n",
              "      <td>150</td>\n",
              "    </tr>\n",
              "    <tr>\n",
              "      <th>Banda Aceh</th>\n",
              "      <td>12</td>\n",
              "      <td>3</td>\n",
              "      <td>6</td>\n",
              "      <td>3</td>\n",
              "      <td>6</td>\n",
              "      <td>24</td>\n",
              "      <td>12</td>\n",
              "      <td>36</td>\n",
              "      <td>48</td>\n",
              "      <td>150</td>\n",
              "    </tr>\n",
              "    <tr>\n",
              "      <th>Bener Meriah</th>\n",
              "      <td>12</td>\n",
              "      <td>3</td>\n",
              "      <td>6</td>\n",
              "      <td>3</td>\n",
              "      <td>6</td>\n",
              "      <td>24</td>\n",
              "      <td>12</td>\n",
              "      <td>36</td>\n",
              "      <td>48</td>\n",
              "      <td>150</td>\n",
              "    </tr>\n",
              "    <tr>\n",
              "      <th>Bireun</th>\n",
              "      <td>12</td>\n",
              "      <td>3</td>\n",
              "      <td>6</td>\n",
              "      <td>3</td>\n",
              "      <td>6</td>\n",
              "      <td>24</td>\n",
              "      <td>12</td>\n",
              "      <td>36</td>\n",
              "      <td>48</td>\n",
              "      <td>150</td>\n",
              "    </tr>\n",
              "    <tr>\n",
              "      <th>Gayo Lues</th>\n",
              "      <td>12</td>\n",
              "      <td>3</td>\n",
              "      <td>6</td>\n",
              "      <td>3</td>\n",
              "      <td>6</td>\n",
              "      <td>24</td>\n",
              "      <td>12</td>\n",
              "      <td>36</td>\n",
              "      <td>48</td>\n",
              "      <td>150</td>\n",
              "    </tr>\n",
              "    <tr>\n",
              "      <th>Langsa</th>\n",
              "      <td>12</td>\n",
              "      <td>3</td>\n",
              "      <td>6</td>\n",
              "      <td>3</td>\n",
              "      <td>6</td>\n",
              "      <td>24</td>\n",
              "      <td>12</td>\n",
              "      <td>36</td>\n",
              "      <td>48</td>\n",
              "      <td>150</td>\n",
              "    </tr>\n",
              "    <tr>\n",
              "      <th>Lhokseumawe</th>\n",
              "      <td>12</td>\n",
              "      <td>3</td>\n",
              "      <td>6</td>\n",
              "      <td>3</td>\n",
              "      <td>6</td>\n",
              "      <td>24</td>\n",
              "      <td>12</td>\n",
              "      <td>36</td>\n",
              "      <td>48</td>\n",
              "      <td>150</td>\n",
              "    </tr>\n",
              "    <tr>\n",
              "      <th>Nagan Raya</th>\n",
              "      <td>12</td>\n",
              "      <td>3</td>\n",
              "      <td>6</td>\n",
              "      <td>3</td>\n",
              "      <td>6</td>\n",
              "      <td>24</td>\n",
              "      <td>12</td>\n",
              "      <td>36</td>\n",
              "      <td>48</td>\n",
              "      <td>150</td>\n",
              "    </tr>\n",
              "    <tr>\n",
              "      <th>Pidie</th>\n",
              "      <td>12</td>\n",
              "      <td>3</td>\n",
              "      <td>6</td>\n",
              "      <td>3</td>\n",
              "      <td>6</td>\n",
              "      <td>24</td>\n",
              "      <td>12</td>\n",
              "      <td>36</td>\n",
              "      <td>48</td>\n",
              "      <td>150</td>\n",
              "    </tr>\n",
              "    <tr>\n",
              "      <th>Pidie Jaya</th>\n",
              "      <td>12</td>\n",
              "      <td>3</td>\n",
              "      <td>6</td>\n",
              "      <td>3</td>\n",
              "      <td>6</td>\n",
              "      <td>24</td>\n",
              "      <td>12</td>\n",
              "      <td>36</td>\n",
              "      <td>48</td>\n",
              "      <td>150</td>\n",
              "    </tr>\n",
              "    <tr>\n",
              "      <th>Sabang</th>\n",
              "      <td>12</td>\n",
              "      <td>3</td>\n",
              "      <td>6</td>\n",
              "      <td>3</td>\n",
              "      <td>6</td>\n",
              "      <td>24</td>\n",
              "      <td>12</td>\n",
              "      <td>36</td>\n",
              "      <td>48</td>\n",
              "      <td>150</td>\n",
              "    </tr>\n",
              "    <tr>\n",
              "      <th>Simeulue</th>\n",
              "      <td>12</td>\n",
              "      <td>3</td>\n",
              "      <td>6</td>\n",
              "      <td>3</td>\n",
              "      <td>6</td>\n",
              "      <td>24</td>\n",
              "      <td>12</td>\n",
              "      <td>36</td>\n",
              "      <td>48</td>\n",
              "      <td>150</td>\n",
              "    </tr>\n",
              "    <tr>\n",
              "      <th>Subulussalam</th>\n",
              "      <td>12</td>\n",
              "      <td>3</td>\n",
              "      <td>6</td>\n",
              "      <td>3</td>\n",
              "      <td>6</td>\n",
              "      <td>24</td>\n",
              "      <td>12</td>\n",
              "      <td>36</td>\n",
              "      <td>48</td>\n",
              "      <td>150</td>\n",
              "    </tr>\n",
              "    <tr>\n",
              "      <th>All</th>\n",
              "      <td>276</td>\n",
              "      <td>69</td>\n",
              "      <td>138</td>\n",
              "      <td>69</td>\n",
              "      <td>138</td>\n",
              "      <td>552</td>\n",
              "      <td>276</td>\n",
              "      <td>828</td>\n",
              "      <td>1104</td>\n",
              "      <td>3450</td>\n",
              "    </tr>\n",
              "  </tbody>\n",
              "</table>\n",
              "</div>\n",
              "    <div class=\"colab-df-buttons\">\n",
              "\n",
              "  <div class=\"colab-df-container\">\n",
              "    <button class=\"colab-df-convert\" onclick=\"convertToInteractive('df-a9c0f104-a7a2-475d-a4c7-3d850b1b1725')\"\n",
              "            title=\"Convert this dataframe to an interactive table.\"\n",
              "            style=\"display:none;\">\n",
              "\n",
              "  <svg xmlns=\"http://www.w3.org/2000/svg\" height=\"24px\" viewBox=\"0 -960 960 960\">\n",
              "    <path d=\"M120-120v-720h720v720H120Zm60-500h600v-160H180v160Zm220 220h160v-160H400v160Zm0 220h160v-160H400v160ZM180-400h160v-160H180v160Zm440 0h160v-160H620v160ZM180-180h160v-160H180v160Zm440 0h160v-160H620v160Z\"/>\n",
              "  </svg>\n",
              "    </button>\n",
              "\n",
              "  <style>\n",
              "    .colab-df-container {\n",
              "      display:flex;\n",
              "      gap: 12px;\n",
              "    }\n",
              "\n",
              "    .colab-df-convert {\n",
              "      background-color: #E8F0FE;\n",
              "      border: none;\n",
              "      border-radius: 50%;\n",
              "      cursor: pointer;\n",
              "      display: none;\n",
              "      fill: #1967D2;\n",
              "      height: 32px;\n",
              "      padding: 0 0 0 0;\n",
              "      width: 32px;\n",
              "    }\n",
              "\n",
              "    .colab-df-convert:hover {\n",
              "      background-color: #E2EBFA;\n",
              "      box-shadow: 0px 1px 2px rgba(60, 64, 67, 0.3), 0px 1px 3px 1px rgba(60, 64, 67, 0.15);\n",
              "      fill: #174EA6;\n",
              "    }\n",
              "\n",
              "    .colab-df-buttons div {\n",
              "      margin-bottom: 4px;\n",
              "    }\n",
              "\n",
              "    [theme=dark] .colab-df-convert {\n",
              "      background-color: #3B4455;\n",
              "      fill: #D2E3FC;\n",
              "    }\n",
              "\n",
              "    [theme=dark] .colab-df-convert:hover {\n",
              "      background-color: #434B5C;\n",
              "      box-shadow: 0px 1px 3px 1px rgba(0, 0, 0, 0.15);\n",
              "      filter: drop-shadow(0px 1px 2px rgba(0, 0, 0, 0.3));\n",
              "      fill: #FFFFFF;\n",
              "    }\n",
              "  </style>\n",
              "\n",
              "    <script>\n",
              "      const buttonEl =\n",
              "        document.querySelector('#df-a9c0f104-a7a2-475d-a4c7-3d850b1b1725 button.colab-df-convert');\n",
              "      buttonEl.style.display =\n",
              "        google.colab.kernel.accessAllowed ? 'block' : 'none';\n",
              "\n",
              "      async function convertToInteractive(key) {\n",
              "        const element = document.querySelector('#df-a9c0f104-a7a2-475d-a4c7-3d850b1b1725');\n",
              "        const dataTable =\n",
              "          await google.colab.kernel.invokeFunction('convertToInteractive',\n",
              "                                                    [key], {});\n",
              "        if (!dataTable) return;\n",
              "\n",
              "        const docLinkHtml = 'Like what you see? Visit the ' +\n",
              "          '<a target=\"_blank\" href=https://colab.research.google.com/notebooks/data_table.ipynb>data table notebook</a>'\n",
              "          + ' to learn more about interactive tables.';\n",
              "        element.innerHTML = '';\n",
              "        dataTable['output_type'] = 'display_data';\n",
              "        await google.colab.output.renderOutput(dataTable, element);\n",
              "        const docLink = document.createElement('div');\n",
              "        docLink.innerHTML = docLinkHtml;\n",
              "        element.appendChild(docLink);\n",
              "      }\n",
              "    </script>\n",
              "  </div>\n",
              "\n",
              "\n",
              "<div id=\"df-c662c16c-b084-4e60-863c-10cc38bee8a9\">\n",
              "  <button class=\"colab-df-quickchart\" onclick=\"quickchart('df-c662c16c-b084-4e60-863c-10cc38bee8a9')\"\n",
              "            title=\"Suggest charts.\"\n",
              "            style=\"display:none;\">\n",
              "\n",
              "<svg xmlns=\"http://www.w3.org/2000/svg\" height=\"24px\"viewBox=\"0 0 24 24\"\n",
              "     width=\"24px\">\n",
              "    <g>\n",
              "        <path d=\"M19 3H5c-1.1 0-2 .9-2 2v14c0 1.1.9 2 2 2h14c1.1 0 2-.9 2-2V5c0-1.1-.9-2-2-2zM9 17H7v-7h2v7zm4 0h-2V7h2v10zm4 0h-2v-4h2v4z\"/>\n",
              "    </g>\n",
              "</svg>\n",
              "  </button>\n",
              "\n",
              "<style>\n",
              "  .colab-df-quickchart {\n",
              "      --bg-color: #E8F0FE;\n",
              "      --fill-color: #1967D2;\n",
              "      --hover-bg-color: #E2EBFA;\n",
              "      --hover-fill-color: #174EA6;\n",
              "      --disabled-fill-color: #AAA;\n",
              "      --disabled-bg-color: #DDD;\n",
              "  }\n",
              "\n",
              "  [theme=dark] .colab-df-quickchart {\n",
              "      --bg-color: #3B4455;\n",
              "      --fill-color: #D2E3FC;\n",
              "      --hover-bg-color: #434B5C;\n",
              "      --hover-fill-color: #FFFFFF;\n",
              "      --disabled-bg-color: #3B4455;\n",
              "      --disabled-fill-color: #666;\n",
              "  }\n",
              "\n",
              "  .colab-df-quickchart {\n",
              "    background-color: var(--bg-color);\n",
              "    border: none;\n",
              "    border-radius: 50%;\n",
              "    cursor: pointer;\n",
              "    display: none;\n",
              "    fill: var(--fill-color);\n",
              "    height: 32px;\n",
              "    padding: 0;\n",
              "    width: 32px;\n",
              "  }\n",
              "\n",
              "  .colab-df-quickchart:hover {\n",
              "    background-color: var(--hover-bg-color);\n",
              "    box-shadow: 0 1px 2px rgba(60, 64, 67, 0.3), 0 1px 3px 1px rgba(60, 64, 67, 0.15);\n",
              "    fill: var(--button-hover-fill-color);\n",
              "  }\n",
              "\n",
              "  .colab-df-quickchart-complete:disabled,\n",
              "  .colab-df-quickchart-complete:disabled:hover {\n",
              "    background-color: var(--disabled-bg-color);\n",
              "    fill: var(--disabled-fill-color);\n",
              "    box-shadow: none;\n",
              "  }\n",
              "\n",
              "  .colab-df-spinner {\n",
              "    border: 2px solid var(--fill-color);\n",
              "    border-color: transparent;\n",
              "    border-bottom-color: var(--fill-color);\n",
              "    animation:\n",
              "      spin 1s steps(1) infinite;\n",
              "  }\n",
              "\n",
              "  @keyframes spin {\n",
              "    0% {\n",
              "      border-color: transparent;\n",
              "      border-bottom-color: var(--fill-color);\n",
              "      border-left-color: var(--fill-color);\n",
              "    }\n",
              "    20% {\n",
              "      border-color: transparent;\n",
              "      border-left-color: var(--fill-color);\n",
              "      border-top-color: var(--fill-color);\n",
              "    }\n",
              "    30% {\n",
              "      border-color: transparent;\n",
              "      border-left-color: var(--fill-color);\n",
              "      border-top-color: var(--fill-color);\n",
              "      border-right-color: var(--fill-color);\n",
              "    }\n",
              "    40% {\n",
              "      border-color: transparent;\n",
              "      border-right-color: var(--fill-color);\n",
              "      border-top-color: var(--fill-color);\n",
              "    }\n",
              "    60% {\n",
              "      border-color: transparent;\n",
              "      border-right-color: var(--fill-color);\n",
              "    }\n",
              "    80% {\n",
              "      border-color: transparent;\n",
              "      border-right-color: var(--fill-color);\n",
              "      border-bottom-color: var(--fill-color);\n",
              "    }\n",
              "    90% {\n",
              "      border-color: transparent;\n",
              "      border-bottom-color: var(--fill-color);\n",
              "    }\n",
              "  }\n",
              "</style>\n",
              "\n",
              "  <script>\n",
              "    async function quickchart(key) {\n",
              "      const quickchartButtonEl =\n",
              "        document.querySelector('#' + key + ' button');\n",
              "      quickchartButtonEl.disabled = true;  // To prevent multiple clicks.\n",
              "      quickchartButtonEl.classList.add('colab-df-spinner');\n",
              "      try {\n",
              "        const charts = await google.colab.kernel.invokeFunction(\n",
              "            'suggestCharts', [key], {});\n",
              "      } catch (error) {\n",
              "        console.error('Error during call to suggestCharts:', error);\n",
              "      }\n",
              "      quickchartButtonEl.classList.remove('colab-df-spinner');\n",
              "      quickchartButtonEl.classList.add('colab-df-quickchart-complete');\n",
              "    }\n",
              "    (() => {\n",
              "      let quickchartButtonEl =\n",
              "        document.querySelector('#df-c662c16c-b084-4e60-863c-10cc38bee8a9 button');\n",
              "      quickchartButtonEl.style.display =\n",
              "        google.colab.kernel.accessAllowed ? 'block' : 'none';\n",
              "    })();\n",
              "  </script>\n",
              "</div>\n",
              "    </div>\n",
              "  </div>\n"
            ]
          },
          "metadata": {},
          "execution_count": 554
        }
      ]
    },
    {
      "cell_type": "markdown",
      "source": [
        "**Correlation & Covariance**"
      ],
      "metadata": {
        "id": "L3smE64YQF6G"
      }
    },
    {
      "cell_type": "code",
      "source": [
        "df.corr()"
      ],
      "metadata": {
        "colab": {
          "base_uri": "https://localhost:8080/"
        },
        "id": "7GIYG8CpPE5p",
        "outputId": "7a980281-bb19-41e9-c38e-2eeb66d71ba2"
      },
      "execution_count": null,
      "outputs": [
        {
          "output_type": "execute_result",
          "data": {
            "text/plain": [
              "            Area ID  Latitude  Longitude     Value\n",
              "Area ID    1.000000 -0.169007   0.110159 -0.005412\n",
              "Latitude  -0.169007  1.000000  -0.505222  0.035711\n",
              "Longitude  0.110159 -0.505222   1.000000 -0.016866\n",
              "Value     -0.005412  0.035711  -0.016866  1.000000"
            ],
            "text/html": [
              "\n",
              "  <div id=\"df-a53049a1-0552-40af-8de3-8967fa397b8d\" class=\"colab-df-container\">\n",
              "    <div>\n",
              "<style scoped>\n",
              "    .dataframe tbody tr th:only-of-type {\n",
              "        vertical-align: middle;\n",
              "    }\n",
              "\n",
              "    .dataframe tbody tr th {\n",
              "        vertical-align: top;\n",
              "    }\n",
              "\n",
              "    .dataframe thead th {\n",
              "        text-align: right;\n",
              "    }\n",
              "</style>\n",
              "<table border=\"1\" class=\"dataframe\">\n",
              "  <thead>\n",
              "    <tr style=\"text-align: right;\">\n",
              "      <th></th>\n",
              "      <th>Area ID</th>\n",
              "      <th>Latitude</th>\n",
              "      <th>Longitude</th>\n",
              "      <th>Value</th>\n",
              "    </tr>\n",
              "  </thead>\n",
              "  <tbody>\n",
              "    <tr>\n",
              "      <th>Area ID</th>\n",
              "      <td>1.000000</td>\n",
              "      <td>-0.169007</td>\n",
              "      <td>0.110159</td>\n",
              "      <td>-0.005412</td>\n",
              "    </tr>\n",
              "    <tr>\n",
              "      <th>Latitude</th>\n",
              "      <td>-0.169007</td>\n",
              "      <td>1.000000</td>\n",
              "      <td>-0.505222</td>\n",
              "      <td>0.035711</td>\n",
              "    </tr>\n",
              "    <tr>\n",
              "      <th>Longitude</th>\n",
              "      <td>0.110159</td>\n",
              "      <td>-0.505222</td>\n",
              "      <td>1.000000</td>\n",
              "      <td>-0.016866</td>\n",
              "    </tr>\n",
              "    <tr>\n",
              "      <th>Value</th>\n",
              "      <td>-0.005412</td>\n",
              "      <td>0.035711</td>\n",
              "      <td>-0.016866</td>\n",
              "      <td>1.000000</td>\n",
              "    </tr>\n",
              "  </tbody>\n",
              "</table>\n",
              "</div>\n",
              "    <div class=\"colab-df-buttons\">\n",
              "\n",
              "  <div class=\"colab-df-container\">\n",
              "    <button class=\"colab-df-convert\" onclick=\"convertToInteractive('df-a53049a1-0552-40af-8de3-8967fa397b8d')\"\n",
              "            title=\"Convert this dataframe to an interactive table.\"\n",
              "            style=\"display:none;\">\n",
              "\n",
              "  <svg xmlns=\"http://www.w3.org/2000/svg\" height=\"24px\" viewBox=\"0 -960 960 960\">\n",
              "    <path d=\"M120-120v-720h720v720H120Zm60-500h600v-160H180v160Zm220 220h160v-160H400v160Zm0 220h160v-160H400v160ZM180-400h160v-160H180v160Zm440 0h160v-160H620v160ZM180-180h160v-160H180v160Zm440 0h160v-160H620v160Z\"/>\n",
              "  </svg>\n",
              "    </button>\n",
              "\n",
              "  <style>\n",
              "    .colab-df-container {\n",
              "      display:flex;\n",
              "      gap: 12px;\n",
              "    }\n",
              "\n",
              "    .colab-df-convert {\n",
              "      background-color: #E8F0FE;\n",
              "      border: none;\n",
              "      border-radius: 50%;\n",
              "      cursor: pointer;\n",
              "      display: none;\n",
              "      fill: #1967D2;\n",
              "      height: 32px;\n",
              "      padding: 0 0 0 0;\n",
              "      width: 32px;\n",
              "    }\n",
              "\n",
              "    .colab-df-convert:hover {\n",
              "      background-color: #E2EBFA;\n",
              "      box-shadow: 0px 1px 2px rgba(60, 64, 67, 0.3), 0px 1px 3px 1px rgba(60, 64, 67, 0.15);\n",
              "      fill: #174EA6;\n",
              "    }\n",
              "\n",
              "    .colab-df-buttons div {\n",
              "      margin-bottom: 4px;\n",
              "    }\n",
              "\n",
              "    [theme=dark] .colab-df-convert {\n",
              "      background-color: #3B4455;\n",
              "      fill: #D2E3FC;\n",
              "    }\n",
              "\n",
              "    [theme=dark] .colab-df-convert:hover {\n",
              "      background-color: #434B5C;\n",
              "      box-shadow: 0px 1px 3px 1px rgba(0, 0, 0, 0.15);\n",
              "      filter: drop-shadow(0px 1px 2px rgba(0, 0, 0, 0.3));\n",
              "      fill: #FFFFFF;\n",
              "    }\n",
              "  </style>\n",
              "\n",
              "    <script>\n",
              "      const buttonEl =\n",
              "        document.querySelector('#df-a53049a1-0552-40af-8de3-8967fa397b8d button.colab-df-convert');\n",
              "      buttonEl.style.display =\n",
              "        google.colab.kernel.accessAllowed ? 'block' : 'none';\n",
              "\n",
              "      async function convertToInteractive(key) {\n",
              "        const element = document.querySelector('#df-a53049a1-0552-40af-8de3-8967fa397b8d');\n",
              "        const dataTable =\n",
              "          await google.colab.kernel.invokeFunction('convertToInteractive',\n",
              "                                                    [key], {});\n",
              "        if (!dataTable) return;\n",
              "\n",
              "        const docLinkHtml = 'Like what you see? Visit the ' +\n",
              "          '<a target=\"_blank\" href=https://colab.research.google.com/notebooks/data_table.ipynb>data table notebook</a>'\n",
              "          + ' to learn more about interactive tables.';\n",
              "        element.innerHTML = '';\n",
              "        dataTable['output_type'] = 'display_data';\n",
              "        await google.colab.output.renderOutput(dataTable, element);\n",
              "        const docLink = document.createElement('div');\n",
              "        docLink.innerHTML = docLinkHtml;\n",
              "        element.appendChild(docLink);\n",
              "      }\n",
              "    </script>\n",
              "  </div>\n",
              "\n",
              "\n",
              "<div id=\"df-f9183ac8-ede5-43c4-8e6e-85964cbbd204\">\n",
              "  <button class=\"colab-df-quickchart\" onclick=\"quickchart('df-f9183ac8-ede5-43c4-8e6e-85964cbbd204')\"\n",
              "            title=\"Suggest charts.\"\n",
              "            style=\"display:none;\">\n",
              "\n",
              "<svg xmlns=\"http://www.w3.org/2000/svg\" height=\"24px\"viewBox=\"0 0 24 24\"\n",
              "     width=\"24px\">\n",
              "    <g>\n",
              "        <path d=\"M19 3H5c-1.1 0-2 .9-2 2v14c0 1.1.9 2 2 2h14c1.1 0 2-.9 2-2V5c0-1.1-.9-2-2-2zM9 17H7v-7h2v7zm4 0h-2V7h2v10zm4 0h-2v-4h2v4z\"/>\n",
              "    </g>\n",
              "</svg>\n",
              "  </button>\n",
              "\n",
              "<style>\n",
              "  .colab-df-quickchart {\n",
              "      --bg-color: #E8F0FE;\n",
              "      --fill-color: #1967D2;\n",
              "      --hover-bg-color: #E2EBFA;\n",
              "      --hover-fill-color: #174EA6;\n",
              "      --disabled-fill-color: #AAA;\n",
              "      --disabled-bg-color: #DDD;\n",
              "  }\n",
              "\n",
              "  [theme=dark] .colab-df-quickchart {\n",
              "      --bg-color: #3B4455;\n",
              "      --fill-color: #D2E3FC;\n",
              "      --hover-bg-color: #434B5C;\n",
              "      --hover-fill-color: #FFFFFF;\n",
              "      --disabled-bg-color: #3B4455;\n",
              "      --disabled-fill-color: #666;\n",
              "  }\n",
              "\n",
              "  .colab-df-quickchart {\n",
              "    background-color: var(--bg-color);\n",
              "    border: none;\n",
              "    border-radius: 50%;\n",
              "    cursor: pointer;\n",
              "    display: none;\n",
              "    fill: var(--fill-color);\n",
              "    height: 32px;\n",
              "    padding: 0;\n",
              "    width: 32px;\n",
              "  }\n",
              "\n",
              "  .colab-df-quickchart:hover {\n",
              "    background-color: var(--hover-bg-color);\n",
              "    box-shadow: 0 1px 2px rgba(60, 64, 67, 0.3), 0 1px 3px 1px rgba(60, 64, 67, 0.15);\n",
              "    fill: var(--button-hover-fill-color);\n",
              "  }\n",
              "\n",
              "  .colab-df-quickchart-complete:disabled,\n",
              "  .colab-df-quickchart-complete:disabled:hover {\n",
              "    background-color: var(--disabled-bg-color);\n",
              "    fill: var(--disabled-fill-color);\n",
              "    box-shadow: none;\n",
              "  }\n",
              "\n",
              "  .colab-df-spinner {\n",
              "    border: 2px solid var(--fill-color);\n",
              "    border-color: transparent;\n",
              "    border-bottom-color: var(--fill-color);\n",
              "    animation:\n",
              "      spin 1s steps(1) infinite;\n",
              "  }\n",
              "\n",
              "  @keyframes spin {\n",
              "    0% {\n",
              "      border-color: transparent;\n",
              "      border-bottom-color: var(--fill-color);\n",
              "      border-left-color: var(--fill-color);\n",
              "    }\n",
              "    20% {\n",
              "      border-color: transparent;\n",
              "      border-left-color: var(--fill-color);\n",
              "      border-top-color: var(--fill-color);\n",
              "    }\n",
              "    30% {\n",
              "      border-color: transparent;\n",
              "      border-left-color: var(--fill-color);\n",
              "      border-top-color: var(--fill-color);\n",
              "      border-right-color: var(--fill-color);\n",
              "    }\n",
              "    40% {\n",
              "      border-color: transparent;\n",
              "      border-right-color: var(--fill-color);\n",
              "      border-top-color: var(--fill-color);\n",
              "    }\n",
              "    60% {\n",
              "      border-color: transparent;\n",
              "      border-right-color: var(--fill-color);\n",
              "    }\n",
              "    80% {\n",
              "      border-color: transparent;\n",
              "      border-right-color: var(--fill-color);\n",
              "      border-bottom-color: var(--fill-color);\n",
              "    }\n",
              "    90% {\n",
              "      border-color: transparent;\n",
              "      border-bottom-color: var(--fill-color);\n",
              "    }\n",
              "  }\n",
              "</style>\n",
              "\n",
              "  <script>\n",
              "    async function quickchart(key) {\n",
              "      const quickchartButtonEl =\n",
              "        document.querySelector('#' + key + ' button');\n",
              "      quickchartButtonEl.disabled = true;  // To prevent multiple clicks.\n",
              "      quickchartButtonEl.classList.add('colab-df-spinner');\n",
              "      try {\n",
              "        const charts = await google.colab.kernel.invokeFunction(\n",
              "            'suggestCharts', [key], {});\n",
              "      } catch (error) {\n",
              "        console.error('Error during call to suggestCharts:', error);\n",
              "      }\n",
              "      quickchartButtonEl.classList.remove('colab-df-spinner');\n",
              "      quickchartButtonEl.classList.add('colab-df-quickchart-complete');\n",
              "    }\n",
              "    (() => {\n",
              "      let quickchartButtonEl =\n",
              "        document.querySelector('#df-f9183ac8-ede5-43c4-8e6e-85964cbbd204 button');\n",
              "      quickchartButtonEl.style.display =\n",
              "        google.colab.kernel.accessAllowed ? 'block' : 'none';\n",
              "    })();\n",
              "  </script>\n",
              "</div>\n",
              "    </div>\n",
              "  </div>\n"
            ]
          },
          "metadata": {},
          "execution_count": 555
        }
      ]
    },
    {
      "cell_type": "code",
      "source": [
        "correlation = df['Value'].corr(df['Longitude'])\n",
        "print(f\"Korelasi antara 'Value' dan 'Longitude': {correlation}\")\n",
        "\n",
        "correlation = df['Value'].corr(df['Latitude'])\n",
        "print(f\"Korelasi antara 'Value' dan 'Latitude': {correlation}\")\n",
        "\n",
        "correlation = df['Value'].corr(df['Area ID'])\n",
        "print(f\"Korelasi antara 'Value' dan 'Area ID': {correlation}\")\n",
        "\n",
        "correlation = df['Latitude'].corr(df['Longitude'])\n",
        "print(f\"Korelasi antara 'Latitude' dan 'Longitude': {correlation}\")\n",
        "\n",
        "correlation = df['Area ID'].corr(df['Longitude'])\n",
        "print(f\"Korelasi antara 'Area Id' dan 'Longitude': {correlation}\")\n",
        "\n",
        "correlation = df['Area ID'].corr(df['Latitude'])\n",
        "print(f\"Korelasi antara 'Area Id' dan 'Latitude': {correlation}\")"
      ],
      "metadata": {
        "colab": {
          "base_uri": "https://localhost:8080/"
        },
        "id": "bM_XjwjyPHca",
        "outputId": "b42c92f3-a54e-4b36-fe88-64b4bbb937e4"
      },
      "execution_count": null,
      "outputs": [
        {
          "output_type": "stream",
          "name": "stdout",
          "text": [
            "Korelasi antara 'Value' dan 'Longitude': -0.01686606229647736\n",
            "Korelasi antara 'Value' dan 'Latitude': 0.035710503897373916\n",
            "Korelasi antara 'Value' dan 'Area ID': -0.00541186426639935\n",
            "Korelasi antara 'Latitude' dan 'Longitude': -0.5052218377646214\n",
            "Korelasi antara 'Area Id' dan 'Longitude': 0.11015938128589639\n",
            "Korelasi antara 'Area Id' dan 'Latitude': -0.16900650661052907\n"
          ]
        }
      ]
    },
    {
      "cell_type": "code",
      "source": [
        "import seaborn as sn\n",
        "import matplotlib.pyplot as plt\n",
        "\n",
        "plt.figure(figsize=(15,10))\n",
        "corrMatrix = df.corr()\n",
        "sn.heatmap(corrMatrix, annot=True)\n",
        "plt.show()"
      ],
      "metadata": {
        "colab": {
          "base_uri": "https://localhost:8080/"
        },
        "id": "8jSDn9rkPOg5",
        "outputId": "eb955fc1-c251-4093-9394-a9734d5b0587"
      },
      "execution_count": null,
      "outputs": [
        {
          "output_type": "display_data",
          "data": {
            "text/plain": [
              "<Figure size 1500x1000 with 2 Axes>"
            ],
            "image/png": "[encoded data removed]"
          },
          "metadata": {}
        }
      ]
    },
    {
      "cell_type": "markdown",
      "source": [
        "**Scatter Plot**"
      ],
      "metadata": {
        "id": "-SP62HqERmAj"
      }
    },
    {
      "cell_type": "code",
      "source": [
        "import pandas as pd\n",
        "import matplotlib.pyplot as plot"
      ],
      "metadata": {
        "id": "bXcqmJrLPyfd"
      },
      "execution_count": null,
      "outputs": []
    },
    {
      "cell_type": "code",
      "source": [
        "dataFrame = pd.DataFrame(data=df, columns=['Latitude','Longitude']);\n",
        "dataFrame.plot.scatter(x='Latitude', y='Longitude', title= \"Scatter plot between two variables Months_on_book and Customer_Age\");\n",
        "plot.show(block=True);"
      ],
      "metadata": {
        "colab": {
          "base_uri": "https://localhost:8080/"
        },
        "id": "vexwB3ZJRoex",
        "outputId": "a35aaf38-0203-4c4a-dd73-e3cc2b599af3"
      },
      "execution_count": null,
      "outputs": [
        {
          "output_type": "display_data",
          "data": {
            "text/plain": [
              "<Figure size 640x480 with 1 Axes>"
            ],
            "image/png": "[encoded data removed]"
          },
          "metadata": {}
        }
      ]
    },
    {
      "cell_type": "code",
      "source": [
        "dataFrame = pd.DataFrame(data=df, columns=['Value','Longitude']);\n",
        "dataFrame.plot.scatter(x='Value', y='Longitude', title= \"Scatter plot between two variables Total_Trans_Amt and Total_Trans_Ct\");\n",
        "plot.show(block=True);"
      ],
      "metadata": {
        "colab": {
          "base_uri": "https://localhost:8080/"
        },
        "id": "JTztKLFvRwkd",
        "outputId": "b0d6255c-f573-4ae7-97f8-fe53814056fd"
      },
      "execution_count": null,
      "outputs": [
        {
          "output_type": "display_data",
          "data": {
            "text/plain": [
              "<Figure size 640x480 with 1 Axes>"
            ],
            "image/png": "[encoded data removed]"
          },
          "metadata": {}
        }
      ]
    },
    {
      "cell_type": "code",
      "source": [
        "dataFrame = pd.DataFrame(data=df, columns=['Latitude','Value']);\n",
        "dataFrame.plot.scatter(x='Latitude', y='Value', title= \"Scatter plot between two variables Total_Trans_Amt and Total_Trans_Ct\");\n",
        "plot.show(block=True);"
      ],
      "metadata": {
        "colab": {
          "base_uri": "https://localhost:8080/"
        },
        "id": "_8xFLm_yRyuK",
        "outputId": "8ea6dff4-d313-41b2-b51d-0a0db93f09e6"
      },
      "execution_count": null,
      "outputs": [
        {
          "output_type": "display_data",
          "data": {
            "text/plain": [
              "<Figure size 640x480 with 1 Axes>"
            ],
            "image/png": "[encoded data removed]"
          },
          "metadata": {}
        }
      ]
    },
    {
      "cell_type": "code",
      "source": [
        "dataFrame = pd.DataFrame(data=df, columns=['Area ID','Value']);\n",
        "dataFrame.plot.scatter(x='Area ID', y='Value', title= \"Scatter plot between two variables Total_Trans_Amt and Total_Trans_Ct\");\n",
        "plot.show(block=True);"
      ],
      "metadata": {
        "colab": {
          "base_uri": "https://localhost:8080/"
        },
        "id": "XK4v2QXjR1HI",
        "outputId": "ed6228d8-377b-4fc2-b0cf-f9266bdfef1f"
      },
      "execution_count": null,
      "outputs": [
        {
          "output_type": "display_data",
          "data": {
            "text/plain": [
              "<Figure size 640x480 with 1 Axes>"
            ],
            "image/png": "[encoded data removed]"
          },
          "metadata": {}
        }
      ]
    },
    {
      "cell_type": "markdown",
      "source": [
        "# **R E G R E S S I O N   &   C L U S T E R I N G**"
      ],
      "metadata": {
        "id": "peUSUbb7fG6x"
      }
    },
    {
      "cell_type": "markdown",
      "source": [
        "##### Regression"
      ],
      "metadata": {
        "id": "FxRZC-M_yhXX"
      }
    },
    {
      "cell_type": "code",
      "source": [
        "pip install --upgrade ipython"
      ],
      "metadata": {
        "colab": {
          "base_uri": "https://localhost:8080/"
        },
        "id": "Te72HQPv2nv1",
        "outputId": "8f0b74b9-4f41-4015-8242-ffebf12ea524"
      },
      "execution_count": null,
      "outputs": [
        {
          "output_type": "stream",
          "name": "stdout",
          "text": [
            "Requirement already satisfied: ipython in /usr/local/lib/python3.10/dist-packages (8.15.0)\n",
            "Requirement already satisfied: backcall in /usr/local/lib/python3.10/dist-packages (from ipython) (0.2.0)\n",
            "Requirement already satisfied: decorator in /usr/local/lib/python3.10/dist-packages (from ipython) (4.4.2)\n",
            "Requirement already satisfied: jedi>=0.16 in /usr/local/lib/python3.10/dist-packages (from ipython) (0.19.0)\n",
            "Requirement already satisfied: matplotlib-inline in /usr/local/lib/python3.10/dist-packages (from ipython) (0.1.6)\n",
            "Requirement already satisfied: pickleshare in /usr/local/lib/python3.10/dist-packages (from ipython) (0.7.5)\n",
            "Requirement already satisfied: prompt-toolkit!=3.0.37,<3.1.0,>=3.0.30 in /usr/local/lib/python3.10/dist-packages (from ipython) (3.0.39)\n",
            "Requirement already satisfied: pygments>=2.4.0 in /usr/local/lib/python3.10/dist-packages (from ipython) (2.16.1)\n",
            "Requirement already satisfied: stack-data in /usr/local/lib/python3.10/dist-packages (from ipython) (0.6.2)\n",
            "Requirement already satisfied: traitlets>=5 in /usr/local/lib/python3.10/dist-packages (from ipython) (5.7.1)\n",
            "Requirement already satisfied: exceptiongroup in /usr/local/lib/python3.10/dist-packages (from ipython) (1.1.3)\n",
            "Requirement already satisfied: pexpect>4.3 in /usr/local/lib/python3.10/dist-packages (from ipython) (4.8.0)\n",
            "Requirement already satisfied: parso<0.9.0,>=0.8.3 in /usr/local/lib/python3.10/dist-packages (from jedi>=0.16->ipython) (0.8.3)\n",
            "Requirement already satisfied: ptyprocess>=0.5 in /usr/local/lib/python3.10/dist-packages (from pexpect>4.3->ipython) (0.7.0)\n",
            "Requirement already satisfied: wcwidth in /usr/local/lib/python3.10/dist-packages (from prompt-toolkit!=3.0.37,<3.1.0,>=3.0.30->ipython) (0.2.6)\n",
            "Requirement already satisfied: executing>=1.2.0 in /usr/local/lib/python3.10/dist-packages (from stack-data->ipython) (1.2.0)\n",
            "Requirement already satisfied: asttokens>=2.1.0 in /usr/local/lib/python3.10/dist-packages (from stack-data->ipython) (2.4.0)\n",
            "Requirement already satisfied: pure-eval in /usr/local/lib/python3.10/dist-packages (from stack-data->ipython) (0.2.2)\n",
            "Requirement already satisfied: six>=1.12.0 in /usr/local/lib/python3.10/dist-packages (from asttokens>=2.1.0->stack-data->ipython) (1.16.0)\n"
          ]
        }
      ]
    },
    {
      "cell_type": "code",
      "source": [
        "import pandas as pd\n",
        "import numpy as np\n",
        "import matplotlib.pyplot as plt\n",
        "import plotly.express as px\n",
        "from sklearn import linear_model\n",
        "from sklearn.linear_model import LinearRegression\n",
        "from sklearn.model_selection import train_test_split\n",
        "from sklearn.preprocessing import StandardScaler\n",
        "from sklearn.metrics import mean_squared_error, r2_score, mean_absolute_error\n",
        "import datetime\n"
      ],
      "metadata": {
        "id": "yfxOKB3IynZr"
      },
      "execution_count": null,
      "outputs": []
    },
    {
      "cell_type": "code",
      "source": [
        "df.describe()"
      ],
      "metadata": {
        "colab": {
          "base_uri": "https://localhost:8080/",
          "height": 300
        },
        "id": "flqFCAIOyzFR",
        "outputId": "ed294581-2b5c-4e81-a8e6-1bb172e887c4"
      },
      "execution_count": null,
      "outputs": [
        {
          "output_type": "execute_result",
          "data": {
            "text/plain": [
              "             Area ID     Latitude    Longitude         Value\n",
              "count    3450.000000  3450.000000  3450.000000   3174.000000\n",
              "mean   501424.260870     4.372097    96.801035   1312.572409\n",
              "std        56.238436     0.978207     0.875484   5044.956382\n",
              "min    501397.000000     2.310000    95.295350      0.000000\n",
              "25%    501402.000000     3.740000    96.124878      2.572222\n",
              "50%    501408.000000     4.566930    96.860000     25.000000\n",
              "75%    501414.000000     5.230000    97.756348     82.400000\n",
              "max    501606.000000     5.838860    98.065338  33730.000000"
            ],
            "text/html": [
              "\n",
              "  <div id=\"df-e543a3f2-dc7d-444b-8eb3-f4b577c340b0\" class=\"colab-df-container\">\n",
              "    <div>\n",
              "<style scoped>\n",
              "    .dataframe tbody tr th:only-of-type {\n",
              "        vertical-align: middle;\n",
              "    }\n",
              "\n",
              "    .dataframe tbody tr th {\n",
              "        vertical-align: top;\n",
              "    }\n",
              "\n",
              "    .dataframe thead th {\n",
              "        text-align: right;\n",
              "    }\n",
              "</style>\n",
              "<table border=\"1\" class=\"dataframe\">\n",
              "  <thead>\n",
              "    <tr style=\"text-align: right;\">\n",
              "      <th></th>\n",
              "      <th>Area ID</th>\n",
              "      <th>Latitude</th>\n",
              "      <th>Longitude</th>\n",
              "      <th>Value</th>\n",
              "    </tr>\n",
              "  </thead>\n",
              "  <tbody>\n",
              "    <tr>\n",
              "      <th>count</th>\n",
              "      <td>3450.000000</td>\n",
              "      <td>3450.000000</td>\n",
              "      <td>3450.000000</td>\n",
              "      <td>3174.000000</td>\n",
              "    </tr>\n",
              "    <tr>\n",
              "      <th>mean</th>\n",
              "      <td>501424.260870</td>\n",
              "      <td>4.372097</td>\n",
              "      <td>96.801035</td>\n",
              "      <td>1312.572409</td>\n",
              "    </tr>\n",
              "    <tr>\n",
              "      <th>std</th>\n",
              "      <td>56.238436</td>\n",
              "      <td>0.978207</td>\n",
              "      <td>0.875484</td>\n",
              "      <td>5044.956382</td>\n",
              "    </tr>\n",
              "    <tr>\n",
              "      <th>min</th>\n",
              "      <td>501397.000000</td>\n",
              "      <td>2.310000</td>\n",
              "      <td>95.295350</td>\n",
              "      <td>0.000000</td>\n",
              "    </tr>\n",
              "    <tr>\n",
              "      <th>25%</th>\n",
              "      <td>501402.000000</td>\n",
              "      <td>3.740000</td>\n",
              "      <td>96.124878</td>\n",
              "      <td>2.572222</td>\n",
              "    </tr>\n",
              "    <tr>\n",
              "      <th>50%</th>\n",
              "      <td>501408.000000</td>\n",
              "      <td>4.566930</td>\n",
              "      <td>96.860000</td>\n",
              "      <td>25.000000</td>\n",
              "    </tr>\n",
              "    <tr>\n",
              "      <th>75%</th>\n",
              "      <td>501414.000000</td>\n",
              "      <td>5.230000</td>\n",
              "      <td>97.756348</td>\n",
              "      <td>82.400000</td>\n",
              "    </tr>\n",
              "    <tr>\n",
              "      <th>max</th>\n",
              "      <td>501606.000000</td>\n",
              "      <td>5.838860</td>\n",
              "      <td>98.065338</td>\n",
              "      <td>33730.000000</td>\n",
              "    </tr>\n",
              "  </tbody>\n",
              "</table>\n",
              "</div>\n",
              "    <div class=\"colab-df-buttons\">\n",
              "\n",
              "  <div class=\"colab-df-container\">\n",
              "    <button class=\"colab-df-convert\" onclick=\"convertToInteractive('df-e543a3f2-dc7d-444b-8eb3-f4b577c340b0')\"\n",
              "            title=\"Convert this dataframe to an interactive table.\"\n",
              "            style=\"display:none;\">\n",
              "\n",
              "  <svg xmlns=\"http://www.w3.org/2000/svg\" height=\"24px\" viewBox=\"0 -960 960 960\">\n",
              "    <path d=\"M120-120v-720h720v720H120Zm60-500h600v-160H180v160Zm220 220h160v-160H400v160Zm0 220h160v-160H400v160ZM180-400h160v-160H180v160Zm440 0h160v-160H620v160ZM180-180h160v-160H180v160Zm440 0h160v-160H620v160Z\"/>\n",
              "  </svg>\n",
              "    </button>\n",
              "\n",
              "  <style>\n",
              "    .colab-df-container {\n",
              "      display:flex;\n",
              "      gap: 12px;\n",
              "    }\n",
              "\n",
              "    .colab-df-convert {\n",
              "      background-color: #E8F0FE;\n",
              "      border: none;\n",
              "      border-radius: 50%;\n",
              "      cursor: pointer;\n",
              "      display: none;\n",
              "      fill: #1967D2;\n",
              "      height: 32px;\n",
              "      padding: 0 0 0 0;\n",
              "      width: 32px;\n",
              "    }\n",
              "\n",
              "    .colab-df-convert:hover {\n",
              "      background-color: #E2EBFA;\n",
              "      box-shadow: 0px 1px 2px rgba(60, 64, 67, 0.3), 0px 1px 3px 1px rgba(60, 64, 67, 0.15);\n",
              "      fill: #174EA6;\n",
              "    }\n",
              "\n",
              "    .colab-df-buttons div {\n",
              "      margin-bottom: 4px;\n",
              "    }\n",
              "\n",
              "    [theme=dark] .colab-df-convert {\n",
              "      background-color: #3B4455;\n",
              "      fill: #D2E3FC;\n",
              "    }\n",
              "\n",
              "    [theme=dark] .colab-df-convert:hover {\n",
              "      background-color: #434B5C;\n",
              "      box-shadow: 0px 1px 3px 1px rgba(0, 0, 0, 0.15);\n",
              "      filter: drop-shadow(0px 1px 2px rgba(0, 0, 0, 0.3));\n",
              "      fill: #FFFFFF;\n",
              "    }\n",
              "  </style>\n",
              "\n",
              "    <script>\n",
              "      const buttonEl =\n",
              "        document.querySelector('#df-e543a3f2-dc7d-444b-8eb3-f4b577c340b0 button.colab-df-convert');\n",
              "      buttonEl.style.display =\n",
              "        google.colab.kernel.accessAllowed ? 'block' : 'none';\n",
              "\n",
              "      async function convertToInteractive(key) {\n",
              "        const element = document.querySelector('#df-e543a3f2-dc7d-444b-8eb3-f4b577c340b0');\n",
              "        const dataTable =\n",
              "          await google.colab.kernel.invokeFunction('convertToInteractive',\n",
              "                                                    [key], {});\n",
              "        if (!dataTable) return;\n",
              "\n",
              "        const docLinkHtml = 'Like what you see? Visit the ' +\n",
              "          '<a target=\"_blank\" href=https://colab.research.google.com/notebooks/data_table.ipynb>data table notebook</a>'\n",
              "          + ' to learn more about interactive tables.';\n",
              "        element.innerHTML = '';\n",
              "        dataTable['output_type'] = 'display_data';\n",
              "        await google.colab.output.renderOutput(dataTable, element);\n",
              "        const docLink = document.createElement('div');\n",
              "        docLink.innerHTML = docLinkHtml;\n",
              "        element.appendChild(docLink);\n",
              "      }\n",
              "    </script>\n",
              "  </div>\n",
              "\n",
              "\n",
              "<div id=\"df-8d509333-bd94-4735-87d1-43249abb11e9\">\n",
              "  <button class=\"colab-df-quickchart\" onclick=\"quickchart('df-8d509333-bd94-4735-87d1-43249abb11e9')\"\n",
              "            title=\"Suggest charts.\"\n",
              "            style=\"display:none;\">\n",
              "\n",
              "<svg xmlns=\"http://www.w3.org/2000/svg\" height=\"24px\"viewBox=\"0 0 24 24\"\n",
              "     width=\"24px\">\n",
              "    <g>\n",
              "        <path d=\"M19 3H5c-1.1 0-2 .9-2 2v14c0 1.1.9 2 2 2h14c1.1 0 2-.9 2-2V5c0-1.1-.9-2-2-2zM9 17H7v-7h2v7zm4 0h-2V7h2v10zm4 0h-2v-4h2v4z\"/>\n",
              "    </g>\n",
              "</svg>\n",
              "  </button>\n",
              "\n",
              "<style>\n",
              "  .colab-df-quickchart {\n",
              "      --bg-color: #E8F0FE;\n",
              "      --fill-color: #1967D2;\n",
              "      --hover-bg-color: #E2EBFA;\n",
              "      --hover-fill-color: #174EA6;\n",
              "      --disabled-fill-color: #AAA;\n",
              "      --disabled-bg-color: #DDD;\n",
              "  }\n",
              "\n",
              "  [theme=dark] .colab-df-quickchart {\n",
              "      --bg-color: #3B4455;\n",
              "      --fill-color: #D2E3FC;\n",
              "      --hover-bg-color: #434B5C;\n",
              "      --hover-fill-color: #FFFFFF;\n",
              "      --disabled-bg-color: #3B4455;\n",
              "      --disabled-fill-color: #666;\n",
              "  }\n",
              "\n",
              "  .colab-df-quickchart {\n",
              "    background-color: var(--bg-color);\n",
              "    border: none;\n",
              "    border-radius: 50%;\n",
              "    cursor: pointer;\n",
              "    display: none;\n",
              "    fill: var(--fill-color);\n",
              "    height: 32px;\n",
              "    padding: 0;\n",
              "    width: 32px;\n",
              "  }\n",
              "\n",
              "  .colab-df-quickchart:hover {\n",
              "    background-color: var(--hover-bg-color);\n",
              "    box-shadow: 0 1px 2px rgba(60, 64, 67, 0.3), 0 1px 3px 1px rgba(60, 64, 67, 0.15);\n",
              "    fill: var(--button-hover-fill-color);\n",
              "  }\n",
              "\n",
              "  .colab-df-quickchart-complete:disabled,\n",
              "  .colab-df-quickchart-complete:disabled:hover {\n",
              "    background-color: var(--disabled-bg-color);\n",
              "    fill: var(--disabled-fill-color);\n",
              "    box-shadow: none;\n",
              "  }\n",
              "\n",
              "  .colab-df-spinner {\n",
              "    border: 2px solid var(--fill-color);\n",
              "    border-color: transparent;\n",
              "    border-bottom-color: var(--fill-color);\n",
              "    animation:\n",
              "      spin 1s steps(1) infinite;\n",
              "  }\n",
              "\n",
              "  @keyframes spin {\n",
              "    0% {\n",
              "      border-color: transparent;\n",
              "      border-bottom-color: var(--fill-color);\n",
              "      border-left-color: var(--fill-color);\n",
              "    }\n",
              "    20% {\n",
              "      border-color: transparent;\n",
              "      border-left-color: var(--fill-color);\n",
              "      border-top-color: var(--fill-color);\n",
              "    }\n",
              "    30% {\n",
              "      border-color: transparent;\n",
              "      border-left-color: var(--fill-color);\n",
              "      border-top-color: var(--fill-color);\n",
              "      border-right-color: var(--fill-color);\n",
              "    }\n",
              "    40% {\n",
              "      border-color: transparent;\n",
              "      border-right-color: var(--fill-color);\n",
              "      border-top-color: var(--fill-color);\n",
              "    }\n",
              "    60% {\n",
              "      border-color: transparent;\n",
              "      border-right-color: var(--fill-color);\n",
              "    }\n",
              "    80% {\n",
              "      border-color: transparent;\n",
              "      border-right-color: var(--fill-color);\n",
              "      border-bottom-color: var(--fill-color);\n",
              "    }\n",
              "    90% {\n",
              "      border-color: transparent;\n",
              "      border-bottom-color: var(--fill-color);\n",
              "    }\n",
              "  }\n",
              "</style>\n",
              "\n",
              "  <script>\n",
              "    async function quickchart(key) {\n",
              "      const quickchartButtonEl =\n",
              "        document.querySelector('#' + key + ' button');\n",
              "      quickchartButtonEl.disabled = true;  // To prevent multiple clicks.\n",
              "      quickchartButtonEl.classList.add('colab-df-spinner');\n",
              "      try {\n",
              "        const charts = await google.colab.kernel.invokeFunction(\n",
              "            'suggestCharts', [key], {});\n",
              "      } catch (error) {\n",
              "        console.error('Error during call to suggestCharts:', error);\n",
              "      }\n",
              "      quickchartButtonEl.classList.remove('colab-df-spinner');\n",
              "      quickchartButtonEl.classList.add('colab-df-quickchart-complete');\n",
              "    }\n",
              "    (() => {\n",
              "      let quickchartButtonEl =\n",
              "        document.querySelector('#df-8d509333-bd94-4735-87d1-43249abb11e9 button');\n",
              "      quickchartButtonEl.style.display =\n",
              "        google.colab.kernel.accessAllowed ? 'block' : 'none';\n",
              "    })();\n",
              "  </script>\n",
              "</div>\n",
              "    </div>\n",
              "  </div>\n"
            ]
          },
          "metadata": {},
          "execution_count": 565
        }
      ]
    },
    {
      "cell_type": "code",
      "source": [
        "df = df.dropna(subset=['Value'])"
      ],
      "metadata": {
        "id": "D8D6H17Z09cD"
      },
      "execution_count": null,
      "outputs": []
    },
    {
      "cell_type": "code",
      "source": [
        "x=df['Area ID'].values.reshape(-1,1)\n",
        "y=df['Value'].values.reshape(-1,1)"
      ],
      "metadata": {
        "id": "kLAQAikqzcGj"
      },
      "execution_count": null,
      "outputs": []
    },
    {
      "cell_type": "code",
      "source": [
        "future_dates = ()\n",
        "\n",
        "future_dates = np.array(future_dates).reshape(-1, 1)"
      ],
      "metadata": {
        "id": "Pvu9tuh4FmID"
      },
      "execution_count": null,
      "outputs": []
    },
    {
      "cell_type": "markdown",
      "source": [
        "**Linear Regression**"
      ],
      "metadata": {
        "id": "WoBfPcsR4FCR"
      }
    },
    {
      "cell_type": "code",
      "source": [
        "lm = linear_model.LinearRegression()\n",
        "model = lm.fit(x,y)"
      ],
      "metadata": {
        "id": "W6CrFdhx2d4m"
      },
      "execution_count": null,
      "outputs": []
    },
    {
      "cell_type": "code",
      "source": [
        "a = lm.intercept_\n",
        "a"
      ],
      "metadata": {
        "colab": {
          "base_uri": "https://localhost:8080/"
        },
        "id": "auT1Hzb_2fPB",
        "outputId": "5b72c586-c534-4036-8328-27b7aba5f921"
      },
      "execution_count": null,
      "outputs": [
        {
          "output_type": "execute_result",
          "data": {
            "text/plain": [
              "array([244740.80269474])"
            ]
          },
          "metadata": {},
          "execution_count": 570
        }
      ]
    },
    {
      "cell_type": "code",
      "source": [
        "b = lm.coef_\n",
        "b"
      ],
      "metadata": {
        "colab": {
          "base_uri": "https://localhost:8080/"
        },
        "id": "frhfv8zc23Yt",
        "outputId": "e6d36f46-f34b-4048-945d-6b9441aa8240"
      },
      "execution_count": null,
      "outputs": [
        {
          "output_type": "execute_result",
          "data": {
            "text/plain": [
              "array([[-0.48547358]])"
            ]
          },
          "metadata": {},
          "execution_count": 571
        }
      ]
    },
    {
      "cell_type": "code",
      "source": [
        "y_prediksi = model.predict(x)\n",
        "plt.scatter(x,y)\n",
        "plt.plot(x, y_prediksi, c='r')\n",
        "plt.xlabel('Area ID')\n",
        "plt.ylabel('Value')\n",
        "plt.title('Area ID vs Value')"
      ],
      "metadata": {
        "colab": {
          "base_uri": "https://localhost:8080/",
          "height": 497
        },
        "id": "54oW48nk26rb",
        "outputId": "fc988a60-67f4-4391-f484-e1723ec4c1fa"
      },
      "execution_count": null,
      "outputs": [
        {
          "output_type": "execute_result",
          "data": {
            "text/plain": [
              "Text(0.5, 1.0, 'Area ID vs Value')"
            ]
          },
          "metadata": {},
          "execution_count": 572
        },
        {
          "output_type": "display_data",
          "data": {
            "text/plain": [
              "<Figure size 640x480 with 1 Axes>"
            ],
            "image/png": "[encoded data removed]"
          },
          "metadata": {}
        }
      ]
    },
    {
      "cell_type": "code",
      "source": [
        "MSE = mean_squared_error(y, y_prediksi)\n",
        "R2 = r2_score(y, y_prediksi)\n",
        "MAE = mean_absolute_error(y, y_prediksi)"
      ],
      "metadata": {
        "id": "WBAnXc4Y3OpI"
      },
      "execution_count": null,
      "outputs": []
    },
    {
      "cell_type": "code",
      "source": [
        "MSE"
      ],
      "metadata": {
        "colab": {
          "base_uri": "https://localhost:8080/"
        },
        "id": "tJLlq1XN3PhO",
        "outputId": "08def5ce-869f-463a-df5f-d35cd1e90c72"
      },
      "execution_count": null,
      "outputs": [
        {
          "output_type": "execute_result",
          "data": {
            "text/plain": [
              "25442820.924960326"
            ]
          },
          "metadata": {},
          "execution_count": 574
        }
      ]
    },
    {
      "cell_type": "code",
      "source": [
        "R2"
      ],
      "metadata": {
        "colab": {
          "base_uri": "https://localhost:8080/"
        },
        "id": "yi7DhCBg4cbG",
        "outputId": "e4315306-16ab-4cf2-89a7-aa7960b37aeb"
      },
      "execution_count": null,
      "outputs": [
        {
          "output_type": "execute_result",
          "data": {
            "text/plain": [
              "2.9288274837946382e-05"
            ]
          },
          "metadata": {},
          "execution_count": 575
        }
      ]
    },
    {
      "cell_type": "code",
      "source": [
        "MAE"
      ],
      "metadata": {
        "colab": {
          "base_uri": "https://localhost:8080/"
        },
        "id": "A3lvdjso-Q10",
        "outputId": "88fa1062-7522-4dfa-bc49-9ca1c6166f26"
      },
      "execution_count": null,
      "outputs": [
        {
          "output_type": "execute_result",
          "data": {
            "text/plain": [
              "2342.7919942386293"
            ]
          },
          "metadata": {},
          "execution_count": 576
        }
      ]
    },
    {
      "cell_type": "markdown",
      "source": [
        "###### Prediksi 1 bulan ke depan"
      ],
      "metadata": {
        "id": "BY1t2hhf4d87"
      }
    },
    {
      "cell_type": "code",
      "source": [
        "import pandas as pd\n",
        "from datetime import datetime, timedelta"
      ],
      "metadata": {
        "id": "hKmNPMwI6c6k"
      },
      "execution_count": null,
      "outputs": []
    },
    {
      "cell_type": "code",
      "source": [
        "tanggal_awal = datetime(2023, 9, 8)"
      ],
      "metadata": {
        "id": "6hR7-jEo38dd"
      },
      "execution_count": null,
      "outputs": []
    },
    {
      "cell_type": "code",
      "source": [
        "tanggal_akhir = tanggal_awal + timedelta(days=30)"
      ],
      "metadata": {
        "id": "RRV2ODNL6ses"
      },
      "execution_count": null,
      "outputs": []
    },
    {
      "cell_type": "code",
      "source": [
        "prediksi_suhu_30_hari = df['Value'].mean()"
      ],
      "metadata": {
        "id": "UGLbxaBS8pLQ"
      },
      "execution_count": null,
      "outputs": []
    },
    {
      "cell_type": "code",
      "source": [
        "print(f\"Prediksi suhu 30 hari ke depan: {prediksi_suhu_30_hari:.2f} Celsius\")"
      ],
      "metadata": {
        "colab": {
          "base_uri": "https://localhost:8080/"
        },
        "id": "uMCARFgN4Q5A",
        "outputId": "e2e11c57-8c25-4956-fea4-20c1c63c344c"
      },
      "execution_count": null,
      "outputs": [
        {
          "output_type": "stream",
          "name": "stdout",
          "text": [
            "Prediksi suhu 30 hari ke depan: 1312.57 Celsius\n"
          ]
        }
      ]
    },
    {
      "cell_type": "markdown",
      "source": [
        "##### Clustering"
      ],
      "metadata": {
        "id": "y42DKriE8GCE"
      }
    },
    {
      "cell_type": "code",
      "source": [
        "pip install --upgrade ipython"
      ],
      "metadata": {
        "colab": {
          "base_uri": "https://localhost:8080/"
        },
        "id": "N7746GhSNg1I",
        "outputId": "aa7ebb3b-f888-40d2-ae47-df43c309df34"
      },
      "execution_count": null,
      "outputs": [
        {
          "output_type": "stream",
          "name": "stdout",
          "text": [
            "Requirement already satisfied: ipython in /usr/local/lib/python3.10/dist-packages (8.15.0)\n",
            "Requirement already satisfied: backcall in /usr/local/lib/python3.10/dist-packages (from ipython) (0.2.0)\n",
            "Requirement already satisfied: decorator in /usr/local/lib/python3.10/dist-packages (from ipython) (4.4.2)\n",
            "Requirement already satisfied: jedi>=0.16 in /usr/local/lib/python3.10/dist-packages (from ipython) (0.19.0)\n",
            "Requirement already satisfied: matplotlib-inline in /usr/local/lib/python3.10/dist-packages (from ipython) (0.1.6)\n",
            "Requirement already satisfied: pickleshare in /usr/local/lib/python3.10/dist-packages (from ipython) (0.7.5)\n",
            "Requirement already satisfied: prompt-toolkit!=3.0.37,<3.1.0,>=3.0.30 in /usr/local/lib/python3.10/dist-packages (from ipython) (3.0.39)\n",
            "Requirement already satisfied: pygments>=2.4.0 in /usr/local/lib/python3.10/dist-packages (from ipython) (2.16.1)\n",
            "Requirement already satisfied: stack-data in /usr/local/lib/python3.10/dist-packages (from ipython) (0.6.2)\n",
            "Requirement already satisfied: traitlets>=5 in /usr/local/lib/python3.10/dist-packages (from ipython) (5.7.1)\n",
            "Requirement already satisfied: exceptiongroup in /usr/local/lib/python3.10/dist-packages (from ipython) (1.1.3)\n",
            "Requirement already satisfied: pexpect>4.3 in /usr/local/lib/python3.10/dist-packages (from ipython) (4.8.0)\n",
            "Requirement already satisfied: parso<0.9.0,>=0.8.3 in /usr/local/lib/python3.10/dist-packages (from jedi>=0.16->ipython) (0.8.3)\n",
            "Requirement already satisfied: ptyprocess>=0.5 in /usr/local/lib/python3.10/dist-packages (from pexpect>4.3->ipython) (0.7.0)\n",
            "Requirement already satisfied: wcwidth in /usr/local/lib/python3.10/dist-packages (from prompt-toolkit!=3.0.37,<3.1.0,>=3.0.30->ipython) (0.2.6)\n",
            "Requirement already satisfied: executing>=1.2.0 in /usr/local/lib/python3.10/dist-packages (from stack-data->ipython) (1.2.0)\n",
            "Requirement already satisfied: asttokens>=2.1.0 in /usr/local/lib/python3.10/dist-packages (from stack-data->ipython) (2.4.0)\n",
            "Requirement already satisfied: pure-eval in /usr/local/lib/python3.10/dist-packages (from stack-data->ipython) (0.2.2)\n",
            "Requirement already satisfied: six>=1.12.0 in /usr/local/lib/python3.10/dist-packages (from asttokens>=2.1.0->stack-data->ipython) (1.16.0)\n"
          ]
        }
      ]
    },
    {
      "cell_type": "code",
      "source": [
        "import warnings\n",
        "warnings.simplefilter(action='ignore', category=FutureWarning)"
      ],
      "metadata": {
        "id": "XWE206qEZLRo"
      },
      "execution_count": null,
      "outputs": []
    },
    {
      "cell_type": "code",
      "source": [
        "import numpy as np\n",
        "import pandas as pd\n",
        "import matplotlib.pyplot as plt\n",
        "import plotly.express as px\n",
        "from sklearn.cluster import KMeans\n",
        "from sklearn.metrics import silhouette_score\n",
        "from sklearn.metrics import homogeneity_score, completeness_score, v_measure_score"
      ],
      "metadata": {
        "id": "jggbihXD8OlT"
      },
      "execution_count": null,
      "outputs": []
    },
    {
      "cell_type": "code",
      "source": [
        "X = df[['Value', 'Area ID', 'Latitude', 'Longitude']] # 'Latitude', 'Longitude', 'Value'"
      ],
      "metadata": {
        "id": "kgRRE4R6IQix"
      },
      "execution_count": null,
      "outputs": []
    },
    {
      "cell_type": "code",
      "source": [
        "num_clusters = 5\n",
        "kmeans = KMeans(n_clusters=num_clusters)\n",
        "kmeans.fit(X)"
      ],
      "metadata": {
        "colab": {
          "base_uri": "https://localhost:8080/"
        },
        "id": "XgrlcT1lIQaA",
        "outputId": "789a701c-51d9-4b68-fc1e-407809acb393"
      },
      "execution_count": null,
      "outputs": [
        {
          "output_type": "execute_result",
          "data": {
            "text/plain": [
              "KMeans(n_clusters=5)"
            ],
            "text/html": [
              "<style>#sk-container-id-11 {color: black;background-color: white;}#sk-container-id-11 pre{padding: 0;}#sk-container-id-11 div.sk-toggleable {background-color: white;}#sk-container-id-11 label.sk-toggleable__label {cursor: pointer;display: block;width: 100%;margin-bottom: 0;padding: 0.3em;box-sizing: border-box;text-align: center;}#sk-container-id-11 label.sk-toggleable__label-arrow:before {content: \"▸\";float: left;margin-right: 0.25em;color: #696969;}#sk-container-id-11 label.sk-toggleable__label-arrow:hover:before {color: black;}#sk-container-id-11 div.sk-estimator:hover label.sk-toggleable__label-arrow:before {color: black;}#sk-container-id-11 div.sk-toggleable__content {max-height: 0;max-width: 0;overflow: hidden;text-align: left;background-color: #f0f8ff;}#sk-container-id-11 div.sk-toggleable__content pre {margin: 0.2em;color: black;border-radius: 0.25em;background-color: #f0f8ff;}#sk-container-id-11 input.sk-toggleable__control:checked~div.sk-toggleable__content {max-height: 200px;max-width: 100%;overflow: auto;}#sk-container-id-11 input.sk-toggleable__control:checked~label.sk-toggleable__label-arrow:before {content: \"▾\";}#sk-container-id-11 div.sk-estimator input.sk-toggleable__control:checked~label.sk-toggleable__label {background-color: #d4ebff;}#sk-container-id-11 div.sk-label input.sk-toggleable__control:checked~label.sk-toggleable__label {background-color: #d4ebff;}#sk-container-id-11 input.sk-hidden--visually {border: 0;clip: rect(1px 1px 1px 1px);clip: rect(1px, 1px, 1px, 1px);height: 1px;margin: -1px;overflow: hidden;padding: 0;position: absolute;width: 1px;}#sk-container-id-11 div.sk-estimator {font-family: monospace;background-color: #f0f8ff;border: 1px dotted black;border-radius: 0.25em;box-sizing: border-box;margin-bottom: 0.5em;}#sk-container-id-11 div.sk-estimator:hover {background-color: #d4ebff;}#sk-container-id-11 div.sk-parallel-item::after {content: \"\";width: 100%;border-bottom: 1px solid gray;flex-grow: 1;}#sk-container-id-11 div.sk-label:hover label.sk-toggleable__label {background-color: #d4ebff;}#sk-container-id-11 div.sk-serial::before {content: \"\";position: absolute;border-left: 1px solid gray;box-sizing: border-box;top: 0;bottom: 0;left: 50%;z-index: 0;}#sk-container-id-11 div.sk-serial {display: flex;flex-direction: column;align-items: center;background-color: white;padding-right: 0.2em;padding-left: 0.2em;position: relative;}#sk-container-id-11 div.sk-item {position: relative;z-index: 1;}#sk-container-id-11 div.sk-parallel {display: flex;align-items: stretch;justify-content: center;background-color: white;position: relative;}#sk-container-id-11 div.sk-item::before, #sk-container-id-11 div.sk-parallel-item::before {content: \"\";position: absolute;border-left: 1px solid gray;box-sizing: border-box;top: 0;bottom: 0;left: 50%;z-index: -1;}#sk-container-id-11 div.sk-parallel-item {display: flex;flex-direction: column;z-index: 1;position: relative;background-color: white;}#sk-container-id-11 div.sk-parallel-item:first-child::after {align-self: flex-end;width: 50%;}#sk-container-id-11 div.sk-parallel-item:last-child::after {align-self: flex-start;width: 50%;}#sk-container-id-11 div.sk-parallel-item:only-child::after {width: 0;}#sk-container-id-11 div.sk-dashed-wrapped {border: 1px dashed gray;margin: 0 0.4em 0.5em 0.4em;box-sizing: border-box;padding-bottom: 0.4em;background-color: white;}#sk-container-id-11 div.sk-label label {font-family: monospace;font-weight: bold;display: inline-block;line-height: 1.2em;}#sk-container-id-11 div.sk-label-container {text-align: center;}#sk-container-id-11 div.sk-container {/* jupyter's `normalize.less` sets `[hidden] { display: none; }` but bootstrap.min.css set `[hidden] { display: none !important; }` so we also need the `!important` here to be able to override the default hidden behavior on the sphinx rendered scikit-learn.org. See: https://github.com/scikit-learn/scikit-learn/issues/21755 */display: inline-block !important;position: relative;}#sk-container-id-11 div.sk-text-repr-fallback {display: none;}</style><div id=\"sk-container-id-11\" class=\"sk-top-container\"><div class=\"sk-text-repr-fallback\"><pre>KMeans(n_clusters=5)</pre><b>In a Jupyter environment, please rerun this cell to show the HTML representation or trust the notebook. <br />On GitHub, the HTML representation is unable to render, please try loading this page with nbviewer.org.</b></div><div class=\"sk-container\" hidden><div class=\"sk-item\"><div class=\"sk-estimator sk-toggleable\"><input class=\"sk-toggleable__control sk-hidden--visually\" id=\"sk-estimator-id-11\" type=\"checkbox\" checked><label for=\"sk-estimator-id-11\" class=\"sk-toggleable__label sk-toggleable__label-arrow\">KMeans</label><div class=\"sk-toggleable__content\"><pre>KMeans(n_clusters=5)</pre></div></div></div></div></div>"
            ]
          },
          "metadata": {},
          "execution_count": 586
        }
      ]
    },
    {
      "cell_type": "code",
      "source": [
        "cluster_labels = kmeans.labels_"
      ],
      "metadata": {
        "id": "c626kwO-IQRG"
      },
      "execution_count": null,
      "outputs": []
    },
    {
      "cell_type": "code",
      "source": [
        "silhouette_avg = silhouette_score(X, cluster_labels)\n",
        "print(\"Silhouette Score:\", silhouette_avg)"
      ],
      "metadata": {
        "colab": {
          "base_uri": "https://localhost:8080/"
        },
        "id": "1Xm8gSinIQFN",
        "outputId": "213f320b-c2f8-428a-cd9a-8acf25bcb78b"
      },
      "execution_count": null,
      "outputs": [
        {
          "output_type": "stream",
          "name": "stdout",
          "text": [
            "Silhouette Score: 0.9541340330727764\n"
          ]
        }
      ]
    },
    {
      "cell_type": "code",
      "source": [
        "plt.scatter(df['Area ID'], df['Value'], c=cluster_labels, cmap='rainbow')\n",
        "plt.xlabel('Feature 1')\n",
        "plt.ylabel('Feature 2')\n",
        "plt.title('K-Means Clustering')\n",
        "plt.show()"
      ],
      "metadata": {
        "colab": {
          "base_uri": "https://localhost:8080/"
        },
        "id": "17AR2uojLa8A",
        "outputId": "d21c2af6-e91e-4536-8515-c0868759d6ce"
      },
      "execution_count": null,
      "outputs": [
        {
          "output_type": "display_data",
          "data": {
            "text/plain": [
              "<Figure size 640x480 with 1 Axes>"
            ],
            "image/png": "[encoded data removed]"
          },
          "metadata": {}
        }
      ]
    },
    {
      "cell_type": "code",
      "source": [
        "num_clusters = 5\n",
        "kmeans = KMeans(n_clusters=num_clusters)\n",
        "kmeans.fit(X)"
      ],
      "metadata": {
        "colab": {
          "base_uri": "https://localhost:8080/"
        },
        "id": "DWPAP3LxLa4p",
        "outputId": "145afd81-781a-46ae-a061-fa02516a1add"
      },
      "execution_count": null,
      "outputs": [
        {
          "output_type": "execute_result",
          "data": {
            "text/plain": [
              "KMeans(n_clusters=5)"
            ],
            "text/html": [
              "<style>#sk-container-id-12 {color: black;background-color: white;}#sk-container-id-12 pre{padding: 0;}#sk-container-id-12 div.sk-toggleable {background-color: white;}#sk-container-id-12 label.sk-toggleable__label {cursor: pointer;display: block;width: 100%;margin-bottom: 0;padding: 0.3em;box-sizing: border-box;text-align: center;}#sk-container-id-12 label.sk-toggleable__label-arrow:before {content: \"▸\";float: left;margin-right: 0.25em;color: #696969;}#sk-container-id-12 label.sk-toggleable__label-arrow:hover:before {color: black;}#sk-container-id-12 div.sk-estimator:hover label.sk-toggleable__label-arrow:before {color: black;}#sk-container-id-12 div.sk-toggleable__content {max-height: 0;max-width: 0;overflow: hidden;text-align: left;background-color: #f0f8ff;}#sk-container-id-12 div.sk-toggleable__content pre {margin: 0.2em;color: black;border-radius: 0.25em;background-color: #f0f8ff;}#sk-container-id-12 input.sk-toggleable__control:checked~div.sk-toggleable__content {max-height: 200px;max-width: 100%;overflow: auto;}#sk-container-id-12 input.sk-toggleable__control:checked~label.sk-toggleable__label-arrow:before {content: \"▾\";}#sk-container-id-12 div.sk-estimator input.sk-toggleable__control:checked~label.sk-toggleable__label {background-color: #d4ebff;}#sk-container-id-12 div.sk-label input.sk-toggleable__control:checked~label.sk-toggleable__label {background-color: #d4ebff;}#sk-container-id-12 input.sk-hidden--visually {border: 0;clip: rect(1px 1px 1px 1px);clip: rect(1px, 1px, 1px, 1px);height: 1px;margin: -1px;overflow: hidden;padding: 0;position: absolute;width: 1px;}#sk-container-id-12 div.sk-estimator {font-family: monospace;background-color: #f0f8ff;border: 1px dotted black;border-radius: 0.25em;box-sizing: border-box;margin-bottom: 0.5em;}#sk-container-id-12 div.sk-estimator:hover {background-color: #d4ebff;}#sk-container-id-12 div.sk-parallel-item::after {content: \"\";width: 100%;border-bottom: 1px solid gray;flex-grow: 1;}#sk-container-id-12 div.sk-label:hover label.sk-toggleable__label {background-color: #d4ebff;}#sk-container-id-12 div.sk-serial::before {content: \"\";position: absolute;border-left: 1px solid gray;box-sizing: border-box;top: 0;bottom: 0;left: 50%;z-index: 0;}#sk-container-id-12 div.sk-serial {display: flex;flex-direction: column;align-items: center;background-color: white;padding-right: 0.2em;padding-left: 0.2em;position: relative;}#sk-container-id-12 div.sk-item {position: relative;z-index: 1;}#sk-container-id-12 div.sk-parallel {display: flex;align-items: stretch;justify-content: center;background-color: white;position: relative;}#sk-container-id-12 div.sk-item::before, #sk-container-id-12 div.sk-parallel-item::before {content: \"\";position: absolute;border-left: 1px solid gray;box-sizing: border-box;top: 0;bottom: 0;left: 50%;z-index: -1;}#sk-container-id-12 div.sk-parallel-item {display: flex;flex-direction: column;z-index: 1;position: relative;background-color: white;}#sk-container-id-12 div.sk-parallel-item:first-child::after {align-self: flex-end;width: 50%;}#sk-container-id-12 div.sk-parallel-item:last-child::after {align-self: flex-start;width: 50%;}#sk-container-id-12 div.sk-parallel-item:only-child::after {width: 0;}#sk-container-id-12 div.sk-dashed-wrapped {border: 1px dashed gray;margin: 0 0.4em 0.5em 0.4em;box-sizing: border-box;padding-bottom: 0.4em;background-color: white;}#sk-container-id-12 div.sk-label label {font-family: monospace;font-weight: bold;display: inline-block;line-height: 1.2em;}#sk-container-id-12 div.sk-label-container {text-align: center;}#sk-container-id-12 div.sk-container {/* jupyter's `normalize.less` sets `[hidden] { display: none; }` but bootstrap.min.css set `[hidden] { display: none !important; }` so we also need the `!important` here to be able to override the default hidden behavior on the sphinx rendered scikit-learn.org. See: https://github.com/scikit-learn/scikit-learn/issues/21755 */display: inline-block !important;position: relative;}#sk-container-id-12 div.sk-text-repr-fallback {display: none;}</style><div id=\"sk-container-id-12\" class=\"sk-top-container\"><div class=\"sk-text-repr-fallback\"><pre>KMeans(n_clusters=5)</pre><b>In a Jupyter environment, please rerun this cell to show the HTML representation or trust the notebook. <br />On GitHub, the HTML representation is unable to render, please try loading this page with nbviewer.org.</b></div><div class=\"sk-container\" hidden><div class=\"sk-item\"><div class=\"sk-estimator sk-toggleable\"><input class=\"sk-toggleable__control sk-hidden--visually\" id=\"sk-estimator-id-12\" type=\"checkbox\" checked><label for=\"sk-estimator-id-12\" class=\"sk-toggleable__label sk-toggleable__label-arrow\">KMeans</label><div class=\"sk-toggleable__content\"><pre>KMeans(n_clusters=5)</pre></div></div></div></div></div>"
            ]
          },
          "metadata": {},
          "execution_count": 590
        }
      ]
    },
    {
      "cell_type": "code",
      "source": [
        "cluster_labels = kmeans.labels_"
      ],
      "metadata": {
        "id": "ghtyXTcKLa1v"
      },
      "execution_count": null,
      "outputs": []
    },
    {
      "cell_type": "code",
      "source": [
        "true_labels = X['Value']"
      ],
      "metadata": {
        "id": "NRDlw4iXMQYE"
      },
      "execution_count": null,
      "outputs": []
    },
    {
      "cell_type": "code",
      "source": [
        "homogeneity = homogeneity_score(true_labels, cluster_labels)\n",
        "completeness = completeness_score(true_labels, cluster_labels)\n",
        "v_measure = v_measure_score(true_labels, cluster_labels)"
      ],
      "metadata": {
        "colab": {
          "base_uri": "https://localhost:8080/"
        },
        "id": "msffQzgAMQHc",
        "outputId": "8af84001-7ffe-436a-c908-aea74c4eaf51"
      },
      "execution_count": null,
      "outputs": [
        {
          "output_type": "stream",
          "name": "stderr",
          "text": [
            "/usr/local/lib/python3.10/dist-packages/sklearn/metrics/cluster/_supervised.py:64: UserWarning:\n",
            "\n",
            "Clustering metrics expects discrete values but received continuous values for label, and multiclass values for target\n",
            "\n",
            "/usr/local/lib/python3.10/dist-packages/sklearn/metrics/cluster/_supervised.py:64: UserWarning:\n",
            "\n",
            "Clustering metrics expects discrete values but received continuous values for label, and multiclass values for target\n",
            "\n",
            "/usr/local/lib/python3.10/dist-packages/sklearn/metrics/cluster/_supervised.py:64: UserWarning:\n",
            "\n",
            "Clustering metrics expects discrete values but received continuous values for label, and multiclass values for target\n",
            "\n"
          ]
        }
      ]
    },
    {
      "cell_type": "code",
      "source": [
        "print(\"Homogeneity Score:\", homogeneity)\n",
        "print(\"Completeness Score:\", completeness)\n",
        "print(\"V-Measure Score:\", v_measure)"
      ],
      "metadata": {
        "colab": {
          "base_uri": "https://localhost:8080/"
        },
        "id": "tlyyj1E-MQER",
        "outputId": "aef72c15-fd6e-4b9f-909e-e2d2d2973060"
      },
      "execution_count": null,
      "outputs": [
        {
          "output_type": "stream",
          "name": "stdout",
          "text": [
            "Homogeneity Score: 0.0879597964847905\n",
            "Completeness Score: 0.9999999999999991\n",
            "V-Measure Score: 0.16169677734230534\n"
          ]
        }
      ]
    },
    {
      "cell_type": "markdown",
      "source": [
        "**Pengelompokkan dengan beberapa kategori cuaca disetiap kabupaten**"
      ],
      "metadata": {
        "id": "rdvNjxsSjGwk"
      }
    },
    {
      "cell_type": "code",
      "source": [
        "import pandas as pd"
      ],
      "metadata": {
        "id": "TltVBZtIhj2P"
      },
      "execution_count": null,
      "outputs": []
    },
    {
      "cell_type": "code",
      "source": [
        "df['Value_Category'] = pd.cut(df['Value'], bins=3, labels=['Low', 'Medium', 'High'])"
      ],
      "metadata": {
        "id": "Xs2TlowLbezH",
        "colab": {
          "base_uri": "https://localhost:8080/"
        },
        "outputId": "5a9fcb89-4344-48da-998f-d1da1b40c8da"
      },
      "execution_count": null,
      "outputs": [
        {
          "output_type": "stream",
          "name": "stderr",
          "text": [
            "<ipython-input-596-1f7c69f6b27b>:1: SettingWithCopyWarning:\n",
            "\n",
            "\n",
            "A value is trying to be set on a copy of a slice from a DataFrame.\n",
            "Try using .loc[row_indexer,col_indexer] = value instead\n",
            "\n",
            "See the caveats in the documentation: https://pandas.pydata.org/pandas-docs/stable/user_guide/indexing.html#returning-a-view-versus-a-copy\n",
            "\n"
          ]
        }
      ]
    },
    {
      "cell_type": "code",
      "source": [
        "def categorize_weather(value):\n",
        "    if value > 80:\n",
        "        return \"Cerah\"\n",
        "    elif 60 <= value <= 80:\n",
        "        return \"Berawan\"\n",
        "    else:\n",
        "        return \"Hujan\"\n",
        "\n",
        "df['Weather_Category'] = df['Value'].apply(categorize_weather)"
      ],
      "metadata": {
        "id": "I0jx5qS8jL8D",
        "colab": {
          "base_uri": "https://localhost:8080/"
        },
        "outputId": "4d998e72-534a-4d0f-f024-87b7a9f8f3f9"
      },
      "execution_count": null,
      "outputs": [
        {
          "output_type": "stream",
          "name": "stderr",
          "text": [
            "<ipython-input-597-5970aa0bee9e>:9: SettingWithCopyWarning:\n",
            "\n",
            "\n",
            "A value is trying to be set on a copy of a slice from a DataFrame.\n",
            "Try using .loc[row_indexer,col_indexer] = value instead\n",
            "\n",
            "See the caveats in the documentation: https://pandas.pydata.org/pandas-docs/stable/user_guide/indexing.html#returning-a-view-versus-a-copy\n",
            "\n"
          ]
        }
      ]
    },
    {
      "cell_type": "code",
      "source": [
        "grouped_data = df.groupby(['Area ID', 'Weather_Category'])['Value'].count().unstack(fill_value=0)"
      ],
      "metadata": {
        "id": "45IzOH2vkk-6"
      },
      "execution_count": null,
      "outputs": []
    },
    {
      "cell_type": "code",
      "source": [
        "print(grouped_data)"
      ],
      "metadata": {
        "colab": {
          "base_uri": "https://localhost:8080/"
        },
        "id": "oPZKQvVBjT_G",
        "outputId": "ff1dd2ff-ac48-4abd-b19c-3353df1fccbd"
      },
      "execution_count": null,
      "outputs": [
        {
          "output_type": "stream",
          "name": "stdout",
          "text": [
            "Weather_Category  Berawan  Cerah  Hujan\n",
            "Area ID                                \n",
            "501397                 19     36     83\n",
            "501398                 20     35     83\n",
            "501399                 25     25     88\n",
            "501400                 20     33     85\n",
            "501401                 18     42     78\n",
            "501402                 20     37     81\n",
            "501403                 22     38     78\n",
            "501404                 22     33     83\n",
            "501405                 22     26     90\n",
            "501406                 20     39     79\n",
            "501407                 20     37     81\n",
            "501408                 19     40     79\n",
            "501409                 17     39     82\n",
            "501410                 19     40     79\n",
            "501411                 24     33     81\n",
            "501412                 23     36     79\n",
            "501413                 12     48     78\n",
            "501414                 17     36     85\n",
            "501415                 22     39     77\n",
            "501416                 20     33     85\n",
            "501417                 18     40     80\n",
            "501605                 20     38     80\n",
            "501606                 21     38     79\n"
          ]
        }
      ]
    },
    {
      "cell_type": "markdown",
      "source": [
        "###### **Heatmap**"
      ],
      "metadata": {
        "id": "Wj-0gs3Jh3bV"
      }
    },
    {
      "cell_type": "code",
      "source": [
        "!pip install plotly\n",
        "import plotly.express as px\n",
        "import geopandas as gpd\n",
        "import plotly.graph_objects as go\n",
        "import pandas as pd\n",
        "from geopandas import GeoDataFrame"
      ],
      "metadata": {
        "colab": {
          "base_uri": "https://localhost:8080/"
        },
        "id": "zkI7jMkrnD-A",
        "outputId": "33413121-d209-4252-cebe-100685e2afaa"
      },
      "execution_count": null,
      "outputs": [
        {
          "output_type": "stream",
          "name": "stdout",
          "text": [
            "Requirement already satisfied: plotly in /usr/local/lib/python3.10/dist-packages (5.15.0)\n",
            "Requirement already satisfied: tenacity>=6.2.0 in /usr/local/lib/python3.10/dist-packages (from plotly) (8.2.3)\n",
            "Requirement already satisfied: packaging in /usr/local/lib/python3.10/dist-packages (from plotly) (23.1)\n"
          ]
        }
      ]
    },
    {
      "cell_type": "code",
      "source": [
        "geojson_data = pd.read_json('/content/drive/My Drive/UAS Data Mining/output.json')"
      ],
      "metadata": {
        "id": "i8kzykcSnGj6"
      },
      "execution_count": null,
      "outputs": []
    },
    {
      "cell_type": "code",
      "source": [
        "print(geojson_data.columns)\n",
        "print(df.columns)\n",
        "\n",
        "print(df.head())\n",
        "print(geojson_data.head())"
      ],
      "metadata": {
        "colab": {
          "base_uri": "https://localhost:8080/"
        },
        "id": "F18Vt6K4zC8Q",
        "outputId": "9bca93bd-c9f9-4df4-e1ce-35475c260641"
      },
      "execution_count": null,
      "outputs": [
        {
          "output_type": "stream",
          "name": "stdout",
          "text": [
            "Index(['data'], dtype='object')\n",
            "Index(['Area ID', 'Latitude', 'Longitude', 'Area Name', 'Parameter ID',\n",
            "       'Parameter Description', 'Value Unit', 'Value', 'Value_Category',\n",
            "       'Weather_Category'],\n",
            "      dtype='object')\n",
            "   Area ID  Latitude  Longitude   Area Name Parameter ID  \\\n",
            "0   501409  4.176594  96.124878  Aceh Barat           hu   \n",
            "1   501409  4.176594  96.124878  Aceh Barat           hu   \n",
            "2   501409  4.176594  96.124878  Aceh Barat           hu   \n",
            "3   501409  4.176594  96.124878  Aceh Barat           hu   \n",
            "4   501409  4.176594  96.124878  Aceh Barat           hu   \n",
            "\n",
            "  Parameter Description Value Unit  Value Value_Category Weather_Category  \n",
            "0              Humidity          %   90.0            Low            Cerah  \n",
            "1              Humidity          %   85.0            Low            Cerah  \n",
            "2              Humidity          %   95.0            Low            Cerah  \n",
            "3              Humidity          %   90.0            Low            Cerah  \n",
            "4              Humidity          %   90.0            Low            Cerah  \n",
            "                                                       data\n",
            "forecast  {'issue': {'timestamp': '20230908024749', 'yea...\n"
          ]
        }
      ]
    },
    {
      "cell_type": "code",
      "source": [
        "data = pd.DataFrame({\n",
        "    'Area ID': ['df'],\n",
        "    'Latitude': ['df'],\n",
        "    'Longitude': ['df'],\n",
        "    'Value': ['df'],\n",
        "    'Value_Category': ['df'],\n",
        "    'Weather_Category': ['df']\n",
        "})"
      ],
      "metadata": {
        "id": "82pYwuPDu5DC"
      },
      "execution_count": null,
      "outputs": []
    },
    {
      "cell_type": "code",
      "source": [
        "fig = px.density_mapbox(\n",
        "    data,\n",
        "    lat='Latitude',\n",
        "    lon='Longitude',\n",
        "    z='Value',\n",
        "    radius=10,  # Ubah nilai ini sesuai dengan preferensi Anda\n",
        "    center=dict(lat=4.176594, lon=96.124878),  # Koordinat tengah peta\n",
        "    zoom=10,  # Tingkat zoom awal\n",
        "    mapbox_style=\"carto-positron\",  # Ganti dengan gaya peta yang Anda sukai\n",
        "    title=\"Heatmap Provinsi Aceh 'Latitude' vs 'Longitude'\",\n",
        ")"
      ],
      "metadata": {
        "id": "wO66BCj_muLI"
      },
      "execution_count": null,
      "outputs": []
    },
    {
      "cell_type": "code",
      "source": [
        "fig.show()"
      ],
      "metadata": {
        "colab": {
          "base_uri": "https://localhost:8080/"
        },
        "id": "-KGDUive8IAC",
        "outputId": "4d06a927-2ce8-4d41-c62a-67b877c0a8aa"
      },
      "execution_count": null,
      "outputs": [
        {
          "output_type": "display_data",
          "data": {
            "text/html": [
              "<html>\n",
              "<head><meta charset=\"utf-8\" /></head>\n",
              "<body>\n",
              "    <div>            <script src=\"https://cdnjs.cloudflare.com/ajax/libs/mathjax/2.7.5/MathJax.js?config=TeX-AMS-MML_SVG\"></script><script type=\"text/javascript\">if (window.MathJax && window.MathJax.Hub && window.MathJax.Hub.Config) {window.MathJax.Hub.Config({SVG: {font: \"STIX-Web\"}});}</script>                <script type=\"text/javascript\">window.PlotlyConfig = {MathJaxConfig: 'local'};</script>\n",
              "        <script charset=\"utf-8\" src=\"https://cdn.plot.ly/plotly-2.24.1.min.js\"></script>                <div id=\"aa83b6b1-14f7-46ce-9ed8-46ec6d3a0c1c\" class=\"plotly-graph-div\" style=\"height:525px; width:100%;\"></div>            <script type=\"text/javascript\">                                    window.PLOTLYENV=window.PLOTLYENV || {};                                    if (document.getElementById(\"aa83b6b1-14f7-46ce-9ed8-46ec6d3a0c1c\")) {                    Plotly.newPlot(                        \"aa83b6b1-14f7-46ce-9ed8-46ec6d3a0c1c\",                        [{\"coloraxis\":\"coloraxis\",\"hovertemplate\":\"Value=%{z}\\u003cbr\\u003eLatitude=%{lat}\\u003cbr\\u003eLongitude=%{lon}\\u003cextra\\u003e\\u003c\\u002fextra\\u003e\",\"lat\":[\"df\"],\"lon\":[\"df\"],\"name\":\"\",\"radius\":10,\"subplot\":\"mapbox\",\"z\":[\"df\"],\"type\":\"densitymapbox\"}],                        {\"template\":{\"data\":{\"histogram2dcontour\":[{\"type\":\"histogram2dcontour\",\"colorbar\":{\"outlinewidth\":0,\"ticks\":\"\"},\"colorscale\":[[0.0,\"#0d0887\"],[0.1111111111111111,\"#46039f\"],[0.2222222222222222,\"#7201a8\"],[0.3333333333333333,\"#9c179e\"],[0.4444444444444444,\"#bd3786\"],[0.5555555555555556,\"#d8576b\"],[0.6666666666666666,\"#ed7953\"],[0.7777777777777778,\"#fb9f3a\"],[0.8888888888888888,\"#fdca26\"],[1.0,\"#f0f921\"]]}],\"choropleth\":[{\"type\":\"choropleth\",\"colorbar\":{\"outlinewidth\":0,\"ticks\":\"\"}}],\"histogram2d\":[{\"type\":\"histogram2d\",\"colorbar\":{\"outlinewidth\":0,\"ticks\":\"\"},\"colorscale\":[[0.0,\"#0d0887\"],[0.1111111111111111,\"#46039f\"],[0.2222222222222222,\"#7201a8\"],[0.3333333333333333,\"#9c179e\"],[0.4444444444444444,\"#bd3786\"],[0.5555555555555556,\"#d8576b\"],[0.6666666666666666,\"#ed7953\"],[0.7777777777777778,\"#fb9f3a\"],[0.8888888888888888,\"#fdca26\"],[1.0,\"#f0f921\"]]}],\"heatmap\":[{\"type\":\"heatmap\",\"colorbar\":{\"outlinewidth\":0,\"ticks\":\"\"},\"colorscale\":[[0.0,\"#0d0887\"],[0.1111111111111111,\"#46039f\"],[0.2222222222222222,\"#7201a8\"],[0.3333333333333333,\"#9c179e\"],[0.4444444444444444,\"#bd3786\"],[0.5555555555555556,\"#d8576b\"],[0.6666666666666666,\"#ed7953\"],[0.7777777777777778,\"#fb9f3a\"],[0.8888888888888888,\"#fdca26\"],[1.0,\"#f0f921\"]]}],\"heatmapgl\":[{\"type\":\"heatmapgl\",\"colorbar\":{\"outlinewidth\":0,\"ticks\":\"\"},\"colorscale\":[[0.0,\"#0d0887\"],[0.1111111111111111,\"#46039f\"],[0.2222222222222222,\"#7201a8\"],[0.3333333333333333,\"#9c179e\"],[0.4444444444444444,\"#bd3786\"],[0.5555555555555556,\"#d8576b\"],[0.6666666666666666,\"#ed7953\"],[0.7777777777777778,\"#fb9f3a\"],[0.8888888888888888,\"#fdca26\"],[1.0,\"#f0f921\"]]}],\"contourcarpet\":[{\"type\":\"contourcarpet\",\"colorbar\":{\"outlinewidth\":0,\"ticks\":\"\"}}],\"contour\":[{\"type\":\"contour\",\"colorbar\":{\"outlinewidth\":0,\"ticks\":\"\"},\"colorscale\":[[0.0,\"#0d0887\"],[0.1111111111111111,\"#46039f\"],[0.2222222222222222,\"#7201a8\"],[0.3333333333333333,\"#9c179e\"],[0.4444444444444444,\"#bd3786\"],[0.5555555555555556,\"#d8576b\"],[0.6666666666666666,\"#ed7953\"],[0.7777777777777778,\"#fb9f3a\"],[0.8888888888888888,\"#fdca26\"],[1.0,\"#f0f921\"]]}],\"surface\":[{\"type\":\"surface\",\"colorbar\":{\"outlinewidth\":0,\"ticks\":\"\"},\"colorscale\":[[0.0,\"#0d0887\"],[0.1111111111111111,\"#46039f\"],[0.2222222222222222,\"#7201a8\"],[0.3333333333333333,\"#9c179e\"],[0.4444444444444444,\"#bd3786\"],[0.5555555555555556,\"#d8576b\"],[0.6666666666666666,\"#ed7953\"],[0.7777777777777778,\"#fb9f3a\"],[0.8888888888888888,\"#fdca26\"],[1.0,\"#f0f921\"]]}],\"mesh3d\":[{\"type\":\"mesh3d\",\"colorbar\":{\"outlinewidth\":0,\"ticks\":\"\"}}],\"scatter\":[{\"fillpattern\":{\"fillmode\":\"overlay\",\"size\":10,\"solidity\":0.2},\"type\":\"scatter\"}],\"parcoords\":[{\"type\":\"parcoords\",\"line\":{\"colorbar\":{\"outlinewidth\":0,\"ticks\":\"\"}}}],\"scatterpolargl\":[{\"type\":\"scatterpolargl\",\"marker\":{\"colorbar\":{\"outlinewidth\":0,\"ticks\":\"\"}}}],\"bar\":[{\"error_x\":{\"color\":\"#2a3f5f\"},\"error_y\":{\"color\":\"#2a3f5f\"},\"marker\":{\"line\":{\"color\":\"#E5ECF6\",\"width\":0.5},\"pattern\":{\"fillmode\":\"overlay\",\"size\":10,\"solidity\":0.2}},\"type\":\"bar\"}],\"scattergeo\":[{\"type\":\"scattergeo\",\"marker\":{\"colorbar\":{\"outlinewidth\":0,\"ticks\":\"\"}}}],\"scatterpolar\":[{\"type\":\"scatterpolar\",\"marker\":{\"colorbar\":{\"outlinewidth\":0,\"ticks\":\"\"}}}],\"histogram\":[{\"marker\":{\"pattern\":{\"fillmode\":\"overlay\",\"size\":10,\"solidity\":0.2}},\"type\":\"histogram\"}],\"scattergl\":[{\"type\":\"scattergl\",\"marker\":{\"colorbar\":{\"outlinewidth\":0,\"ticks\":\"\"}}}],\"scatter3d\":[{\"type\":\"scatter3d\",\"line\":{\"colorbar\":{\"outlinewidth\":0,\"ticks\":\"\"}},\"marker\":{\"colorbar\":{\"outlinewidth\":0,\"ticks\":\"\"}}}],\"scattermapbox\":[{\"type\":\"scattermapbox\",\"marker\":{\"colorbar\":{\"outlinewidth\":0,\"ticks\":\"\"}}}],\"scatterternary\":[{\"type\":\"scatterternary\",\"marker\":{\"colorbar\":{\"outlinewidth\":0,\"ticks\":\"\"}}}],\"scattercarpet\":[{\"type\":\"scattercarpet\",\"marker\":{\"colorbar\":{\"outlinewidth\":0,\"ticks\":\"\"}}}],\"carpet\":[{\"aaxis\":{\"endlinecolor\":\"#2a3f5f\",\"gridcolor\":\"white\",\"linecolor\":\"white\",\"minorgridcolor\":\"white\",\"startlinecolor\":\"#2a3f5f\"},\"baxis\":{\"endlinecolor\":\"#2a3f5f\",\"gridcolor\":\"white\",\"linecolor\":\"white\",\"minorgridcolor\":\"white\",\"startlinecolor\":\"#2a3f5f\"},\"type\":\"carpet\"}],\"table\":[{\"cells\":{\"fill\":{\"color\":\"#EBF0F8\"},\"line\":{\"color\":\"white\"}},\"header\":{\"fill\":{\"color\":\"#C8D4E3\"},\"line\":{\"color\":\"white\"}},\"type\":\"table\"}],\"barpolar\":[{\"marker\":{\"line\":{\"color\":\"#E5ECF6\",\"width\":0.5},\"pattern\":{\"fillmode\":\"overlay\",\"size\":10,\"solidity\":0.2}},\"type\":\"barpolar\"}],\"pie\":[{\"automargin\":true,\"type\":\"pie\"}]},\"layout\":{\"autotypenumbers\":\"strict\",\"colorway\":[\"#636efa\",\"#EF553B\",\"#00cc96\",\"#ab63fa\",\"#FFA15A\",\"#19d3f3\",\"#FF6692\",\"#B6E880\",\"#FF97FF\",\"#FECB52\"],\"font\":{\"color\":\"#2a3f5f\"},\"hovermode\":\"closest\",\"hoverlabel\":{\"align\":\"left\"},\"paper_bgcolor\":\"white\",\"plot_bgcolor\":\"#E5ECF6\",\"polar\":{\"bgcolor\":\"#E5ECF6\",\"angularaxis\":{\"gridcolor\":\"white\",\"linecolor\":\"white\",\"ticks\":\"\"},\"radialaxis\":{\"gridcolor\":\"white\",\"linecolor\":\"white\",\"ticks\":\"\"}},\"ternary\":{\"bgcolor\":\"#E5ECF6\",\"aaxis\":{\"gridcolor\":\"white\",\"linecolor\":\"white\",\"ticks\":\"\"},\"baxis\":{\"gridcolor\":\"white\",\"linecolor\":\"white\",\"ticks\":\"\"},\"caxis\":{\"gridcolor\":\"white\",\"linecolor\":\"white\",\"ticks\":\"\"}},\"coloraxis\":{\"colorbar\":{\"outlinewidth\":0,\"ticks\":\"\"}},\"colorscale\":{\"sequential\":[[0.0,\"#0d0887\"],[0.1111111111111111,\"#46039f\"],[0.2222222222222222,\"#7201a8\"],[0.3333333333333333,\"#9c179e\"],[0.4444444444444444,\"#bd3786\"],[0.5555555555555556,\"#d8576b\"],[0.6666666666666666,\"#ed7953\"],[0.7777777777777778,\"#fb9f3a\"],[0.8888888888888888,\"#fdca26\"],[1.0,\"#f0f921\"]],\"sequentialminus\":[[0.0,\"#0d0887\"],[0.1111111111111111,\"#46039f\"],[0.2222222222222222,\"#7201a8\"],[0.3333333333333333,\"#9c179e\"],[0.4444444444444444,\"#bd3786\"],[0.5555555555555556,\"#d8576b\"],[0.6666666666666666,\"#ed7953\"],[0.7777777777777778,\"#fb9f3a\"],[0.8888888888888888,\"#fdca26\"],[1.0,\"#f0f921\"]],\"diverging\":[[0,\"#8e0152\"],[0.1,\"#c51b7d\"],[0.2,\"#de77ae\"],[0.3,\"#f1b6da\"],[0.4,\"#fde0ef\"],[0.5,\"#f7f7f7\"],[0.6,\"#e6f5d0\"],[0.7,\"#b8e186\"],[0.8,\"#7fbc41\"],[0.9,\"#4d9221\"],[1,\"#276419\"]]},\"xaxis\":{\"gridcolor\":\"white\",\"linecolor\":\"white\",\"ticks\":\"\",\"title\":{\"standoff\":15},\"zerolinecolor\":\"white\",\"automargin\":true,\"zerolinewidth\":2},\"yaxis\":{\"gridcolor\":\"white\",\"linecolor\":\"white\",\"ticks\":\"\",\"title\":{\"standoff\":15},\"zerolinecolor\":\"white\",\"automargin\":true,\"zerolinewidth\":2},\"scene\":{\"xaxis\":{\"backgroundcolor\":\"#E5ECF6\",\"gridcolor\":\"white\",\"linecolor\":\"white\",\"showbackground\":true,\"ticks\":\"\",\"zerolinecolor\":\"white\",\"gridwidth\":2},\"yaxis\":{\"backgroundcolor\":\"#E5ECF6\",\"gridcolor\":\"white\",\"linecolor\":\"white\",\"showbackground\":true,\"ticks\":\"\",\"zerolinecolor\":\"white\",\"gridwidth\":2},\"zaxis\":{\"backgroundcolor\":\"#E5ECF6\",\"gridcolor\":\"white\",\"linecolor\":\"white\",\"showbackground\":true,\"ticks\":\"\",\"zerolinecolor\":\"white\",\"gridwidth\":2}},\"shapedefaults\":{\"line\":{\"color\":\"#2a3f5f\"}},\"annotationdefaults\":{\"arrowcolor\":\"#2a3f5f\",\"arrowhead\":0,\"arrowwidth\":1},\"geo\":{\"bgcolor\":\"white\",\"landcolor\":\"#E5ECF6\",\"subunitcolor\":\"white\",\"showland\":true,\"showlakes\":true,\"lakecolor\":\"white\"},\"title\":{\"x\":0.05},\"mapbox\":{\"style\":\"light\"}}},\"mapbox\":{\"domain\":{\"x\":[0.0,1.0],\"y\":[0.0,1.0]},\"center\":{\"lat\":4.176594,\"lon\":96.124878},\"zoom\":10,\"style\":\"carto-positron\"},\"coloraxis\":{\"colorbar\":{\"title\":{\"text\":\"Value\"}},\"colorscale\":[[0.0,\"#0d0887\"],[0.1111111111111111,\"#46039f\"],[0.2222222222222222,\"#7201a8\"],[0.3333333333333333,\"#9c179e\"],[0.4444444444444444,\"#bd3786\"],[0.5555555555555556,\"#d8576b\"],[0.6666666666666666,\"#ed7953\"],[0.7777777777777778,\"#fb9f3a\"],[0.8888888888888888,\"#fdca26\"],[1.0,\"#f0f921\"]]},\"legend\":{\"tracegroupgap\":0},\"title\":{\"text\":\"Heatmap Provinsi Aceh 'Latitude' vs 'Longitude'\"}},                        {\"responsive\": true}                    ).then(function(){\n",
              "                            \n",
              "var gd = document.getElementById('aa83b6b1-14f7-46ce-9ed8-46ec6d3a0c1c');\n",
              "var x = new MutationObserver(function (mutations, observer) {{\n",
              "        var display = window.getComputedStyle(gd).display;\n",
              "        if (!display || display === 'none') {{\n",
              "            console.log([gd, 'removed!']);\n",
              "            Plotly.purge(gd);\n",
              "            observer.disconnect();\n",
              "        }}\n",
              "}});\n",
              "\n",
              "// Listen for the removal of the full notebook cells\n",
              "var notebookContainer = gd.closest('#notebook-container');\n",
              "if (notebookContainer) {{\n",
              "    x.observe(notebookContainer, {childList: true});\n",
              "}}\n",
              "\n",
              "// Listen for the clearing of the current output cell\n",
              "var outputEl = gd.closest('.output');\n",
              "if (outputEl) {{\n",
              "    x.observe(outputEl, {childList: true});\n",
              "}}\n",
              "\n",
              "                        })                };                            </script>        </div>\n",
              "</body>\n",
              "</html>"
            ]
          },
          "metadata": {}
        }
      ]
    },
    {
      "cell_type": "markdown",
      "source": [
        "###### Peta Heatmap 2"
      ],
      "metadata": {
        "id": "H8vygcSgR6iZ"
      }
    },
    {
      "cell_type": "code",
      "source": [
        "import pandas as pd\n",
        "import matplotlib.pyplot as plt\n",
        "from sklearn.model_selection import train_test_split\n",
        "from sklearn.linear_model import LinearRegression\n",
        "from sklearn.metrics import mean_squared_error"
      ],
      "metadata": {
        "id": "gPEmI136R_-T"
      },
      "execution_count": null,
      "outputs": []
    },
    {
      "cell_type": "code",
      "source": [
        "import numpy as np\n",
        "import pandas as pd\n",
        "from sklearn.model_selection import train_test_split\n",
        "from sklearn.linear_model import LinearRegression\n",
        "from sklearn.metrics import mean_absolute_error, mean_squared_error, r2_score"
      ],
      "metadata": {
        "id": "37DizLMhSHIs"
      },
      "execution_count": null,
      "outputs": []
    },
    {
      "cell_type": "code",
      "source": [
        "file_path = '/content/drive/My Drive/UAS Data Mining/data.bmkg.go.id_DataMKG_MEWS_DigitalForecast_DigitalForecast-Aceh.xml'"
      ],
      "metadata": {
        "id": "8Ud2e2VSSHFJ"
      },
      "execution_count": null,
      "outputs": []
    },
    {
      "cell_type": "code",
      "source": [
        "!pip install folium\n",
        "import random"
      ],
      "metadata": {
        "colab": {
          "base_uri": "https://localhost:8080/"
        },
        "id": "AcUZNZHRSJDz",
        "outputId": "91ef8602-30ad-4cfb-f1a3-4f2f21e1767f"
      },
      "execution_count": null,
      "outputs": [
        {
          "output_type": "stream",
          "name": "stdout",
          "text": [
            "Requirement already satisfied: folium in /usr/local/lib/python3.10/dist-packages (0.14.0)\n",
            "Requirement already satisfied: branca>=0.6.0 in /usr/local/lib/python3.10/dist-packages (from folium) (0.6.0)\n",
            "Requirement already satisfied: jinja2>=2.9 in /usr/local/lib/python3.10/dist-packages (from folium) (3.1.2)\n",
            "Requirement already satisfied: numpy in /usr/local/lib/python3.10/dist-packages (from folium) (1.23.5)\n",
            "Requirement already satisfied: requests in /usr/local/lib/python3.10/dist-packages (from folium) (2.31.0)\n",
            "Requirement already satisfied: MarkupSafe>=2.0 in /usr/local/lib/python3.10/dist-packages (from jinja2>=2.9->folium) (2.1.3)\n",
            "Requirement already satisfied: charset-normalizer<4,>=2 in /usr/local/lib/python3.10/dist-packages (from requests->folium) (3.2.0)\n",
            "Requirement already satisfied: idna<4,>=2.5 in /usr/local/lib/python3.10/dist-packages (from requests->folium) (3.4)\n",
            "Requirement already satisfied: urllib3<3,>=1.21.1 in /usr/local/lib/python3.10/dist-packages (from requests->folium) (2.0.4)\n",
            "Requirement already satisfied: certifi>=2017.4.17 in /usr/local/lib/python3.10/dist-packages (from requests->folium) (2023.7.22)\n"
          ]
        }
      ]
    },
    {
      "cell_type": "code",
      "source": [
        "import folium\n",
        "from folium.plugins import HeatMap\n",
        "m = folium.Map(location=[4.695135, 96.7493993], zoom_start=12)"
      ],
      "metadata": {
        "id": "HD_CgyuMSHCG"
      },
      "execution_count": null,
      "outputs": []
    },
    {
      "cell_type": "code",
      "source": [
        "# Batas-batas lintang dan bujur Provinsi Aceh yang lebih sesuai secara horizontal\n",
        "min_latitude = 2.31  # Batas lintang terendah Aceh\n",
        "max_latitude = 4.616666668  # Batas lintang Aceh\n",
        "min_longitude = 96.72  # Batas bujur terendah Aceh\n",
        "max_longitude = 98.065338  # Batas bujur tertinggi Aceh\n",
        "\n",
        "\n",
        "# Generate data koordinat dan intensitas secara acak yang sesuai dengan Aceh\n",
        "data = []\n",
        "\n",
        "for _ in range(500):  # Ganti dengan jumlah titik data yang Anda inginkan\n",
        "    latitude = random.uniform(min_latitude, max_latitude)\n",
        "    longitude = random.uniform(min_longitude, max_longitude)\n",
        "    intensity = random.uniform(0, 1)\n",
        "    data.append([latitude, longitude, intensity])\n",
        "\n",
        "# Membuat peta dengan data heatmap\n",
        "m = folium.Map(location=[4.695135, 96.7493993], zoom_start=11)  # Menyesuaikan level zoom sesuai preferensi\n",
        "HeatMap(data).add_to(m)\n",
        "\n",
        "# Menampilkan peta\n",
        "m"
      ],
      "metadata": {
        "colab": {
          "base_uri": "https://localhost:8080/"
        },
        "id": "YdI4nd82Sx75",
        "outputId": "4f9d7518-12ec-4928-faa0-6cd156bc381a"
      },
      "execution_count": null,
      "outputs": [
        {
          "output_type": "execute_result",
          "data": {
            "text/plain": [
              "<folium.folium.Map at 0x7a990effbf10>"
            ],
            "text/html": [
              "<div style=\"width:100%;\"><div style=\"position:relative;width:100%;height:0;padding-bottom:60%;\"><span style=\"color:#565656\">Make this Notebook Trusted to load map: File -> Trust Notebook</span><iframe srcdoc=\"&lt;!DOCTYPE html&gt;\n",
              "&lt;html&gt;\n",
              "&lt;head&gt;\n",
              "    \n",
              "    &lt;meta http-equiv=&quot;content-type&quot; content=&quot;text/html; charset=UTF-8&quot; /&gt;\n",
              "    \n",
              "        &lt;script&gt;\n",
              "            L_NO_TOUCH = false;\n",
              "            L_DISABLE_3D = false;\n",
              "        &lt;/script&gt;\n",
              "    \n",
              "    &lt;style&gt;html, body {width: 100%;height: 100%;margin: 0;padding: 0;}&lt;/style&gt;\n",
              "    &lt;style&gt;#map {position:absolute;top:0;bottom:0;right:0;left:0;}&lt;/style&gt;\n",
              "    &lt;script src=&quot;https://cdn.jsdelivr.net/npm/leaflet@1.9.3/dist/leaflet.js&quot;&gt;&lt;/script&gt;\n",
              "    &lt;script src=&quot;https://code.jquery.com/jquery-1.12.4.min.js&quot;&gt;&lt;/script&gt;\n",
              "    &lt;script src=&quot;https://cdn.jsdelivr.net/npm/bootstrap@5.2.2/dist/js/bootstrap.bundle.min.js&quot;&gt;&lt;/script&gt;\n",
              "    &lt;script src=&quot;https://cdnjs.cloudflare.com/ajax/libs/Leaflet.awesome-markers/2.0.2/leaflet.awesome-markers.js&quot;&gt;&lt;/script&gt;\n",
              "    &lt;link rel=&quot;stylesheet&quot; href=&quot;https://cdn.jsdelivr.net/npm/leaflet@1.9.3/dist/leaflet.css&quot;/&gt;\n",
              "    &lt;link rel=&quot;stylesheet&quot; href=&quot;https://cdn.jsdelivr.net/npm/bootstrap@5.2.2/dist/css/bootstrap.min.css&quot;/&gt;\n",
              "    &lt;link rel=&quot;stylesheet&quot; href=&quot;https://netdna.bootstrapcdn.com/bootstrap/3.0.0/css/bootstrap.min.css&quot;/&gt;\n",
              "    &lt;link rel=&quot;stylesheet&quot; href=&quot;https://cdn.jsdelivr.net/npm/@fortawesome/fontawesome-free@6.2.0/css/all.min.css&quot;/&gt;\n",
              "    &lt;link rel=&quot;stylesheet&quot; href=&quot;https://cdnjs.cloudflare.com/ajax/libs/Leaflet.awesome-markers/2.0.2/leaflet.awesome-markers.css&quot;/&gt;\n",
              "    &lt;link rel=&quot;stylesheet&quot; href=&quot;https://cdn.jsdelivr.net/gh/python-visualization/folium/folium/templates/leaflet.awesome.rotate.min.css&quot;/&gt;\n",
              "    \n",
              "            &lt;meta name=&quot;viewport&quot; content=&quot;width=device-width,\n",
              "                initial-scale=1.0, maximum-scale=1.0, user-scalable=no&quot; /&gt;\n",
              "            &lt;style&gt;\n",
              "                #map_428524fb8852bf7f266ad5b62cda4673 {\n",
              "                    position: relative;\n",
              "                    width: 100.0%;\n",
              "                    height: 100.0%;\n",
              "                    left: 0.0%;\n",
              "                    top: 0.0%;\n",
              "                }\n",
              "                .leaflet-container { font-size: 1rem; }\n",
              "            &lt;/style&gt;\n",
              "        \n",
              "    &lt;script src=&quot;https://cdn.jsdelivr.net/gh/python-visualization/folium@main/folium/templates/leaflet_heat.min.js&quot;&gt;&lt;/script&gt;\n",
              "&lt;/head&gt;\n",
              "&lt;body&gt;\n",
              "    \n",
              "    \n",
              "            &lt;div class=&quot;folium-map&quot; id=&quot;map_428524fb8852bf7f266ad5b62cda4673&quot; &gt;&lt;/div&gt;\n",
              "        \n",
              "&lt;/body&gt;\n",
              "&lt;script&gt;\n",
              "    \n",
              "    \n",
              "            var map_428524fb8852bf7f266ad5b62cda4673 = L.map(\n",
              "                &quot;map_428524fb8852bf7f266ad5b62cda4673&quot;,\n",
              "                {\n",
              "                    center: [4.695135, 96.7493993],\n",
              "                    crs: L.CRS.EPSG3857,\n",
              "                    zoom: 11,\n",
              "                    zoomControl: true,\n",
              "                    preferCanvas: false,\n",
              "                }\n",
              "            );\n",
              "\n",
              "            \n",
              "\n",
              "        \n",
              "    \n",
              "            var tile_layer_a36c5c7bac9f183b5e434a4b479f5476 = L.tileLayer(\n",
              "                &quot;https://{s}.tile.openstreetmap.org/{z}/{x}/{y}.png&quot;,\n",
              "                {&quot;attribution&quot;: &quot;Data by \\u0026copy; \\u003ca target=\\&quot;_blank\\&quot; href=\\&quot;http://openstreetmap.org\\&quot;\\u003eOpenStreetMap\\u003c/a\\u003e, under \\u003ca target=\\&quot;_blank\\&quot; href=\\&quot;http://www.openstreetmap.org/copyright\\&quot;\\u003eODbL\\u003c/a\\u003e.&quot;, &quot;detectRetina&quot;: false, &quot;maxNativeZoom&quot;: 18, &quot;maxZoom&quot;: 18, &quot;minZoom&quot;: 0, &quot;noWrap&quot;: false, &quot;opacity&quot;: 1, &quot;subdomains&quot;: &quot;abc&quot;, &quot;tms&quot;: false}\n",
              "            ).addTo(map_428524fb8852bf7f266ad5b62cda4673);\n",
              "        \n",
              "    \n",
              "            var heat_map_6ba67523120a99d22ec59954cdcc8468 = L.heatLayer(\n",
              "                [[4.603552417512979, 97.99446378443123, 0.055919486333727786], [3.9578662186498947, 97.9742818918226, 0.6303399506495863], [3.345403529691046, 97.19261684881161, 0.21546708134812265], [4.559521876331273, 97.84386549470385, 0.05896180602483225], [3.541225873531488, 96.7843649095197, 0.4645577212193269], [3.1661670766894146, 97.66015894737038, 0.910820729445284], [4.613697300961711, 97.42213769309414, 0.027162508278873898], [3.7787499013634767, 98.04057736053299, 0.4972795269048087], [4.385867233666252, 97.78941600046102, 0.9611644813932033], [4.1645090349119975, 97.86206515507827, 0.9587326117801754], [2.6404309241286406, 97.77882674393605, 0.38901708094438947], [4.19384525819796, 97.7211899984925, 0.6288723764209471], [3.06413025599549, 97.25456094343167, 0.4073998279740657], [3.4658464963601414, 97.19219218487011, 0.9641616390106776], [3.9867393471631214, 97.91974480959055, 0.40333293272143156], [2.503412216965081, 97.9491870427764, 0.5637619864480011], [4.0243645031986, 98.0265299401742, 0.8725818057981742], [2.730414851228691, 97.53884788047408, 0.5326586559082619], [2.979016209802423, 97.66379237049293, 0.03495249359151187], [4.13634719046527, 97.20431491907135, 0.46926965649063557], [4.4436665553892265, 97.04390122307872, 0.5890847150780738], [4.20438677398549, 96.8562172990742, 0.47962017247763766], [4.530927485553066, 97.53610393757225, 0.7520181142792142], [3.712788806878369, 96.94548978272967, 0.9497156773248928], [3.324182377585644, 96.7984731165464, 0.9312096559292038], [2.6661212081402668, 98.02796660821478, 0.5583061545466025], [3.743817454084436, 97.74290868690507, 0.18200646572675605], [3.4500852053658058, 96.91432672564657, 0.23588901284306274], [3.9137845154148607, 97.50217034613945, 0.7473428261330829], [2.511412804758421, 97.04233621866297, 0.13571471794543266], [4.2379882806287945, 97.29203302571815, 0.16117467790711637], [2.5976962304436113, 96.94846912021085, 0.5894125180635751], [3.3972788501876363, 97.56768613702334, 0.7594812228478385], [2.4233970546021575, 97.4725465086842, 0.9986070536913224], [4.00990945603049, 97.17341269940509, 0.4275478493986604], [3.2731976213331686, 97.77350248115816, 0.6416444904089516], [3.644804959665459, 97.03976593877715, 0.9455533185374465], [2.567103095631661, 96.73140082396331, 0.025148118527015484], [3.6631399500930124, 97.16806039778261, 0.6277415893211467], [3.656751845774931, 97.82251328573336, 0.3605277485345466], [3.3315915589120797, 97.91141470192642, 0.500769995193395], [2.603823300049917, 97.86430111402075, 0.675676774299762], [4.031954941291932, 96.73165834546514, 0.70548691672248], [4.527604751913654, 97.90908260761084, 0.622914264122918], [3.1064771172299, 97.51953170757332, 0.2086701056002367], [3.9851062948539937, 97.21525812608884, 0.7134543309262237], [3.2187903778656013, 97.84521924809839, 0.6154550036259695], [2.5941671920595395, 97.49003600880194, 0.9883393104392562], [3.6653443701412374, 97.5273142784768, 0.07286995768318905], [2.4420614575722355, 96.86846698049206, 0.5422575431584432], [3.941934260057775, 97.19724044346448, 0.6336725921131479], [3.3657223234639377, 98.03838899333637, 0.680960479473939], [4.230349728344956, 97.16425841618474, 0.1065144455212087], [3.48512250724077, 97.5560840715167, 0.6378222230425952], [3.168958028350993, 96.76152101145556, 0.16850014660168555], [2.8272561979487874, 97.9001674468515, 0.7578312142937226], [2.4095839106734367, 97.30031213567071, 0.7868972264519607], [4.373526922637798, 96.86494740512867, 0.3507801175973627], [3.6199676760676516, 97.27836766262564, 0.7739714672866772], [3.3519589387436968, 97.17400402761257, 0.7926103580792071], [3.6678980304403437, 97.71294438091357, 0.5968312393186519], [4.361401820522731, 97.16915974347198, 0.4451145808267244], [2.8199928527443285, 98.03612173057921, 0.9621118965072265], [3.349093954566915, 97.14412132463752, 0.02648059985750817], [2.3638491323976467, 97.28048618543284, 0.17872090991964829], [3.8406367952733236, 97.96485011263427, 0.6585135191691011], [2.4079627725868575, 97.86229602514017, 0.8992584111131293], [4.174412655466734, 97.32261881549223, 0.17666931056885082], [3.2613247021259646, 97.75737826259886, 0.7451852956910501], [3.61276974685755, 97.90412818112753, 0.31279818406932003], [4.399170578997288, 96.7356994379751, 0.4203467167807712], [2.613552054860959, 97.49028706181618, 0.31961676731172883], [2.6496622785608945, 97.44324373597676, 0.8370623393922748], [3.213749131995098, 98.02296811767181, 0.38484659312892955], [3.615769631491352, 97.91036920183488, 0.3871450233993715], [3.000985491125691, 97.00422175638742, 0.389180364944411], [4.121479121896884, 97.79574010597737, 0.8755313502469544], [2.345677331640449, 97.06600892722521, 0.30785267517118997], [4.151714155062701, 97.50123740751926, 0.09256073327801673], [2.339945330136484, 97.22386816052658, 0.21927691285594375], [4.448498380243942, 96.72677409680047, 0.4858493965246734], [4.558411190673667, 96.88402365940266, 0.9396780595710132], [3.825068971662081, 97.58609101024808, 0.0030722915001198947], [2.9782317665390687, 97.04724351038266, 0.500662736782186], [4.325969623836221, 97.47252843221611, 0.9496806430197422], [3.5674500841750323, 97.66908354544776, 0.2902386975098975], [3.80741234930216, 97.84152646404205, 0.4779165204187279], [2.5866329969878485, 97.7921215263316, 0.4414914955739626], [3.385043089703471, 96.91017705173661, 0.36395298126377185], [4.230514147177052, 97.08804261779129, 0.18179707433329106], [2.6193310028206676, 97.03908885517791, 0.06378788483967623], [2.7300299536935446, 97.63120675359889, 0.7754270522684445], [3.154839663587146, 97.25353898469174, 0.8827960867694656], [2.407193215477077, 97.3417743187606, 0.10986638469132215], [3.469438150364769, 97.17085349761435, 0.9035556515524112], [2.6421666609502585, 97.73551978496499, 0.07825143733671835], [4.175488149082856, 96.92883764890507, 0.9803492702976836], [3.152977624168629, 97.45266794304071, 0.8722848075031854], [4.323439088063027, 97.24670639156595, 0.024574528181427358], [4.144136397342743, 96.89307999123938, 0.5017016722630208], [4.2949290441929655, 96.95597386933869, 0.4777968239235185], [2.4513815006217805, 97.0658757201109, 0.5161163810716299], [3.9334987347792616, 98.05766196683528, 0.0020232387686690556], [4.172696078923483, 97.99988769272456, 0.7587145901112302], [2.598440658581598, 97.21167491090317, 0.012553360550208836], [4.3311057983052805, 97.3254880331174, 0.1833349526500756], [4.454888727713277, 97.1038260491548, 0.4710642129023328], [2.4602192835976484, 97.59114052704169, 0.6512213619234687], [2.322933881117813, 97.24078279792249, 0.3699429562523705], [3.363824214806752, 97.77928757809846, 0.8429819051550639], [2.5893969103179537, 97.45631927520567, 0.1494641301888423], [3.8351435536632668, 96.88746927245106, 0.756870110802885], [4.2853064133378815, 96.86115334883812, 0.49314034837004106], [3.003304528140763, 97.52192064126464, 0.21617952648303818], [3.042282243902267, 97.22395576446652, 0.9594952878168796], [2.884961356735168, 97.15297553628254, 0.16056648610822133], [3.680799553518706, 97.82800563918185, 0.9664720230934979], [2.711629362532458, 96.90814147727899, 0.055487021593352615], [2.9864608862481976, 97.66529817165642, 0.1182450750146774], [2.7365209742875476, 97.32250526303103, 0.05806991717205934], [3.1196340374892912, 97.57314799368321, 0.7004464783934181], [3.05552691292804, 98.05100792189624, 0.6396357466846515], [3.654588339082414, 97.53903534739727, 0.29657597521381907], [2.7354171595843075, 97.13680530429568, 0.584963157809477], [2.5449085343329583, 97.52261341701774, 0.5586314233958717], [4.049500276423506, 96.93992127320783, 0.23427298756952097], [3.3018169315708596, 97.7310316567412, 0.7210263610417966], [3.9235666506031883, 97.66924008885337, 0.1687308030213085], [3.3085165848491647, 96.9541428490257, 0.6699479365557026], [2.7372010506566253, 97.2851185822849, 0.1748784538349032], [3.8423649154040325, 97.94317035969864, 0.7510282271224764], [2.3645096559539125, 96.81152526731981, 0.8215082167257722], [2.3488531220518483, 96.75481216518556, 0.9498428695138126], [2.414139922834086, 97.80893722515782, 0.16814653832330761], [2.355537069932617, 97.1308799867812, 0.26734827751236023], [3.133641312169847, 97.96421141367259, 0.2077432382533091], [2.437185460196857, 97.82740864757001, 0.174043830164206], [3.4447938363319643, 97.41271240231836, 0.8758700920414976], [4.515959133919851, 98.03757105415112, 0.030848527654572577], [4.175271638298665, 96.8336611566725, 0.17282923877911682], [4.11430065617281, 97.13035402526256, 0.14644281173428952], [2.9231138691978953, 98.03908568775753, 0.29478372945748743], [3.080728539121993, 97.95666105761067, 0.34193525268210123], [3.4311155151838193, 97.02297313421165, 0.7487593192016474], [3.6029202019445803, 96.77103509732561, 0.6265449874041306], [3.113238736778106, 97.76017372987839, 0.07871108956532558], [3.2197366783861865, 97.54587627356439, 0.2723194051464535], [3.7919053144455264, 97.49690744207841, 0.24879635582195603], [2.5602142253960336, 97.53446487050185, 0.5247882068331878], [3.1167265300990867, 96.83809918163924, 0.08439646804955281], [4.364940646721674, 97.22583725279021, 0.09943287413504054], [2.6015548796439485, 97.47485278381986, 0.3143194134598102], [4.479179276429836, 97.73129843359855, 0.10325257457419468], [3.726044289193062, 97.79505870906195, 0.05961157662989858], [3.889968146667715, 97.09896788559297, 0.8787578732499162], [2.357700682758735, 97.82766085392323, 0.3233009590854862], [3.4727875733237825, 97.02450302910586, 0.36149264368821377], [3.15307566050042, 98.03450979078201, 0.20784178657679153], [4.538242861531716, 97.3943912709985, 0.8711354460485513], [3.735100246620137, 97.78184590151184, 0.21763419499280212], [2.5481013106317802, 97.3876956224342, 0.834190317498846], [3.9655922862475323, 97.24607670883867, 0.9143099508805491], [4.600729408361838, 97.76601149584634, 0.23550037599439722], [3.4618586680743806, 97.74430074610281, 0.43980421353731614], [2.3641311367668756, 97.0331599900544, 0.6201539706958002], [2.572325138898326, 96.78261478512263, 0.1639389297675986], [4.3299920742386435, 96.88543196846082, 0.9961394644732547], [4.332802464696469, 97.24178834561194, 0.4059469008078159], [3.0991388275488196, 97.29355076838435, 0.8967763829055277], [3.1350289259816018, 98.01260425485121, 0.4436980180042547], [3.420746341925304, 97.87759603143512, 0.23310153465725236], [4.522380288523128, 97.92570168787029, 0.5946520610683919], [3.669285725055932, 97.94383215043776, 0.943780025080153], [2.4429589353812546, 97.1238480850984, 0.22410486228276105], [2.4830075383320285, 97.56921500338146, 0.6991922584755959], [3.5835835105477694, 97.57812542366955, 0.36399873638999947], [2.468058182933718, 97.42671300785108, 0.28560693836441564], [4.366321675894229, 97.86009966907388, 0.3155016133841839], [4.165406198262145, 97.476291979259, 0.17325064274683333], [2.9271986318360512, 97.43065035614927, 0.0721074843268984], [3.3892975167435333, 97.09197124882462, 0.3894833867680868], [3.99555187553085, 96.7873924583323, 0.9605993994174546], [4.565467933106511, 96.88549148848323, 0.26094559296572284], [4.0577851900364905, 97.05659966756532, 0.602269776856595], [3.87746745664003, 97.52180313324646, 0.649691221752816], [2.394930374671692, 97.13415779232571, 0.7074568716201655], [3.4418346311651122, 97.23905087708822, 0.5999788486281072], [2.9990832818498943, 97.48303275054649, 0.8680944300352111], [3.4376760779212256, 98.04146419058397, 0.4737662366026808], [3.9244069772868593, 97.98144042604872, 0.7439417448527237], [4.1457777996447795, 97.42454810409586, 0.533641897315865], [2.988233311085479, 96.88301293539094, 0.1471320340241422], [2.757107275001253, 97.34074352338291, 0.782113483992912], [3.3767408146072304, 96.99912085818367, 0.2648035109890986], [4.610038401050962, 97.86913048521977, 0.8840212120028906], [2.995491491166515, 97.58040340674754, 0.8931436930889654], [4.347841031577012, 97.10456574437829, 0.556299562572303], [3.6222033244762164, 96.93465817083955, 0.12382535928925387], [3.5155484735018736, 97.95970948686542, 0.054933922720663], [2.665434424629223, 96.83661149033217, 0.2225230655842786], [3.7408742095395233, 97.77901255247954, 0.945452278403292], [4.398608176598705, 96.96556667695111, 0.7886757190418621], [2.9297540056342837, 96.8952661127612, 0.41136613339768247], [3.85258270106744, 97.59522610148439, 0.40298975628231437], [3.950242092442652, 97.2724852238661, 0.01175250502694003], [3.772860902500942, 97.71551332651248, 0.8717399253311924], [3.1298514703405393, 97.20683515353777, 0.3200194516017495], [4.575064112059619, 97.8552849754165, 0.8437780626527743], [2.8335751110729075, 97.26147234430827, 0.21539102377106334], [4.511466142188165, 97.89440722312621, 0.17394755263898443], [2.5546949078492185, 97.57530198824816, 0.14557253765194644], [4.1916205978474546, 97.05602941976859, 0.7595212836522265], [4.211027231732956, 96.88000140994718, 0.7521767122387171], [4.405640191840313, 96.82802469597569, 0.8809215587080916], [3.488317669673375, 97.95941455912593, 0.6659894921605006], [4.524257734927225, 97.80066362506824, 0.6347473411809278], [2.465888892333274, 97.97790475273116, 0.8125672405580738], [2.944712056267956, 96.7422547295159, 0.5852075864894437], [4.103389363585382, 97.40769200401904, 0.14876564332512665], [2.964948175508446, 98.0577897947852, 0.7435111088040941], [3.1133120458676613, 97.08168147051829, 0.8740459005686512], [4.262873259118658, 97.45529635107367, 0.45665296622133844], [3.7587957497193343, 97.59044188039599, 0.9628429892887038], [4.574675582462497, 97.27423513116105, 0.3917812498576938], [4.178680949421005, 97.71876321285538, 0.4443995180456256], [4.394630523988406, 96.98903285043694, 0.65610475623809], [3.58983816877378, 97.79860848721037, 0.2924815940674843], [2.9973509257455717, 97.82192064217256, 0.5618919855847375], [3.6981246130536034, 97.59800178974228, 0.15423169870398923], [4.046843588941259, 97.8153200565996, 0.8968483985784473], [3.648220565007067, 97.89353232636604, 0.6870098220571232], [2.708087661673566, 97.52880875689425, 0.034748303020209814], [2.6456595661888858, 97.23064847554485, 0.8305132405353114], [2.3349288625268065, 96.74675892084196, 0.1451990331850911], [3.834042756727774, 97.66473203850221, 0.8946450920608728], [2.3308027233421886, 97.77479539083711, 0.7421486898139166], [2.3277531439869272, 97.54013494818562, 0.01554597007378411], [3.689486612334186, 96.98602235075131, 0.5138000116782471], [2.6444427533632995, 97.16240851653097, 0.45085854670848136], [3.1256334538426187, 97.11632626230588, 0.32845948614682274], [3.6164677974898067, 96.9280643916883, 0.33564253549327183], [3.7307080966123647, 97.78490165714317, 0.7408097741701718], [3.0456085943563096, 98.04610538605606, 0.9513872100631658], [3.65045863698593, 97.37259422672335, 0.9102689512443971], [3.9968526690575854, 96.86289619093168, 0.6524620450767185], [3.097936831197239, 97.8248092886519, 0.5246893300146964], [4.116598900603701, 97.11871932776853, 0.6863249505929527], [2.400013206457042, 97.02923360778686, 0.921217851051571], [3.6527712086513433, 97.94793829171977, 0.17282860264416977], [3.3157229183539267, 97.15670987233794, 0.8273473182846722], [3.8601741715864843, 97.51108070431468, 0.41181380274673385], [2.3154235364833076, 97.35080866616745, 0.9320796958991896], [4.183208866036575, 96.81853168299115, 0.695965862060869], [3.8002146652495887, 97.14405695913163, 0.7923995309557387], [2.91688207757445, 96.7875883384109, 0.13127469711587847], [3.7593211630660903, 97.9693198081527, 0.9364843275569437], [2.752750855639607, 97.73678724362242, 0.8286809642500059], [2.860256727444062, 97.20871485205949, 0.01312348036830202], [4.338569282832453, 97.74590849583738, 0.6358821264688153], [4.29164960255668, 97.83105967499215, 0.554487486493586], [4.4739694917605695, 97.82541112308563, 0.9243421352310633], [3.6308119422270937, 97.66207055875424, 0.9359938080832735], [3.201049031080707, 97.9278158113053, 0.7038729223914587], [4.581374237733941, 98.05608270914898, 0.31333925107814165], [3.265644016327604, 97.94071775371555, 0.5430493669250123], [4.090859481255393, 97.91637207505198, 0.24685176100412687], [3.239232607676281, 97.44578560610871, 0.6117437227976595], [2.4638192215467907, 97.93218022906898, 0.2988853875831281], [3.3287098368262127, 97.33236279027935, 0.9416964961471684], [2.8405120086072477, 97.81768162936855, 0.13983048496219774], [2.8831576494148563, 96.80929710736287, 0.9433448819462958], [4.147429430179351, 97.45629266588494, 0.7244880813520305], [3.753021211866523, 97.99834460004766, 0.8235971547739113], [3.2788700490880403, 96.88510554365007, 0.9538282148839461], [3.2969850923597868, 97.8183006074265, 0.5110771909777319], [3.2204525605775776, 96.81370303701148, 0.9396501545677993], [3.039786763827248, 96.83487137103405, 0.2890097665932526], [4.515052056409853, 97.88619406906196, 0.779109775074216], [4.5718622897746055, 96.72164173804563, 0.5174635456713608], [2.4516238633309553, 96.83123399345804, 0.4780333068400814], [4.570862490971165, 97.95819019793261, 0.05058150006224116], [3.5902715582359326, 97.92688715821255, 0.29589373629265914], [3.4905290614267503, 97.15079802776613, 0.8542388823581526], [3.458657664228791, 97.79832752766406, 0.3166083561823758], [3.9971547032993833, 97.34650030121814, 0.6783546538775934], [3.8807128799186756, 96.9336599451249, 0.6681958916247118], [3.216882787710449, 97.92693356473407, 0.5488804787879231], [4.02706884997439, 97.60075426196117, 0.6939945243420481], [3.6787618407871463, 97.26679858277902, 0.7514318374594287], [3.742620752289451, 97.90490828471057, 0.7639586212088656], [3.968061854257343, 96.98765159368874, 0.2737860334435973], [3.8438306308865853, 97.31172101904154, 0.6313494341780845], [2.4436486680470924, 96.95530521056165, 0.19460631321346034], [2.9786054120028744, 97.0087983358628, 0.36625215903027075], [2.8316852532879144, 97.59833261472568, 0.5231293908896626], [3.3655946794933507, 97.34401067672354, 0.5889822240812645], [4.05264472895046, 97.73816679401891, 0.5645538942414919], [4.448184162640589, 97.56782862889261, 0.8476674173383051], [4.002207666338908, 97.12156931676324, 0.7582596989936754], [2.5341982423195386, 97.17665115443998, 0.3474055040736599], [2.358498647169273, 97.81608363414965, 0.8569848438368896], [4.294362189264229, 97.45335387201072, 0.5866923615922696], [2.8333653213571246, 97.24029470863535, 0.6581891334040253], [2.575522356849452, 97.64898314303471, 0.9383562969983241], [4.013672475255661, 97.02976540046689, 0.1127358266359394], [2.795816977369011, 97.48636036165607, 0.27062532592512833], [3.97770757386828, 97.8116163346301, 0.1336011783414378], [4.338966903707089, 96.91374994644318, 0.5477269236462033], [3.662444430242412, 97.29908799632956, 0.7328241278146816], [3.5974263560480777, 97.33102421339137, 0.45432438296475575], [2.7465990572317276, 97.53305349155676, 0.8823999565051548], [2.513743589211228, 97.4501769470531, 0.49598632305721113], [2.894348181226735, 97.59814326866439, 0.30387190750517423], [2.5183872672277894, 97.10233438778266, 0.5157290105435453], [3.7120186658369763, 96.79827977529578, 0.21514986244306844], [2.773258670521789, 96.84732583866314, 0.7890791836950285], [4.0750707742032395, 97.8230004627333, 0.1315768044817277], [3.1606293782750927, 97.92333957711445, 0.6654463026304324], [3.350126261664309, 96.79113016445494, 0.3411570580389587], [2.5012496749458313, 97.27863140256447, 0.307973189782332], [2.3860919574587305, 97.88078035397591, 0.9367487827410139], [4.093967841020083, 97.92630954434364, 0.0440617910966401], [3.9500120562640246, 97.65188706995724, 0.2693684864276713], [3.5870330639886, 97.53014288806732, 0.8833783862925298], [2.4535622758770006, 97.32493158115639, 0.6411089656778605], [4.2920629714207985, 96.98958528888896, 0.5195252070478933], [2.6495933896494566, 97.10969531359041, 0.10043113281154259], [4.609740846183346, 97.93071816616194, 0.22510291449162756], [2.9456979937407084, 97.90420808860084, 0.4567037032839708], [4.145689843596081, 97.96438815157275, 0.48110639967352165], [3.855225313967656, 97.29629835244711, 0.3603124124166688], [4.4584982781731375, 97.80059451335063, 0.8645608326085303], [3.511709197629594, 97.62388351604449, 0.7927624607830898], [3.2108550773901445, 97.85454805499644, 0.04456943784429657], [3.94371229996928, 96.97880645154888, 0.4669082100200005], [2.7599680806668765, 97.27139086957163, 0.34257842246682657], [2.8526229739348525, 97.73770342675286, 0.496355372598964], [4.5652828704480335, 97.40168380696585, 0.6222687928466143], [4.53610782883206, 97.22506417052497, 0.441423396859841], [4.312488676069104, 97.6821360354661, 0.8304380243070567], [3.3012695996173855, 97.87720492037612, 0.7449695988746766], [2.8502140921972456, 97.0322968989396, 0.6638258933328842], [3.659721286509461, 97.90666057202759, 0.387092860401716], [2.7349665442954594, 97.50326217523596, 0.4768456220936682], [4.22729594310605, 97.10017172647908, 0.8433990969764686], [3.734896757391911, 96.8893831837883, 0.10217200117843017], [3.728841684698077, 97.41602796940509, 0.6681356258724579], [3.5946247213969977, 97.87173910627484, 0.9590621608556196], [3.275066492177794, 97.29460039613578, 0.23881505565313788], [3.4949564036559124, 96.83448709030458, 0.5853055926224168], [4.033137996064513, 97.42795563640507, 0.695699813950657], [4.114267204612576, 97.27730378440151, 0.25080959894337695], [2.8652955535668987, 97.05132254277387, 0.3633242698129221], [2.5534441292851686, 97.53334782197206, 0.30655559020301837], [3.3578719189468984, 97.34859829451555, 0.22171120182988446], [3.718629048898595, 97.88791921926234, 0.9057549736282032], [2.939684055046485, 96.9098628234787, 0.15995748545072497], [3.8539938611305082, 97.95817741660355, 0.03827469461526878], [3.0511928285272605, 97.73082971518384, 0.8663823368328152], [2.639140001748985, 96.73260193118237, 0.07659019398319555], [3.6116761092157486, 97.32145933011682, 0.5918839176741374], [2.9643864826184636, 97.34573558549248, 0.5962537165385288], [2.4480256282448933, 97.24253653100442, 0.6374066371658217], [4.1798724818277595, 97.92297520070818, 0.15576814125412763], [3.9578708927975486, 97.02115006083801, 0.8327083811032054], [3.7515935130066222, 97.1708802212894, 0.08030454593821301], [3.940945222412073, 96.91704953062927, 0.18099542982038608], [4.487928036831607, 97.78620375455343, 0.40354265865503813], [3.9177722886387474, 97.8163628904361, 0.2522421377445443], [3.2315167080183627, 96.96826262636026, 0.8160379152804565], [3.3251431249740033, 97.95517297514084, 0.6735135092678455], [4.40283677207897, 97.04346639746066, 0.6102134387225384], [2.840402473420152, 97.40993484918472, 0.0778967902216664], [2.739541089986926, 97.5033228320515, 0.43967018279875525], [4.060204430903905, 97.4074417198217, 0.3499548439559883], [3.52158419570159, 97.79834742279661, 0.9566905390823818], [4.2979073390702425, 96.78039911250093, 0.31957438181625686], [3.900821510898358, 96.76322896912812, 0.4573238403457086], [3.761114586138035, 97.07588422627748, 0.9215780150944287], [3.3806892013398553, 97.33471087582062, 0.8641278091194226], [3.259506804058371, 97.8465225005386, 0.8655639072169654], [2.3992003442297816, 97.77782870846507, 0.6600287764026243], [3.848971535224908, 98.05805165158027, 0.31758335874252086], [3.2284539002757566, 97.06230682399347, 0.9175283379499306], [2.379875603602565, 97.80962606460248, 0.8025440564847035], [2.9456685715516544, 97.22783172196198, 0.26795706513205586], [3.3988022433673404, 97.5564166959757, 0.8083484519234426], [4.162208994698572, 97.21854866785696, 0.23328846371663603], [2.4978460824938065, 97.35179760572736, 0.8923516439153892], [3.406424344624198, 97.18919037498631, 0.5770690412753732], [2.678843233633325, 97.42222246609356, 0.1511103779196038], [2.409012101084627, 96.91030017268781, 0.866824969899165], [2.698360823244929, 98.02736579041101, 0.8532181316874171], [3.9416194206943755, 97.51128834916692, 0.4440933217635109], [3.1162566105882776, 97.10954502454751, 0.15628972148946096], [3.914603098602349, 97.08608672825616, 0.4786032447192806], [4.001434075342538, 97.99658161291369, 0.4426096090548969], [3.981659812430613, 96.7704329466859, 0.735229848009826], [3.376334206001842, 97.1325431895533, 0.75996770287072], [3.566016278558031, 97.80207988234801, 0.8257434543929028], [2.8805599012596708, 97.10509737228475, 0.9255251735500136], [2.898899473290879, 98.05032743363837, 0.25218304731591623], [3.994071730990072, 97.94381600680383, 0.0698267657981142], [4.264379909446365, 97.44177231305328, 0.4226023380193622], [2.568217425862452, 96.81339101848691, 0.7769465322342071], [3.4380599154419915, 97.39440128969115, 0.276512641210798], [3.768614508235714, 97.40214414703652, 0.8192973452227542], [3.8752612767855386, 97.9510582558722, 0.19379162307648168], [3.7154563689393996, 96.8283330219089, 0.9197880638933518], [3.2689967982021413, 97.91738441992536, 0.5804566911889864], [2.424616905409921, 96.89851943270456, 0.025085977361589018], [4.581429526548252, 97.35016474687805, 0.6347473757393668], [2.5898554783933507, 97.96854934175757, 0.2459830165243656], [3.2964983997051847, 97.25245926002843, 0.22839058530630207], [3.916875425039542, 97.93608717456452, 0.9061943418953899], [4.150390003452761, 96.88915312386027, 0.7321980155432208], [3.464100320322493, 97.37839189640306, 0.43076327099587086], [2.7794843904253637, 97.30752063586996, 0.25394216025090566], [2.927982746195204, 98.01156392589782, 0.5179845979990216], [4.503596878625352, 96.82135280019189, 0.24800844014049928], [4.143155093077045, 97.9919231702988, 0.2323062696603494], [3.4487766434893636, 97.58009864196923, 0.7579750382625964], [2.414579071389966, 96.8644387272876, 0.797543850700167], [3.386497436144226, 97.05108016024705, 0.35431855505240606], [2.7258518798875113, 97.12027886123099, 0.07591724412012024], [2.4589188474796413, 96.86268506020225, 0.00014270990167797315], [3.1570552968334926, 97.05853099851265, 0.435324751124334], [2.4996374065851885, 97.83031762354547, 0.9995224097904988], [3.14820309049441, 97.26512829625061, 0.7915273250025615], [2.4119259470019165, 96.77469653283508, 0.06482350573564855], [3.8697631163646866, 97.9599680619057, 0.9671591951522371], [3.867956158167436, 97.21583550752932, 0.9005452841456826], [2.6701797922053783, 97.88744083515017, 0.4806606949082244], [4.562697511390726, 97.29648431531172, 0.3903000397173413], [4.474315993393475, 97.51394342085999, 0.648032962412938], [4.081958061180998, 97.59599142760996, 0.4829137624960712], [2.624536221892144, 98.0125107642735, 0.48945071078855684], [4.025723735472061, 97.57218068847033, 0.9581187748636922], [4.106824114838617, 97.89323911567337, 0.23573367001666945], [4.020646178826488, 97.5887156785366, 0.12821220487952245], [3.8195929737349155, 98.02083523627438, 0.611121516361363], [2.6469615448666337, 97.924439404712, 0.049855874515550735], [2.3454748070043214, 98.06220360595894, 0.28568230585968724], [2.8203694393694407, 97.31185047829229, 0.4812310367267476], [4.427787991005084, 97.02229009047804, 0.38397959793567193], [3.492245902160345, 97.13485496371716, 0.539785880097465], [3.3038151411666936, 97.58453357580842, 0.9510436640904495], [3.2275448347424303, 97.68184565297784, 0.18849075284920536], [3.770424878743128, 97.48511932345126, 0.930307388387667], [3.4203232148764693, 96.81977459573378, 0.08438300220381878], [4.2042727321805975, 97.31096444278144, 0.7655124046609509], [2.4615793050940886, 97.71733785040794, 0.6193521054625805], [3.3274053017650003, 97.36060477061861, 0.7549641878526873], [4.034314430074721, 97.71401302864399, 0.15955003215434294], [3.2990320418278345, 97.90847982138628, 0.9422001232331694], [2.6901486059837696, 97.26934828669476, 0.6424300793491936], [3.346555902454762, 96.78905590330096, 0.7220903875087261], [3.1997155126337278, 97.41792847132078, 0.3927345449740115], [3.474596823706764, 96.73896858304292, 0.866547777075545], [2.646546763946129, 97.81902033222637, 0.9044884698049434], [3.73814356739817, 97.38874812859687, 0.8454432748741921], [3.3699536908385483, 97.33549548440382, 0.8258420964937699], [2.536642847745951, 96.78942208144096, 0.5140416495091297], [3.384015525943502, 97.8472387660233, 0.7346838969691174], [4.30307540963004, 97.0890821676064, 0.3533600698101297], [3.2162930583167, 97.59013554120071, 0.612127773078008], [3.20086305301603, 97.42736191368779, 0.5143984975694246], [4.176394120597559, 97.59139331598375, 0.031179123010115828], [3.3105701509549625, 97.66094618385523, 0.06425051108611923], [3.434784677390037, 97.03446168183326, 0.658293145167019], [4.096829750966198, 97.44098136778055, 0.04130830132603991], [2.4331984860060674, 96.99126312499027, 0.8673489226661627], [2.764894456175343, 97.495282468495, 0.7814561011141908], [4.0246937961211255, 97.51078148364502, 0.3100102220600257], [3.138137108610655, 97.84209230411753, 0.3571214096070713], [4.355708383017976, 97.51988400618824, 0.709896511521625], [2.850228285270116, 97.46816619621784, 0.012210171094165223], [2.570558360075464, 97.12351143313673, 0.8671130511468365], [3.952714551019167, 97.61624276597709, 0.2979818208492422], [3.2503039797959143, 97.5728046511978, 0.692576919739237], [3.1236155244927666, 97.64914280869776, 0.37575726751476535], [3.3083157791740287, 97.12418667071815, 0.25771483512909676], [4.436272919372365, 96.83933568310647, 0.3391748186601823], [2.8756970452380095, 96.99617443549865, 0.6595191382975314], [4.592328435383667, 97.59243607845328, 0.744595676046612], [3.7931862752693526, 97.807980325884, 0.5253466733831927], [4.578752834850816, 97.22673967256951, 0.2053124415658235], [3.667659860122569, 96.92240833335124, 0.7758903310158112], [3.112275536677691, 97.66665294242237, 0.6643352980869254], [3.6336387573378013, 96.93544246553813, 0.33036949748740807], [4.339708001606434, 97.27321943187997, 0.9987882800689407], [3.9875030752979064, 97.35511207075926, 0.024902385963952334], [3.427085385731736, 97.04505351189663, 0.3671431793113431], [2.910327128329869, 97.87231232961352, 0.7521645443978346], [4.543248818189788, 97.37297734936793, 0.07625328779596097], [4.255868871985353, 97.51808965367694, 0.9635906356041187], [3.9586849687599828, 97.44647782411772, 0.04805890545128144], [2.864449325060199, 97.14046207471941, 0.1503191745680006], [2.4366585596242993, 97.09633630248084, 0.2327423224065701], [3.8876879315732866, 98.06164035834041, 0.8904095143820301]],\n",
              "                {&quot;blur&quot;: 15, &quot;maxZoom&quot;: 18, &quot;minOpacity&quot;: 0.5, &quot;radius&quot;: 25}\n",
              "            ).addTo(map_428524fb8852bf7f266ad5b62cda4673);\n",
              "        \n",
              "&lt;/script&gt;\n",
              "&lt;/html&gt;\" style=\"position:absolute;width:100%;height:100%;left:0;top:0;border:none !important;\" allowfullscreen webkitallowfullscreen mozallowfullscreen></iframe></div></div>"
            ]
          },
          "metadata": {},
          "execution_count": 611
        }
      ]
    },
    {
      "cell_type": "markdown",
      "source": [
        "# **C L A S S I F I C A T I O N**"
      ],
      "metadata": {
        "id": "MmZ226Hqe_aZ"
      }
    },
    {
      "cell_type": "code",
      "source": [
        "import pandas as pd\n",
        "import numpy as np\n",
        "from sklearn.svm import SVC\n",
        "from sklearn.neighbors import KNeighborsClassifier\n",
        "from sklearn.linear_model import LogisticRegression\n",
        "from sklearn.naive_bayes import GaussianNB\n",
        "from sklearn.tree import DecisionTreeClassifier\n",
        "from sklearn.ensemble import RandomForestClassifier\n",
        "from sklearn.neural_network import MLPClassifier\n",
        "from sklearn.metrics import confusion_matrix, classification_report, accuracy_score\n",
        "from sklearn.model_selection import cross_val_score\n",
        "from sklearn.model_selection import train_test_split\n",
        "from sklearn.preprocessing import LabelEncoder"
      ],
      "metadata": {
        "id": "LG9rFIN3ZWHi"
      },
      "execution_count": null,
      "outputs": []
    },
    {
      "cell_type": "code",
      "source": [
        "X = df.drop(['Area ID', 'Latitude', 'Longitude', 'Parameter Description', 'Parameter ID', 'Area Name', 'Value Unit', 'Value_Category', 'Weather_Category'] , axis=1)  # Features\n",
        "y = df['Value']"
      ],
      "metadata": {
        "id": "OZGd2YVzfHGz"
      },
      "execution_count": null,
      "outputs": []
    },
    {
      "cell_type": "code",
      "source": [
        "data = df.dropna(subset=['Value'])"
      ],
      "metadata": {
        "id": "L13PtYwqGfMg"
      },
      "execution_count": null,
      "outputs": []
    },
    {
      "cell_type": "code",
      "source": [
        "X_train, X_test, y_train, y_test = train_test_split(X, y, test_size=0.2, random_state=42)"
      ],
      "metadata": {
        "id": "0zalyqgyfG85"
      },
      "execution_count": null,
      "outputs": []
    },
    {
      "cell_type": "markdown",
      "source": [
        "##### **By Chategories**"
      ],
      "metadata": {
        "id": "IcJuC3Z2p3nH"
      }
    },
    {
      "cell_type": "markdown",
      "source": [
        "**SVC**"
      ],
      "metadata": {
        "id": "6ZG-12sJhR6a"
      }
    },
    {
      "cell_type": "code",
      "source": [
        "# Instalasi pustaka yang diperlukan\n",
        "!pip install pandas requests beautifulsoup4 scikit-learn\n",
        "\n",
        "import pandas as pd\n",
        "import requests\n",
        "from bs4 import BeautifulSoup\n",
        "from sklearn.model_selection import train_test_split\n",
        "from sklearn.svm import SVC\n",
        "from sklearn.metrics import accuracy_score, classification_report\n",
        "from sklearn.preprocessing import LabelEncoder\n",
        "\n",
        "# URL sumber data XML di Google Drive\n",
        "url = \"/content/drive/My Drive/UAS Data Mining/data.bmkg.go.id_DataMKG_MEWS_DigitalForecast_DigitalForecast-Aceh.xml\"\n",
        "\n",
        "# Mengambil data dari URL\n",
        "with open(url, 'r') as file:\n",
        "    data_xml = file.read()\n",
        "\n",
        "# Mengonversi data XML ke dalam objek BeautifulSoup\n",
        "soup = BeautifulSoup(data_xml, \"xml\")\n",
        "\n",
        "# Mengonversi data XML ke dalam dataframe Pandas\n",
        "data = []\n",
        "for timerange in soup.find_all(\"timerange\"):\n",
        "    data.append({\n",
        "        \"datetime\": timerange[\"datetime\"],\n",
        "        \"weather\": timerange.find(\"value\").text\n",
        "    })\n",
        "\n",
        "df = pd.DataFrame(data)\n",
        "\n",
        "# Mempersiapkan data untuk klasifikasi\n",
        "# Misalnya, menggolongkan cuaca menjadi beberapa kategori (Cerah, Hujan, Berawan, dll.)\n",
        "# dan kemudian membuat kolom target\n",
        "le = LabelEncoder()\n",
        "df[\"weather_category\"] = le.fit_transform(df[\"weather\"])\n",
        "\n",
        "# Pemisahan data pelatihan dan pengujian\n",
        "X = df[[\"datetime\"]]\n",
        "y = df[\"weather_category\"]\n",
        "X_train, X_test, y_train, y_test = train_test_split(X, y, test_size=0.2, random_state=42)\n",
        "\n",
        "# Membuat dan melatih model SVM\n",
        "model = SVC()\n",
        "model.fit(X_train, y_train)\n",
        "\n",
        "# Memprediksi cuaca\n",
        "y_pred = model.predict(X_test)\n",
        "\n",
        "# Evaluasi model\n",
        "accuracy = accuracy_score(y_test, y_pred)\n",
        "report = classification_report(y_test, y_pred)\n",
        "\n",
        "print(f\"Akurasi: {accuracy}\")\n",
        "print(f\"Report:\\n{report}\")\n",
        "\n",
        "# Jika perlu, visualisasikan hasil klasifikasi cuaca\n",
        "# Misalnya, plot data waktu vs. kategori cuaca\n",
        "# atau gunakan metode visualisasi yang sesuai dengan data Anda."
      ],
      "metadata": {
        "id": "YkwrHOSnfGv6",
        "colab": {
          "base_uri": "https://localhost:8080/"
        },
        "outputId": "04747de4-95eb-47a8-b52e-efd88cf3491d"
      },
      "execution_count": null,
      "outputs": [
        {
          "output_type": "stream",
          "name": "stdout",
          "text": [
            "Requirement already satisfied: pandas in /usr/local/lib/python3.10/dist-packages (1.5.3)\n",
            "Requirement already satisfied: requests in /usr/local/lib/python3.10/dist-packages (2.31.0)\n",
            "Requirement already satisfied: beautifulsoup4 in /usr/local/lib/python3.10/dist-packages (4.11.2)\n",
            "Requirement already satisfied: scikit-learn in /usr/local/lib/python3.10/dist-packages (1.2.2)\n",
            "Requirement already satisfied: python-dateutil>=2.8.1 in /usr/local/lib/python3.10/dist-packages (from pandas) (2.8.2)\n",
            "Requirement already satisfied: pytz>=2020.1 in /usr/local/lib/python3.10/dist-packages (from pandas) (2023.3.post1)\n",
            "Requirement already satisfied: numpy>=1.21.0 in /usr/local/lib/python3.10/dist-packages (from pandas) (1.23.5)\n",
            "Requirement already satisfied: charset-normalizer<4,>=2 in /usr/local/lib/python3.10/dist-packages (from requests) (3.2.0)\n",
            "Requirement already satisfied: idna<4,>=2.5 in /usr/local/lib/python3.10/dist-packages (from requests) (3.4)\n",
            "Requirement already satisfied: urllib3<3,>=1.21.1 in /usr/local/lib/python3.10/dist-packages (from requests) (2.0.4)\n",
            "Requirement already satisfied: certifi>=2017.4.17 in /usr/local/lib/python3.10/dist-packages (from requests) (2023.7.22)\n",
            "Requirement already satisfied: soupsieve>1.2 in /usr/local/lib/python3.10/dist-packages (from beautifulsoup4) (2.5)\n",
            "Requirement already satisfied: scipy>=1.3.2 in /usr/local/lib/python3.10/dist-packages (from scikit-learn) (1.10.1)\n",
            "Requirement already satisfied: joblib>=1.1.1 in /usr/local/lib/python3.10/dist-packages (from scikit-learn) (1.3.2)\n",
            "Requirement already satisfied: threadpoolctl>=2.0.0 in /usr/local/lib/python3.10/dist-packages (from scikit-learn) (3.2.0)\n",
            "Requirement already satisfied: six>=1.5 in /usr/local/lib/python3.10/dist-packages (from python-dateutil>=2.8.1->pandas) (1.16.0)\n",
            "Akurasi: 0.03614457831325301\n",
            "Report:\n",
            "              precision    recall  f1-score   support\n",
            "\n",
            "           0       0.00      0.00      0.00        27\n",
            "           1       0.05      0.22      0.08        23\n",
            "           2       0.00      0.00      0.00         5\n",
            "           3       0.00      0.00      0.00         2\n",
            "           4       0.00      0.00      0.00         3\n",
            "           5       0.00      0.00      0.00         3\n",
            "           6       0.00      0.00      0.00         1\n",
            "           7       0.00      0.00      0.00         6\n",
            "           9       0.00      0.00      0.00         6\n",
            "          10       0.00      0.00      0.00         5\n",
            "          11       0.00      0.00      0.00         1\n",
            "          12       0.00      0.00      0.00         3\n",
            "          13       0.00      0.00      0.00        25\n",
            "          14       0.00      0.00      0.00         2\n",
            "          15       0.00      0.00      0.00         5\n",
            "          16       0.00      0.00      0.00         1\n",
            "          18       0.00      0.00      0.00         4\n",
            "          19       0.00      0.00      0.00         7\n",
            "          20       0.00      0.00      0.00         7\n",
            "          21       0.00      0.00      0.00        15\n",
            "          22       0.00      0.00      0.00         1\n",
            "          23       0.00      0.00      0.00        14\n",
            "          24       0.00      0.00      0.00         8\n",
            "          25       0.00      0.00      0.00         2\n",
            "          26       0.00      0.00      0.00         3\n",
            "          27       0.00      0.00      0.00         5\n",
            "          28       0.00      0.00      0.00         6\n",
            "          30       0.00      0.00      0.00        10\n",
            "          31       0.00      0.00      0.00         5\n",
            "          32       0.00      0.00      0.00         1\n",
            "          34       0.00      0.00      0.00         5\n",
            "          35       0.00      0.00      0.00         4\n",
            "          36       0.00      0.00      0.00         1\n",
            "          37       0.00      0.00      0.00         3\n",
            "          39       0.00      0.00      0.00         7\n",
            "          40       0.00      0.00      0.00        25\n",
            "          41       0.00      0.00      0.00         1\n",
            "          42       0.00      0.00      0.00         6\n",
            "          43       0.00      0.00      0.00         1\n",
            "          45       0.00      0.00      0.00         8\n",
            "          46       0.00      0.00      0.00         5\n",
            "          47       0.00      0.00      0.00         2\n",
            "          48       0.00      0.00      0.00         6\n",
            "          49       0.00      0.00      0.00        13\n",
            "          50       0.00      0.00      0.00         8\n",
            "          51       0.07      0.35      0.11        20\n",
            "          52       0.00      0.00      0.00        11\n",
            "\n",
            "    accuracy                           0.04       332\n",
            "   macro avg       0.00      0.01      0.00       332\n",
            "weighted avg       0.01      0.04      0.01       332\n",
            "\n"
          ]
        },
        {
          "output_type": "stream",
          "name": "stderr",
          "text": [
            "/usr/local/lib/python3.10/dist-packages/sklearn/metrics/_classification.py:1344: UndefinedMetricWarning:\n",
            "\n",
            "Precision and F-score are ill-defined and being set to 0.0 in labels with no predicted samples. Use `zero_division` parameter to control this behavior.\n",
            "\n",
            "/usr/local/lib/python3.10/dist-packages/sklearn/metrics/_classification.py:1344: UndefinedMetricWarning:\n",
            "\n",
            "Precision and F-score are ill-defined and being set to 0.0 in labels with no predicted samples. Use `zero_division` parameter to control this behavior.\n",
            "\n",
            "/usr/local/lib/python3.10/dist-packages/sklearn/metrics/_classification.py:1344: UndefinedMetricWarning:\n",
            "\n",
            "Precision and F-score are ill-defined and being set to 0.0 in labels with no predicted samples. Use `zero_division` parameter to control this behavior.\n",
            "\n"
          ]
        }
      ]
    },
    {
      "cell_type": "markdown",
      "source": [
        "**KNN**"
      ],
      "metadata": {
        "id": "GBh8LcxbvRf_"
      }
    },
    {
      "cell_type": "code",
      "source": [
        "# Instalasi pustaka yang diperlukan\n",
        "!pip install pandas requests beautifulsoup4 scikit-learn\n",
        "\n",
        "import pandas as pd\n",
        "import requests\n",
        "from bs4 import BeautifulSoup\n",
        "from sklearn.model_selection import train_test_split\n",
        "from sklearn.neighbors import KNeighborsClassifier\n",
        "from sklearn.metrics import accuracy_score, classification_report\n",
        "from sklearn.preprocessing import LabelEncoder\n",
        "\n",
        "# URL sumber data XML di Google Drive\n",
        "url = \"/content/drive/My Drive/UAS Data Mining/data.bmkg.go.id_DataMKG_MEWS_DigitalForecast_DigitalForecast-Aceh.xml\"\n",
        "\n",
        "# Mengambil data dari URL\n",
        "with open(url, 'r') as file:\n",
        "    data_xml = file.read()\n",
        "\n",
        "# Mengonversi data XML ke dalam objek BeautifulSoup\n",
        "soup = BeautifulSoup(data_xml, \"xml\")\n",
        "\n",
        "# Mengonversi data XML ke dalam dataframe Pandas\n",
        "data = []\n",
        "for timerange in soup.find_all(\"timerange\"):\n",
        "    data.append({\n",
        "        \"datetime\": timerange[\"datetime\"],\n",
        "        \"weather\": timerange.find(\"value\").text\n",
        "    })\n",
        "\n",
        "df = pd.DataFrame(data)\n",
        "\n",
        "# Mempersiapkan data untuk klasifikasi\n",
        "# Misalnya, menggolongkan cuaca menjadi beberapa kategori (Cerah, Hujan, Berawan, dll.)\n",
        "# dan kemudian membuat kolom target\n",
        "le = LabelEncoder()\n",
        "df[\"weather_category\"] = le.fit_transform(df[\"weather\"])\n",
        "\n",
        "# Pemisahan data pelatihan dan pengujian\n",
        "X = df[[\"datetime\"]]\n",
        "y = df[\"weather_category\"]\n",
        "X_train, X_test, y_train, y_test = train_test_split(X, y, test_size=0.2, random_state=42)\n",
        "\n",
        "# Membuat dan melatih model KNN\n",
        "model = KNeighborsClassifier(n_neighbors=3)  # Misalnya, menggunakan 3 tetangga terdekat\n",
        "model.fit(X_train, y_train)\n",
        "\n",
        "# Memprediksi cuaca\n",
        "y_pred = model.predict(X_test)\n",
        "\n",
        "# Evaluasi model\n",
        "accuracy = accuracy_score(y_test, y_pred)\n",
        "report = classification_report(y_test, y_pred)\n",
        "\n",
        "print(f\"Akurasi: {accuracy}\")\n",
        "print(f\"Report:\\n{report}\")\n",
        "\n",
        "# Jika perlu, visualisasikan hasil klasifikasi cuaca\n",
        "# Misalnya, plot data waktu vs. kategori cuaca\n",
        "# atau gunakan metode visualisasi yang sesuai dengan data Anda."
      ],
      "metadata": {
        "id": "yZeSM8VtvQ__",
        "colab": {
          "base_uri": "https://localhost:8080/"
        },
        "outputId": "844c765c-b1b7-40f9-e37a-460eb5c70aab"
      },
      "execution_count": null,
      "outputs": [
        {
          "output_type": "stream",
          "name": "stdout",
          "text": [
            "Requirement already satisfied: pandas in /usr/local/lib/python3.10/dist-packages (1.5.3)\n",
            "Requirement already satisfied: requests in /usr/local/lib/python3.10/dist-packages (2.31.0)\n",
            "Requirement already satisfied: beautifulsoup4 in /usr/local/lib/python3.10/dist-packages (4.11.2)\n",
            "Requirement already satisfied: scikit-learn in /usr/local/lib/python3.10/dist-packages (1.2.2)\n",
            "Requirement already satisfied: python-dateutil>=2.8.1 in /usr/local/lib/python3.10/dist-packages (from pandas) (2.8.2)\n",
            "Requirement already satisfied: pytz>=2020.1 in /usr/local/lib/python3.10/dist-packages (from pandas) (2023.3.post1)\n",
            "Requirement already satisfied: numpy>=1.21.0 in /usr/local/lib/python3.10/dist-packages (from pandas) (1.23.5)\n",
            "Requirement already satisfied: charset-normalizer<4,>=2 in /usr/local/lib/python3.10/dist-packages (from requests) (3.2.0)\n",
            "Requirement already satisfied: idna<4,>=2.5 in /usr/local/lib/python3.10/dist-packages (from requests) (3.4)\n",
            "Requirement already satisfied: urllib3<3,>=1.21.1 in /usr/local/lib/python3.10/dist-packages (from requests) (2.0.4)\n",
            "Requirement already satisfied: certifi>=2017.4.17 in /usr/local/lib/python3.10/dist-packages (from requests) (2023.7.22)\n",
            "Requirement already satisfied: soupsieve>1.2 in /usr/local/lib/python3.10/dist-packages (from beautifulsoup4) (2.5)\n",
            "Requirement already satisfied: scipy>=1.3.2 in /usr/local/lib/python3.10/dist-packages (from scikit-learn) (1.10.1)\n",
            "Requirement already satisfied: joblib>=1.1.1 in /usr/local/lib/python3.10/dist-packages (from scikit-learn) (1.3.2)\n",
            "Requirement already satisfied: threadpoolctl>=2.0.0 in /usr/local/lib/python3.10/dist-packages (from scikit-learn) (3.2.0)\n",
            "Requirement already satisfied: six>=1.5 in /usr/local/lib/python3.10/dist-packages (from python-dateutil>=2.8.1->pandas) (1.16.0)\n",
            "Akurasi: 0.04819277108433735\n",
            "Report:\n",
            "              precision    recall  f1-score   support\n",
            "\n",
            "           0       0.08      0.30      0.12        27\n",
            "           1       0.04      0.13      0.07        23\n",
            "           2       0.00      0.00      0.00         5\n",
            "           3       0.00      0.00      0.00         2\n",
            "           4       0.00      0.00      0.00         3\n",
            "           5       0.00      0.00      0.00         3\n",
            "           6       0.00      0.00      0.00         1\n",
            "           7       0.00      0.00      0.00         6\n",
            "           9       0.00      0.00      0.00         6\n",
            "          10       0.00      0.00      0.00         5\n",
            "          11       0.00      0.00      0.00         1\n",
            "          12       0.00      0.00      0.00         3\n",
            "          13       0.16      0.12      0.14        25\n",
            "          14       0.00      0.00      0.00         2\n",
            "          15       0.00      0.00      0.00         5\n",
            "          16       0.00      0.00      0.00         1\n",
            "          17       0.00      0.00      0.00         0\n",
            "          18       0.00      0.00      0.00         4\n",
            "          19       0.00      0.00      0.00         7\n",
            "          20       0.00      0.00      0.00         7\n",
            "          21       0.00      0.00      0.00        15\n",
            "          22       0.00      0.00      0.00         1\n",
            "          23       0.00      0.00      0.00        14\n",
            "          24       0.00      0.00      0.00         8\n",
            "          25       0.00      0.00      0.00         2\n",
            "          26       0.00      0.00      0.00         3\n",
            "          27       0.00      0.00      0.00         5\n",
            "          28       0.00      0.00      0.00         6\n",
            "          30       0.00      0.00      0.00        10\n",
            "          31       0.00      0.00      0.00         5\n",
            "          32       0.00      0.00      0.00         1\n",
            "          34       0.00      0.00      0.00         5\n",
            "          35       0.00      0.00      0.00         4\n",
            "          36       0.00      0.00      0.00         1\n",
            "          37       0.00      0.00      0.00         3\n",
            "          39       0.00      0.00      0.00         7\n",
            "          40       0.08      0.08      0.08        25\n",
            "          41       0.00      0.00      0.00         1\n",
            "          42       0.00      0.00      0.00         6\n",
            "          43       0.00      0.00      0.00         1\n",
            "          45       0.00      0.00      0.00         8\n",
            "          46       0.00      0.00      0.00         5\n",
            "          47       0.00      0.00      0.00         2\n",
            "          48       0.00      0.00      0.00         6\n",
            "          49       0.00      0.00      0.00        13\n",
            "          50       0.00      0.00      0.00         8\n",
            "          51       0.00      0.00      0.00        20\n",
            "          52       0.00      0.00      0.00        11\n",
            "\n",
            "    accuracy                           0.05       332\n",
            "   macro avg       0.01      0.01      0.01       332\n",
            "weighted avg       0.03      0.05      0.03       332\n",
            "\n"
          ]
        },
        {
          "output_type": "stream",
          "name": "stderr",
          "text": [
            "/usr/local/lib/python3.10/dist-packages/sklearn/metrics/_classification.py:1344: UndefinedMetricWarning:\n",
            "\n",
            "Precision and F-score are ill-defined and being set to 0.0 in labels with no predicted samples. Use `zero_division` parameter to control this behavior.\n",
            "\n",
            "/usr/local/lib/python3.10/dist-packages/sklearn/metrics/_classification.py:1344: UndefinedMetricWarning:\n",
            "\n",
            "Recall and F-score are ill-defined and being set to 0.0 in labels with no true samples. Use `zero_division` parameter to control this behavior.\n",
            "\n",
            "/usr/local/lib/python3.10/dist-packages/sklearn/metrics/_classification.py:1344: UndefinedMetricWarning:\n",
            "\n",
            "Precision and F-score are ill-defined and being set to 0.0 in labels with no predicted samples. Use `zero_division` parameter to control this behavior.\n",
            "\n",
            "/usr/local/lib/python3.10/dist-packages/sklearn/metrics/_classification.py:1344: UndefinedMetricWarning:\n",
            "\n",
            "Recall and F-score are ill-defined and being set to 0.0 in labels with no true samples. Use `zero_division` parameter to control this behavior.\n",
            "\n",
            "/usr/local/lib/python3.10/dist-packages/sklearn/metrics/_classification.py:1344: UndefinedMetricWarning:\n",
            "\n",
            "Precision and F-score are ill-defined and being set to 0.0 in labels with no predicted samples. Use `zero_division` parameter to control this behavior.\n",
            "\n",
            "/usr/local/lib/python3.10/dist-packages/sklearn/metrics/_classification.py:1344: UndefinedMetricWarning:\n",
            "\n",
            "Recall and F-score are ill-defined and being set to 0.0 in labels with no true samples. Use `zero_division` parameter to control this behavior.\n",
            "\n"
          ]
        }
      ]
    },
    {
      "cell_type": "markdown",
      "source": [
        "**Logistic Regression**"
      ],
      "metadata": {
        "id": "3l5QjCv_vbfU"
      }
    },
    {
      "cell_type": "code",
      "source": [
        "# Instalasi pustaka yang diperlukan\n",
        "!pip install pandas requests beautifulsoup4 scikit-learn\n",
        "\n",
        "import pandas as pd\n",
        "import requests\n",
        "from bs4 import BeautifulSoup\n",
        "from sklearn.model_selection import train_test_split\n",
        "from sklearn.linear_model import LogisticRegression\n",
        "from sklearn.metrics import accuracy_score, classification_report\n",
        "from sklearn.preprocessing import LabelEncoder\n",
        "\n",
        "# URL sumber data XML di Google Drive\n",
        "url = \"/content/drive/My Drive/UAS Data Mining/data.bmkg.go.id_DataMKG_MEWS_DigitalForecast_DigitalForecast-Aceh.xml\"\n",
        "\n",
        "# Mengambil data dari URL\n",
        "with open(url, 'r') as file:\n",
        "    data_xml = file.read()\n",
        "\n",
        "# Mengonversi data XML ke dalam objek BeautifulSoup\n",
        "soup = BeautifulSoup(data_xml, \"xml\")\n",
        "\n",
        "# Mengonversi data XML ke dalam dataframe Pandas\n",
        "data = []\n",
        "for timerange in soup.find_all(\"timerange\"):\n",
        "    data.append({\n",
        "        \"datetime\": timerange[\"datetime\"],\n",
        "        \"weather\": timerange.find(\"value\").text\n",
        "    })\n",
        "\n",
        "df = pd.DataFrame(data)\n",
        "\n",
        "# Mempersiapkan data untuk klasifikasi\n",
        "# Misalnya, menggolongkan cuaca menjadi beberapa kategori (Cerah, Hujan, Berawan, dll.)\n",
        "# dan kemudian membuat kolom target\n",
        "le = LabelEncoder()\n",
        "df[\"weather_category\"] = le.fit_transform(df[\"weather\"])\n",
        "\n",
        "# Pemisahan data pelatihan dan pengujian\n",
        "X = df[[\"datetime\"]]\n",
        "y = df[\"weather_category\"]\n",
        "X_train, X_test, y_train, y_test = train_test_split(X, y, test_size=0.2, random_state=42)\n",
        "\n",
        "# Membuat dan melatih model Regresi Logistik\n",
        "model = LogisticRegression()\n",
        "model.fit(X_train, y_train)\n",
        "\n",
        "# Memprediksi cuaca\n",
        "y_pred = model.predict(X_test)\n",
        "\n",
        "# Evaluasi model\n",
        "accuracy = accuracy_score(y_test, y_pred)\n",
        "report = classification_report(y_test, y_pred)\n",
        "\n",
        "print(f\"Akurasi: {accuracy}\")\n",
        "print(f\"Report:\\n{report}\")\n",
        "\n",
        "# Jika perlu, visualisasikan hasil klasifikasi cuaca\n",
        "# Misalnya, plot data waktu vs. kategori cuaca\n",
        "# atau gunakan metode visualisasi yang sesuai dengan data Anda."
      ],
      "metadata": {
        "id": "Me77SF3uvQ9X",
        "colab": {
          "base_uri": "https://localhost:8080/"
        },
        "outputId": "9d95ce0a-b099-4f25-a5ce-59ced7bdb8d2"
      },
      "execution_count": null,
      "outputs": [
        {
          "output_type": "stream",
          "name": "stdout",
          "text": [
            "Requirement already satisfied: pandas in /usr/local/lib/python3.10/dist-packages (1.5.3)\n",
            "Requirement already satisfied: requests in /usr/local/lib/python3.10/dist-packages (2.31.0)\n",
            "Requirement already satisfied: beautifulsoup4 in /usr/local/lib/python3.10/dist-packages (4.11.2)\n",
            "Requirement already satisfied: scikit-learn in /usr/local/lib/python3.10/dist-packages (1.2.2)\n",
            "Requirement already satisfied: python-dateutil>=2.8.1 in /usr/local/lib/python3.10/dist-packages (from pandas) (2.8.2)\n",
            "Requirement already satisfied: pytz>=2020.1 in /usr/local/lib/python3.10/dist-packages (from pandas) (2023.3.post1)\n",
            "Requirement already satisfied: numpy>=1.21.0 in /usr/local/lib/python3.10/dist-packages (from pandas) (1.23.5)\n",
            "Requirement already satisfied: charset-normalizer<4,>=2 in /usr/local/lib/python3.10/dist-packages (from requests) (3.2.0)\n",
            "Requirement already satisfied: idna<4,>=2.5 in /usr/local/lib/python3.10/dist-packages (from requests) (3.4)\n",
            "Requirement already satisfied: urllib3<3,>=1.21.1 in /usr/local/lib/python3.10/dist-packages (from requests) (2.0.4)\n",
            "Requirement already satisfied: certifi>=2017.4.17 in /usr/local/lib/python3.10/dist-packages (from requests) (2023.7.22)\n",
            "Requirement already satisfied: soupsieve>1.2 in /usr/local/lib/python3.10/dist-packages (from beautifulsoup4) (2.5)\n",
            "Requirement already satisfied: scipy>=1.3.2 in /usr/local/lib/python3.10/dist-packages (from scikit-learn) (1.10.1)\n",
            "Requirement already satisfied: joblib>=1.1.1 in /usr/local/lib/python3.10/dist-packages (from scikit-learn) (1.3.2)\n",
            "Requirement already satisfied: threadpoolctl>=2.0.0 in /usr/local/lib/python3.10/dist-packages (from scikit-learn) (3.2.0)\n",
            "Requirement already satisfied: six>=1.5 in /usr/local/lib/python3.10/dist-packages (from python-dateutil>=2.8.1->pandas) (1.16.0)\n",
            "Akurasi: 0.06927710843373494\n",
            "Report:\n",
            "              precision    recall  f1-score   support\n",
            "\n",
            "           0       0.00      0.00      0.00        27\n",
            "           1       0.07      1.00      0.13        23\n",
            "           2       0.00      0.00      0.00         5\n",
            "           3       0.00      0.00      0.00         2\n",
            "           4       0.00      0.00      0.00         3\n",
            "           5       0.00      0.00      0.00         3\n",
            "           6       0.00      0.00      0.00         1\n",
            "           7       0.00      0.00      0.00         6\n",
            "           9       0.00      0.00      0.00         6\n",
            "          10       0.00      0.00      0.00         5\n",
            "          11       0.00      0.00      0.00         1\n",
            "          12       0.00      0.00      0.00         3\n",
            "          13       0.00      0.00      0.00        25\n",
            "          14       0.00      0.00      0.00         2\n",
            "          15       0.00      0.00      0.00         5\n",
            "          16       0.00      0.00      0.00         1\n",
            "          18       0.00      0.00      0.00         4\n",
            "          19       0.00      0.00      0.00         7\n",
            "          20       0.00      0.00      0.00         7\n",
            "          21       0.00      0.00      0.00        15\n",
            "          22       0.00      0.00      0.00         1\n",
            "          23       0.00      0.00      0.00        14\n",
            "          24       0.00      0.00      0.00         8\n",
            "          25       0.00      0.00      0.00         2\n",
            "          26       0.00      0.00      0.00         3\n",
            "          27       0.00      0.00      0.00         5\n",
            "          28       0.00      0.00      0.00         6\n",
            "          30       0.00      0.00      0.00        10\n",
            "          31       0.00      0.00      0.00         5\n",
            "          32       0.00      0.00      0.00         1\n",
            "          34       0.00      0.00      0.00         5\n",
            "          35       0.00      0.00      0.00         4\n",
            "          36       0.00      0.00      0.00         1\n",
            "          37       0.00      0.00      0.00         3\n",
            "          39       0.00      0.00      0.00         7\n",
            "          40       0.00      0.00      0.00        25\n",
            "          41       0.00      0.00      0.00         1\n",
            "          42       0.00      0.00      0.00         6\n",
            "          43       0.00      0.00      0.00         1\n",
            "          45       0.00      0.00      0.00         8\n",
            "          46       0.00      0.00      0.00         5\n",
            "          47       0.00      0.00      0.00         2\n",
            "          48       0.00      0.00      0.00         6\n",
            "          49       0.00      0.00      0.00        13\n",
            "          50       0.00      0.00      0.00         8\n",
            "          51       0.00      0.00      0.00        20\n",
            "          52       0.00      0.00      0.00        11\n",
            "\n",
            "    accuracy                           0.07       332\n",
            "   macro avg       0.00      0.02      0.00       332\n",
            "weighted avg       0.00      0.07      0.01       332\n",
            "\n"
          ]
        },
        {
          "output_type": "stream",
          "name": "stderr",
          "text": [
            "/usr/local/lib/python3.10/dist-packages/sklearn/metrics/_classification.py:1344: UndefinedMetricWarning:\n",
            "\n",
            "Precision and F-score are ill-defined and being set to 0.0 in labels with no predicted samples. Use `zero_division` parameter to control this behavior.\n",
            "\n",
            "/usr/local/lib/python3.10/dist-packages/sklearn/metrics/_classification.py:1344: UndefinedMetricWarning:\n",
            "\n",
            "Precision and F-score are ill-defined and being set to 0.0 in labels with no predicted samples. Use `zero_division` parameter to control this behavior.\n",
            "\n",
            "/usr/local/lib/python3.10/dist-packages/sklearn/metrics/_classification.py:1344: UndefinedMetricWarning:\n",
            "\n",
            "Precision and F-score are ill-defined and being set to 0.0 in labels with no predicted samples. Use `zero_division` parameter to control this behavior.\n",
            "\n"
          ]
        }
      ]
    },
    {
      "cell_type": "markdown",
      "source": [
        "Naive Bayes"
      ],
      "metadata": {
        "id": "qCERBG1IvpUd"
      }
    },
    {
      "cell_type": "code",
      "source": [
        "# Instalasi pustaka yang diperlukan\n",
        "!pip install pandas requests beautifulsoup4 scikit-learn\n",
        "\n",
        "import pandas as pd\n",
        "import requests\n",
        "from bs4 import BeautifulSoup\n",
        "from sklearn.model_selection import train_test_split\n",
        "from sklearn.naive_bayes import GaussianNB\n",
        "from sklearn.metrics import accuracy_score, classification_report\n",
        "from sklearn.preprocessing import LabelEncoder\n",
        "\n",
        "# URL sumber data XML di Google Drive\n",
        "url = \"/content/drive/My Drive/UAS Data Mining/data.bmkg.go.id_DataMKG_MEWS_DigitalForecast_DigitalForecast-Aceh.xml\"\n",
        "\n",
        "# Mengambil data dari URL\n",
        "with open(url, 'r') as file:\n",
        "    data_xml = file.read()\n",
        "\n",
        "# Mengonversi data XML ke dalam objek BeautifulSoup\n",
        "soup = BeautifulSoup(data_xml, \"xml\")\n",
        "\n",
        "# Mengonversi data XML ke dalam dataframe Pandas\n",
        "data = []\n",
        "for timerange in soup.find_all(\"timerange\"):\n",
        "    data.append({\n",
        "        \"datetime\": timerange[\"datetime\"],\n",
        "        \"weather\": timerange.find(\"value\").text\n",
        "    })\n",
        "\n",
        "df = pd.DataFrame(data)\n",
        "\n",
        "# Mempersiapkan data untuk klasifikasi\n",
        "# Misalnya, menggolongkan cuaca menjadi beberapa kategori (Cerah, Hujan, Berawan, dll.)\n",
        "# dan kemudian membuat kolom target\n",
        "le = LabelEncoder()\n",
        "df[\"weather_category\"] = le.fit_transform(df[\"weather\"])\n",
        "\n",
        "# Pemisahan data pelatihan dan pengujian\n",
        "X = df[[\"datetime\"]]\n",
        "y = df[\"weather_category\"]\n",
        "X_train, X_test, y_train, y_test = train_test_split(X, y, test_size=0.2, random_state=42)\n",
        "\n",
        "# Membuat dan melatih model Naive Bayes\n",
        "model = GaussianNB()\n",
        "model.fit(X_train, y_train)\n",
        "\n",
        "# Memprediksi cuaca\n",
        "y_pred = model.predict(X_test)\n",
        "\n",
        "# Evaluasi model\n",
        "accuracy = accuracy_score(y_test, y_pred)\n",
        "report = classification_report(y_test, y_pred)\n",
        "\n",
        "print(f\"Akurasi: {accuracy}\")\n",
        "print(f\"Report:\\n{report}\")\n",
        "\n",
        "# Jika perlu, visualisasikan hasil klasifikasi cuaca\n",
        "# Misalnya, plot data waktu vs. kategori cuaca\n",
        "# atau gunakan metode visualisasi yang sesuai dengan data Anda."
      ],
      "metadata": {
        "id": "wI60eEj4vjQt",
        "colab": {
          "base_uri": "https://localhost:8080/"
        },
        "outputId": "f1c3daca-c09b-4b8a-ca36-54885f49e5e9"
      },
      "execution_count": null,
      "outputs": [
        {
          "output_type": "stream",
          "name": "stdout",
          "text": [
            "Requirement already satisfied: pandas in /usr/local/lib/python3.10/dist-packages (1.5.3)\n",
            "Requirement already satisfied: requests in /usr/local/lib/python3.10/dist-packages (2.31.0)\n",
            "Requirement already satisfied: beautifulsoup4 in /usr/local/lib/python3.10/dist-packages (4.11.2)\n",
            "Requirement already satisfied: scikit-learn in /usr/local/lib/python3.10/dist-packages (1.2.2)\n",
            "Requirement already satisfied: python-dateutil>=2.8.1 in /usr/local/lib/python3.10/dist-packages (from pandas) (2.8.2)\n",
            "Requirement already satisfied: pytz>=2020.1 in /usr/local/lib/python3.10/dist-packages (from pandas) (2023.3.post1)\n",
            "Requirement already satisfied: numpy>=1.21.0 in /usr/local/lib/python3.10/dist-packages (from pandas) (1.23.5)\n",
            "Requirement already satisfied: charset-normalizer<4,>=2 in /usr/local/lib/python3.10/dist-packages (from requests) (3.2.0)\n",
            "Requirement already satisfied: idna<4,>=2.5 in /usr/local/lib/python3.10/dist-packages (from requests) (3.4)\n",
            "Requirement already satisfied: urllib3<3,>=1.21.1 in /usr/local/lib/python3.10/dist-packages (from requests) (2.0.4)\n",
            "Requirement already satisfied: certifi>=2017.4.17 in /usr/local/lib/python3.10/dist-packages (from requests) (2023.7.22)\n",
            "Requirement already satisfied: soupsieve>1.2 in /usr/local/lib/python3.10/dist-packages (from beautifulsoup4) (2.5)\n",
            "Requirement already satisfied: scipy>=1.3.2 in /usr/local/lib/python3.10/dist-packages (from scikit-learn) (1.10.1)\n",
            "Requirement already satisfied: joblib>=1.1.1 in /usr/local/lib/python3.10/dist-packages (from scikit-learn) (1.3.2)\n",
            "Requirement already satisfied: threadpoolctl>=2.0.0 in /usr/local/lib/python3.10/dist-packages (from scikit-learn) (3.2.0)\n",
            "Requirement already satisfied: six>=1.5 in /usr/local/lib/python3.10/dist-packages (from python-dateutil>=2.8.1->pandas) (1.16.0)\n",
            "Akurasi: 0.07530120481927711\n",
            "Report:\n",
            "              precision    recall  f1-score   support\n",
            "\n",
            "           0       0.00      0.00      0.00        27\n",
            "           1       0.08      0.96      0.14        23\n",
            "           2       0.00      0.00      0.00         5\n",
            "           3       0.00      0.00      0.00         2\n",
            "           4       0.00      0.00      0.00         3\n",
            "           5       0.00      0.00      0.00         3\n",
            "           6       0.00      0.00      0.00         1\n",
            "           7       0.00      0.00      0.00         6\n",
            "           9       0.00      0.00      0.00         6\n",
            "          10       0.00      0.00      0.00         5\n",
            "          11       0.00      0.00      0.00         1\n",
            "          12       0.00      0.00      0.00         3\n",
            "          13       0.00      0.00      0.00        25\n",
            "          14       0.00      0.00      0.00         2\n",
            "          15       0.00      0.00      0.00         5\n",
            "          16       0.00      0.00      0.00         1\n",
            "          18       0.00      0.00      0.00         4\n",
            "          19       0.00      0.00      0.00         7\n",
            "          20       0.00      0.00      0.00         7\n",
            "          21       0.00      0.00      0.00        15\n",
            "          22       0.00      0.00      0.00         1\n",
            "          23       0.00      0.00      0.00        14\n",
            "          24       0.00      0.00      0.00         8\n",
            "          25       0.00      0.00      0.00         2\n",
            "          26       0.00      0.00      0.00         3\n",
            "          27       0.00      0.00      0.00         5\n",
            "          28       0.00      0.00      0.00         6\n",
            "          30       0.00      0.00      0.00        10\n",
            "          31       0.00      0.00      0.00         5\n",
            "          32       0.00      0.00      0.00         1\n",
            "          34       0.00      0.00      0.00         5\n",
            "          35       0.00      0.00      0.00         4\n",
            "          36       0.00      0.00      0.00         1\n",
            "          37       0.12      1.00      0.21         3\n",
            "          39       0.00      0.00      0.00         7\n",
            "          40       0.00      0.00      0.00        25\n",
            "          41       0.00      0.00      0.00         1\n",
            "          42       0.00      0.00      0.00         6\n",
            "          43       0.00      0.00      0.00         1\n",
            "          44       0.00      0.00      0.00         0\n",
            "          45       0.00      0.00      0.00         8\n",
            "          46       0.00      0.00      0.00         5\n",
            "          47       0.00      0.00      0.00         2\n",
            "          48       0.00      0.00      0.00         6\n",
            "          49       0.00      0.00      0.00        13\n",
            "          50       0.00      0.00      0.00         8\n",
            "          51       0.00      0.00      0.00        20\n",
            "          52       0.00      0.00      0.00        11\n",
            "\n",
            "    accuracy                           0.08       332\n",
            "   macro avg       0.00      0.04      0.01       332\n",
            "weighted avg       0.01      0.08      0.01       332\n",
            "\n"
          ]
        },
        {
          "output_type": "stream",
          "name": "stderr",
          "text": [
            "/usr/local/lib/python3.10/dist-packages/sklearn/metrics/_classification.py:1344: UndefinedMetricWarning:\n",
            "\n",
            "Precision and F-score are ill-defined and being set to 0.0 in labels with no predicted samples. Use `zero_division` parameter to control this behavior.\n",
            "\n",
            "/usr/local/lib/python3.10/dist-packages/sklearn/metrics/_classification.py:1344: UndefinedMetricWarning:\n",
            "\n",
            "Recall and F-score are ill-defined and being set to 0.0 in labels with no true samples. Use `zero_division` parameter to control this behavior.\n",
            "\n",
            "/usr/local/lib/python3.10/dist-packages/sklearn/metrics/_classification.py:1344: UndefinedMetricWarning:\n",
            "\n",
            "Precision and F-score are ill-defined and being set to 0.0 in labels with no predicted samples. Use `zero_division` parameter to control this behavior.\n",
            "\n",
            "/usr/local/lib/python3.10/dist-packages/sklearn/metrics/_classification.py:1344: UndefinedMetricWarning:\n",
            "\n",
            "Recall and F-score are ill-defined and being set to 0.0 in labels with no true samples. Use `zero_division` parameter to control this behavior.\n",
            "\n",
            "/usr/local/lib/python3.10/dist-packages/sklearn/metrics/_classification.py:1344: UndefinedMetricWarning:\n",
            "\n",
            "Precision and F-score are ill-defined and being set to 0.0 in labels with no predicted samples. Use `zero_division` parameter to control this behavior.\n",
            "\n",
            "/usr/local/lib/python3.10/dist-packages/sklearn/metrics/_classification.py:1344: UndefinedMetricWarning:\n",
            "\n",
            "Recall and F-score are ill-defined and being set to 0.0 in labels with no true samples. Use `zero_division` parameter to control this behavior.\n",
            "\n"
          ]
        }
      ]
    },
    {
      "cell_type": "markdown",
      "source": [
        "**Decision Tree**"
      ],
      "metadata": {
        "id": "Zu9NSiRbvvet"
      }
    },
    {
      "cell_type": "code",
      "source": [
        "# Instalasi pustaka yang diperlukan\n",
        "!pip install pandas requests beautifulsoup4 scikit-learn\n",
        "\n",
        "import pandas as pd\n",
        "import requests\n",
        "from bs4 import BeautifulSoup\n",
        "from sklearn.model_selection import train_test_split\n",
        "from sklearn.tree import DecisionTreeClassifier\n",
        "from sklearn.metrics import accuracy_score, classification_report\n",
        "from sklearn.preprocessing import LabelEncoder\n",
        "\n",
        "# URL sumber data XML di Google Drive\n",
        "url = \"/content/drive/My Drive/UAS Data Mining/data.bmkg.go.id_DataMKG_MEWS_DigitalForecast_DigitalForecast-Aceh.xml\"\n",
        "# Mengambil data dari URL\n",
        "with open(url, 'r') as file:\n",
        "    data_xml = file.read()\n",
        "\n",
        "# Mengonversi data XML ke dalam objek BeautifulSoup\n",
        "soup = BeautifulSoup(data_xml, \"xml\")\n",
        "\n",
        "# Mengonversi data XML ke dalam dataframe Pandas\n",
        "data = []\n",
        "for timerange in soup.find_all(\"timerange\"):\n",
        "    data.append({\n",
        "        \"datetime\": timerange[\"datetime\"],\n",
        "        \"weather\": timerange.find(\"value\").text\n",
        "    })\n",
        "\n",
        "df = pd.DataFrame(data)\n",
        "\n",
        "# Mempersiapkan data untuk klasifikasi\n",
        "# Misalnya, menggolongkan cuaca menjadi beberapa kategori (Cerah, Hujan, Berawan, dll.)\n",
        "# dan kemudian membuat kolom target\n",
        "le = LabelEncoder()\n",
        "df[\"weather_category\"] = le.fit_transform(df[\"weather\"])\n",
        "\n",
        "# Pemisahan data pelatihan dan pengujian\n",
        "X = df[[\"datetime\"]]\n",
        "y = df[\"weather_category\"]\n",
        "X_train, X_test, y_train, y_test = train_test_split(X, y, test_size=0.2, random_state=42)\n",
        "\n",
        "# Membuat dan melatih model Decision Tree\n",
        "model = DecisionTreeClassifier()\n",
        "model.fit(X_train, y_train)\n",
        "\n",
        "# Memprediksi cuaca\n",
        "y_pred = model.predict(X_test)\n",
        "\n",
        "# Evaluasi model\n",
        "accuracy = accuracy_score(y_test, y_pred)\n",
        "report = classification_report(y_test, y_pred)\n",
        "\n",
        "print(f\"Akurasi: {accuracy}\")\n",
        "print(f\"Report:\\n{report}\")\n",
        "\n",
        "# Jika perlu, visualisasikan hasil klasifikasi cuaca\n",
        "# Misalnya, plot data waktu vs. kategori cuaca\n",
        "# atau gunakan metode visualisasi yang sesuai dengan data Anda."
      ],
      "metadata": {
        "id": "1yeHwWQUvjJw",
        "colab": {
          "base_uri": "https://localhost:8080/"
        },
        "outputId": "ec3b4bac-f891-47c3-8837-4cc62376e97a"
      },
      "execution_count": null,
      "outputs": [
        {
          "output_type": "stream",
          "name": "stdout",
          "text": [
            "Requirement already satisfied: pandas in /usr/local/lib/python3.10/dist-packages (1.5.3)\n",
            "Requirement already satisfied: requests in /usr/local/lib/python3.10/dist-packages (2.31.0)\n",
            "Requirement already satisfied: beautifulsoup4 in /usr/local/lib/python3.10/dist-packages (4.11.2)\n",
            "Requirement already satisfied: scikit-learn in /usr/local/lib/python3.10/dist-packages (1.2.2)\n",
            "Requirement already satisfied: python-dateutil>=2.8.1 in /usr/local/lib/python3.10/dist-packages (from pandas) (2.8.2)\n",
            "Requirement already satisfied: pytz>=2020.1 in /usr/local/lib/python3.10/dist-packages (from pandas) (2023.3.post1)\n",
            "Requirement already satisfied: numpy>=1.21.0 in /usr/local/lib/python3.10/dist-packages (from pandas) (1.23.5)\n",
            "Requirement already satisfied: charset-normalizer<4,>=2 in /usr/local/lib/python3.10/dist-packages (from requests) (3.2.0)\n",
            "Requirement already satisfied: idna<4,>=2.5 in /usr/local/lib/python3.10/dist-packages (from requests) (3.4)\n",
            "Requirement already satisfied: urllib3<3,>=1.21.1 in /usr/local/lib/python3.10/dist-packages (from requests) (2.0.4)\n",
            "Requirement already satisfied: certifi>=2017.4.17 in /usr/local/lib/python3.10/dist-packages (from requests) (2023.7.22)\n",
            "Requirement already satisfied: soupsieve>1.2 in /usr/local/lib/python3.10/dist-packages (from beautifulsoup4) (2.5)\n",
            "Requirement already satisfied: scipy>=1.3.2 in /usr/local/lib/python3.10/dist-packages (from scikit-learn) (1.10.1)\n",
            "Requirement already satisfied: joblib>=1.1.1 in /usr/local/lib/python3.10/dist-packages (from scikit-learn) (1.3.2)\n",
            "Requirement already satisfied: threadpoolctl>=2.0.0 in /usr/local/lib/python3.10/dist-packages (from scikit-learn) (3.2.0)\n",
            "Requirement already satisfied: six>=1.5 in /usr/local/lib/python3.10/dist-packages (from python-dateutil>=2.8.1->pandas) (1.16.0)\n",
            "Akurasi: 0.06927710843373494\n",
            "Report:\n",
            "              precision    recall  f1-score   support\n",
            "\n",
            "           0       0.00      0.00      0.00        27\n",
            "           1       0.07      1.00      0.13        23\n",
            "           2       0.00      0.00      0.00         5\n",
            "           3       0.00      0.00      0.00         2\n",
            "           4       0.00      0.00      0.00         3\n",
            "           5       0.00      0.00      0.00         3\n",
            "           6       0.00      0.00      0.00         1\n",
            "           7       0.00      0.00      0.00         6\n",
            "           9       0.00      0.00      0.00         6\n",
            "          10       0.00      0.00      0.00         5\n",
            "          11       0.00      0.00      0.00         1\n",
            "          12       0.00      0.00      0.00         3\n",
            "          13       0.00      0.00      0.00        25\n",
            "          14       0.00      0.00      0.00         2\n",
            "          15       0.00      0.00      0.00         5\n",
            "          16       0.00      0.00      0.00         1\n",
            "          18       0.00      0.00      0.00         4\n",
            "          19       0.00      0.00      0.00         7\n",
            "          20       0.00      0.00      0.00         7\n",
            "          21       0.00      0.00      0.00        15\n",
            "          22       0.00      0.00      0.00         1\n",
            "          23       0.00      0.00      0.00        14\n",
            "          24       0.00      0.00      0.00         8\n",
            "          25       0.00      0.00      0.00         2\n",
            "          26       0.00      0.00      0.00         3\n",
            "          27       0.00      0.00      0.00         5\n",
            "          28       0.00      0.00      0.00         6\n",
            "          30       0.00      0.00      0.00        10\n",
            "          31       0.00      0.00      0.00         5\n",
            "          32       0.00      0.00      0.00         1\n",
            "          34       0.00      0.00      0.00         5\n",
            "          35       0.00      0.00      0.00         4\n",
            "          36       0.00      0.00      0.00         1\n",
            "          37       0.00      0.00      0.00         3\n",
            "          39       0.00      0.00      0.00         7\n",
            "          40       0.00      0.00      0.00        25\n",
            "          41       0.00      0.00      0.00         1\n",
            "          42       0.00      0.00      0.00         6\n",
            "          43       0.00      0.00      0.00         1\n",
            "          45       0.00      0.00      0.00         8\n",
            "          46       0.00      0.00      0.00         5\n",
            "          47       0.00      0.00      0.00         2\n",
            "          48       0.00      0.00      0.00         6\n",
            "          49       0.00      0.00      0.00        13\n",
            "          50       0.00      0.00      0.00         8\n",
            "          51       0.00      0.00      0.00        20\n",
            "          52       0.00      0.00      0.00        11\n",
            "\n",
            "    accuracy                           0.07       332\n",
            "   macro avg       0.00      0.02      0.00       332\n",
            "weighted avg       0.00      0.07      0.01       332\n",
            "\n"
          ]
        },
        {
          "output_type": "stream",
          "name": "stderr",
          "text": [
            "/usr/local/lib/python3.10/dist-packages/sklearn/metrics/_classification.py:1344: UndefinedMetricWarning:\n",
            "\n",
            "Precision and F-score are ill-defined and being set to 0.0 in labels with no predicted samples. Use `zero_division` parameter to control this behavior.\n",
            "\n",
            "/usr/local/lib/python3.10/dist-packages/sklearn/metrics/_classification.py:1344: UndefinedMetricWarning:\n",
            "\n",
            "Precision and F-score are ill-defined and being set to 0.0 in labels with no predicted samples. Use `zero_division` parameter to control this behavior.\n",
            "\n",
            "/usr/local/lib/python3.10/dist-packages/sklearn/metrics/_classification.py:1344: UndefinedMetricWarning:\n",
            "\n",
            "Precision and F-score are ill-defined and being set to 0.0 in labels with no predicted samples. Use `zero_division` parameter to control this behavior.\n",
            "\n"
          ]
        }
      ]
    },
    {
      "cell_type": "markdown",
      "source": [
        "**Random Forest**"
      ],
      "metadata": {
        "id": "tflE1Cu7v5mn"
      }
    },
    {
      "cell_type": "code",
      "source": [
        "# Instalasi pustaka yang diperlukan\n",
        "!pip install pandas requests beautifulsoup4 scikit-learn\n",
        "\n",
        "import pandas as pd\n",
        "import requests\n",
        "from bs4 import BeautifulSoup\n",
        "from sklearn.model_selection import train_test_split\n",
        "from sklearn.ensemble import RandomForestClassifier\n",
        "from sklearn.metrics import accuracy_score, classification_report\n",
        "from sklearn.preprocessing import LabelEncoder\n",
        "\n",
        "# URL sumber data XML di Google Drive\n",
        "url = \"/content/drive/My Drive/UAS Data Mining/data.bmkg.go.id_DataMKG_MEWS_DigitalForecast_DigitalForecast-Aceh.xml\"\n",
        "\n",
        "# Mengambil data dari URL\n",
        "with open(url, 'r') as file:\n",
        "    data_xml = file.read()\n",
        "\n",
        "# Mengonversi data XML ke dalam objek BeautifulSoup\n",
        "soup = BeautifulSoup(data_xml, \"xml\")\n",
        "\n",
        "# Mengonversi data XML ke dalam dataframe Pandas\n",
        "data = []\n",
        "for timerange in soup.find_all(\"timerange\"):\n",
        "    data.append({\n",
        "        \"datetime\": timerange[\"datetime\"],\n",
        "        \"weather\": timerange.find(\"value\").text\n",
        "    })\n",
        "\n",
        "df = pd.DataFrame(data)\n",
        "\n",
        "# Mempersiapkan data untuk klasifikasi\n",
        "# Misalnya, menggolongkan cuaca menjadi beberapa kategori (Cerah, Hujan, Berawan, dll.)\n",
        "# dan kemudian membuat kolom target\n",
        "le = LabelEncoder()\n",
        "df[\"weather_category\"] = le.fit_transform(df[\"weather\"])\n",
        "\n",
        "# Pemisahan data pelatihan dan pengujian\n",
        "X = df[[\"datetime\"]]\n",
        "y = df[\"weather_category\"]\n",
        "X_train, X_test, y_train, y_test = train_test_split(X, y, test_size=0.2, random_state=42)\n",
        "\n",
        "# Membuat dan melatih model Random Forest\n",
        "model = RandomForestClassifier()\n",
        "model.fit(X_train, y_train)\n",
        "\n",
        "# Memprediksi cuaca\n",
        "y_pred = model.predict(X_test)\n",
        "\n",
        "# Evaluasi model\n",
        "accuracy = accuracy_score(y_test, y_pred)\n",
        "report = classification_report(y_test, y_pred)\n",
        "\n",
        "print(f\"Akurasi: {accuracy}\")\n",
        "print(f\"Report:\\n{report}\")\n",
        "\n",
        "# Jika perlu, visualisasikan hasil klasifikasi cuaca\n",
        "# Misalnya, plot data waktu vs. kategori cuaca\n",
        "# atau gunakan metode visualisasi yang sesuai dengan data Anda."
      ],
      "metadata": {
        "id": "EU79v39xv0qV",
        "colab": {
          "base_uri": "https://localhost:8080/"
        },
        "outputId": "3d6f04aa-b5d6-464c-d009-4537c91f458f"
      },
      "execution_count": null,
      "outputs": [
        {
          "output_type": "stream",
          "name": "stdout",
          "text": [
            "Requirement already satisfied: pandas in /usr/local/lib/python3.10/dist-packages (1.5.3)\n",
            "Requirement already satisfied: requests in /usr/local/lib/python3.10/dist-packages (2.31.0)\n",
            "Requirement already satisfied: beautifulsoup4 in /usr/local/lib/python3.10/dist-packages (4.11.2)\n",
            "Requirement already satisfied: scikit-learn in /usr/local/lib/python3.10/dist-packages (1.2.2)\n",
            "Requirement already satisfied: python-dateutil>=2.8.1 in /usr/local/lib/python3.10/dist-packages (from pandas) (2.8.2)\n",
            "Requirement already satisfied: pytz>=2020.1 in /usr/local/lib/python3.10/dist-packages (from pandas) (2023.3.post1)\n",
            "Requirement already satisfied: numpy>=1.21.0 in /usr/local/lib/python3.10/dist-packages (from pandas) (1.23.5)\n",
            "Requirement already satisfied: charset-normalizer<4,>=2 in /usr/local/lib/python3.10/dist-packages (from requests) (3.2.0)\n",
            "Requirement already satisfied: idna<4,>=2.5 in /usr/local/lib/python3.10/dist-packages (from requests) (3.4)\n",
            "Requirement already satisfied: urllib3<3,>=1.21.1 in /usr/local/lib/python3.10/dist-packages (from requests) (2.0.4)\n",
            "Requirement already satisfied: certifi>=2017.4.17 in /usr/local/lib/python3.10/dist-packages (from requests) (2023.7.22)\n",
            "Requirement already satisfied: soupsieve>1.2 in /usr/local/lib/python3.10/dist-packages (from beautifulsoup4) (2.5)\n",
            "Requirement already satisfied: scipy>=1.3.2 in /usr/local/lib/python3.10/dist-packages (from scikit-learn) (1.10.1)\n",
            "Requirement already satisfied: joblib>=1.1.1 in /usr/local/lib/python3.10/dist-packages (from scikit-learn) (1.3.2)\n",
            "Requirement already satisfied: threadpoolctl>=2.0.0 in /usr/local/lib/python3.10/dist-packages (from scikit-learn) (3.2.0)\n",
            "Requirement already satisfied: six>=1.5 in /usr/local/lib/python3.10/dist-packages (from python-dateutil>=2.8.1->pandas) (1.16.0)\n",
            "Akurasi: 0.06927710843373494\n",
            "Report:\n",
            "              precision    recall  f1-score   support\n",
            "\n",
            "           0       0.00      0.00      0.00        27\n",
            "           1       0.07      1.00      0.13        23\n",
            "           2       0.00      0.00      0.00         5\n",
            "           3       0.00      0.00      0.00         2\n",
            "           4       0.00      0.00      0.00         3\n",
            "           5       0.00      0.00      0.00         3\n",
            "           6       0.00      0.00      0.00         1\n",
            "           7       0.00      0.00      0.00         6\n",
            "           9       0.00      0.00      0.00         6\n",
            "          10       0.00      0.00      0.00         5\n",
            "          11       0.00      0.00      0.00         1\n",
            "          12       0.00      0.00      0.00         3\n",
            "          13       0.00      0.00      0.00        25\n",
            "          14       0.00      0.00      0.00         2\n",
            "          15       0.00      0.00      0.00         5\n",
            "          16       0.00      0.00      0.00         1\n",
            "          18       0.00      0.00      0.00         4\n",
            "          19       0.00      0.00      0.00         7\n",
            "          20       0.00      0.00      0.00         7\n",
            "          21       0.00      0.00      0.00        15\n",
            "          22       0.00      0.00      0.00         1\n",
            "          23       0.00      0.00      0.00        14\n",
            "          24       0.00      0.00      0.00         8\n",
            "          25       0.00      0.00      0.00         2\n",
            "          26       0.00      0.00      0.00         3\n",
            "          27       0.00      0.00      0.00         5\n",
            "          28       0.00      0.00      0.00         6\n",
            "          30       0.00      0.00      0.00        10\n",
            "          31       0.00      0.00      0.00         5\n",
            "          32       0.00      0.00      0.00         1\n",
            "          34       0.00      0.00      0.00         5\n",
            "          35       0.00      0.00      0.00         4\n",
            "          36       0.00      0.00      0.00         1\n",
            "          37       0.00      0.00      0.00         3\n",
            "          39       0.00      0.00      0.00         7\n",
            "          40       0.00      0.00      0.00        25\n",
            "          41       0.00      0.00      0.00         1\n",
            "          42       0.00      0.00      0.00         6\n",
            "          43       0.00      0.00      0.00         1\n",
            "          45       0.00      0.00      0.00         8\n",
            "          46       0.00      0.00      0.00         5\n",
            "          47       0.00      0.00      0.00         2\n",
            "          48       0.00      0.00      0.00         6\n",
            "          49       0.00      0.00      0.00        13\n",
            "          50       0.00      0.00      0.00         8\n",
            "          51       0.00      0.00      0.00        20\n",
            "          52       0.00      0.00      0.00        11\n",
            "\n",
            "    accuracy                           0.07       332\n",
            "   macro avg       0.00      0.02      0.00       332\n",
            "weighted avg       0.00      0.07      0.01       332\n",
            "\n"
          ]
        },
        {
          "output_type": "stream",
          "name": "stderr",
          "text": [
            "/usr/local/lib/python3.10/dist-packages/sklearn/metrics/_classification.py:1344: UndefinedMetricWarning:\n",
            "\n",
            "Precision and F-score are ill-defined and being set to 0.0 in labels with no predicted samples. Use `zero_division` parameter to control this behavior.\n",
            "\n",
            "/usr/local/lib/python3.10/dist-packages/sklearn/metrics/_classification.py:1344: UndefinedMetricWarning:\n",
            "\n",
            "Precision and F-score are ill-defined and being set to 0.0 in labels with no predicted samples. Use `zero_division` parameter to control this behavior.\n",
            "\n",
            "/usr/local/lib/python3.10/dist-packages/sklearn/metrics/_classification.py:1344: UndefinedMetricWarning:\n",
            "\n",
            "Precision and F-score are ill-defined and being set to 0.0 in labels with no predicted samples. Use `zero_division` parameter to control this behavior.\n",
            "\n"
          ]
        }
      ]
    },
    {
      "cell_type": "markdown",
      "source": [
        "**MLP**"
      ],
      "metadata": {
        "id": "NiDU7TFbwCUa"
      }
    },
    {
      "cell_type": "code",
      "source": [
        "# Instalasi pustaka yang diperlukan\n",
        "!pip install pandas requests beautifulsoup4 scikit-learn\n",
        "\n",
        "import pandas as pd\n",
        "import requests\n",
        "from bs4 import BeautifulSoup\n",
        "from sklearn.model_selection import train_test_split\n",
        "from sklearn.neural_network import MLPClassifier\n",
        "from sklearn.metrics import accuracy_score, classification_report\n",
        "from sklearn.preprocessing import LabelEncoder\n",
        "\n",
        "# URL sumber data XML di Google Drive\n",
        "url = \"/content/drive/My Drive/UAS Data Mining/data.bmkg.go.id_DataMKG_MEWS_DigitalForecast_DigitalForecast-Aceh.xml\"\n",
        "\n",
        "# Mengambil data dari URL\n",
        "with open(url, 'r') as file:\n",
        "    data_xml = file.read()\n",
        "\n",
        "# Mengonversi data XML ke dalam objek BeautifulSoup\n",
        "soup = BeautifulSoup(data_xml, \"xml\")\n",
        "\n",
        "# Mengonversi data XML ke dalam dataframe Pandas\n",
        "data = []\n",
        "for timerange in soup.find_all(\"timerange\"):\n",
        "    data.append({\n",
        "        \"datetime\": timerange[\"datetime\"],\n",
        "        \"weather\": timerange.find(\"value\").text\n",
        "    })\n",
        "\n",
        "df = pd.DataFrame(data)\n",
        "\n",
        "# Mempersiapkan data untuk klasifikasi\n",
        "# Misalnya, menggolongkan cuaca menjadi beberapa kategori (Cerah, Hujan, Berawan, dll.)\n",
        "# dan kemudian membuat kolom target\n",
        "le = LabelEncoder()\n",
        "df[\"weather_category\"] = le.fit_transform(df[\"weather\"])\n",
        "\n",
        "# Pemisahan data pelatihan dan pengujian\n",
        "X = df[[\"datetime\"]]\n",
        "y = df[\"weather_category\"]\n",
        "X_train, X_test, y_train, y_test = train_test_split(X, y, test_size=0.2, random_state=42)\n",
        "\n",
        "# Membuat dan melatih model MLP\n",
        "model = MLPClassifier(hidden_layer_sizes=(100, 50), max_iter=500)\n",
        "model.fit(X_train, y_train)\n",
        "\n",
        "# Memprediksi cuaca\n",
        "y_pred = model.predict(X_test)\n",
        "\n",
        "# Evaluasi model\n",
        "accuracy = accuracy_score(y_test, y_pred)\n",
        "report = classification_report(y_test, y_pred)\n",
        "\n",
        "print(f\"Akurasi: {accuracy}\")\n",
        "print(f\"Report:\\n{report}\")\n",
        "\n",
        "# Jika perlu, visualisasikan hasil klasifikasi cuaca\n",
        "# Misalnya, plot data waktu vs. kategori cuaca\n",
        "# atau gunakan metode visualisasi yang sesuai dengan data Anda."
      ],
      "metadata": {
        "id": "mGokKkb1v0kJ",
        "colab": {
          "base_uri": "https://localhost:8080/"
        },
        "outputId": "fedf7d4c-42eb-4c1b-e10a-3d11484715e8"
      },
      "execution_count": null,
      "outputs": [
        {
          "output_type": "stream",
          "name": "stdout",
          "text": [
            "Requirement already satisfied: pandas in /usr/local/lib/python3.10/dist-packages (1.5.3)\n",
            "Requirement already satisfied: requests in /usr/local/lib/python3.10/dist-packages (2.31.0)\n",
            "Requirement already satisfied: beautifulsoup4 in /usr/local/lib/python3.10/dist-packages (4.11.2)\n",
            "Requirement already satisfied: scikit-learn in /usr/local/lib/python3.10/dist-packages (1.2.2)\n",
            "Requirement already satisfied: python-dateutil>=2.8.1 in /usr/local/lib/python3.10/dist-packages (from pandas) (2.8.2)\n",
            "Requirement already satisfied: pytz>=2020.1 in /usr/local/lib/python3.10/dist-packages (from pandas) (2023.3.post1)\n",
            "Requirement already satisfied: numpy>=1.21.0 in /usr/local/lib/python3.10/dist-packages (from pandas) (1.23.5)\n",
            "Requirement already satisfied: charset-normalizer<4,>=2 in /usr/local/lib/python3.10/dist-packages (from requests) (3.2.0)\n",
            "Requirement already satisfied: idna<4,>=2.5 in /usr/local/lib/python3.10/dist-packages (from requests) (3.4)\n",
            "Requirement already satisfied: urllib3<3,>=1.21.1 in /usr/local/lib/python3.10/dist-packages (from requests) (2.0.4)\n",
            "Requirement already satisfied: certifi>=2017.4.17 in /usr/local/lib/python3.10/dist-packages (from requests) (2023.7.22)\n",
            "Requirement already satisfied: soupsieve>1.2 in /usr/local/lib/python3.10/dist-packages (from beautifulsoup4) (2.5)\n",
            "Requirement already satisfied: scipy>=1.3.2 in /usr/local/lib/python3.10/dist-packages (from scikit-learn) (1.10.1)\n",
            "Requirement already satisfied: joblib>=1.1.1 in /usr/local/lib/python3.10/dist-packages (from scikit-learn) (1.3.2)\n",
            "Requirement already satisfied: threadpoolctl>=2.0.0 in /usr/local/lib/python3.10/dist-packages (from scikit-learn) (3.2.0)\n",
            "Requirement already satisfied: six>=1.5 in /usr/local/lib/python3.10/dist-packages (from python-dateutil>=2.8.1->pandas) (1.16.0)\n",
            "Akurasi: 0.060240963855421686\n",
            "Report:\n",
            "              precision    recall  f1-score   support\n",
            "\n",
            "           0       0.00      0.00      0.00        27\n",
            "           1       0.00      0.00      0.00        23\n",
            "           2       0.00      0.00      0.00         5\n",
            "           3       0.00      0.00      0.00         2\n",
            "           4       0.00      0.00      0.00         3\n",
            "           5       0.00      0.00      0.00         3\n",
            "           6       0.00      0.00      0.00         1\n",
            "           7       0.00      0.00      0.00         6\n",
            "           9       0.00      0.00      0.00         6\n",
            "          10       0.00      0.00      0.00         5\n",
            "          11       0.00      0.00      0.00         1\n",
            "          12       0.00      0.00      0.00         3\n",
            "          13       0.00      0.00      0.00        25\n",
            "          14       0.00      0.00      0.00         2\n",
            "          15       0.00      0.00      0.00         5\n",
            "          16       0.00      0.00      0.00         1\n",
            "          18       0.00      0.00      0.00         4\n",
            "          19       0.00      0.00      0.00         7\n",
            "          20       0.00      0.00      0.00         7\n",
            "          21       0.00      0.00      0.00        15\n",
            "          22       0.00      0.00      0.00         1\n",
            "          23       0.00      0.00      0.00        14\n",
            "          24       0.00      0.00      0.00         8\n",
            "          25       0.00      0.00      0.00         2\n",
            "          26       0.00      0.00      0.00         3\n",
            "          27       0.00      0.00      0.00         5\n",
            "          28       0.00      0.00      0.00         6\n",
            "          30       0.00      0.00      0.00        10\n",
            "          31       0.00      0.00      0.00         5\n",
            "          32       0.00      0.00      0.00         1\n",
            "          34       0.00      0.00      0.00         5\n",
            "          35       0.00      0.00      0.00         4\n",
            "          36       0.00      0.00      0.00         1\n",
            "          37       0.00      0.00      0.00         3\n",
            "          39       0.00      0.00      0.00         7\n",
            "          40       0.00      0.00      0.00        25\n",
            "          41       0.00      0.00      0.00         1\n",
            "          42       0.00      0.00      0.00         6\n",
            "          43       0.00      0.00      0.00         1\n",
            "          45       0.00      0.00      0.00         8\n",
            "          46       0.00      0.00      0.00         5\n",
            "          47       0.00      0.00      0.00         2\n",
            "          48       0.00      0.00      0.00         6\n",
            "          49       0.00      0.00      0.00        13\n",
            "          50       0.00      0.00      0.00         8\n",
            "          51       0.06      1.00      0.11        20\n",
            "          52       0.00      0.00      0.00        11\n",
            "\n",
            "    accuracy                           0.06       332\n",
            "   macro avg       0.00      0.02      0.00       332\n",
            "weighted avg       0.00      0.06      0.01       332\n",
            "\n"
          ]
        },
        {
          "output_type": "stream",
          "name": "stderr",
          "text": [
            "/usr/local/lib/python3.10/dist-packages/sklearn/metrics/_classification.py:1344: UndefinedMetricWarning:\n",
            "\n",
            "Precision and F-score are ill-defined and being set to 0.0 in labels with no predicted samples. Use `zero_division` parameter to control this behavior.\n",
            "\n",
            "/usr/local/lib/python3.10/dist-packages/sklearn/metrics/_classification.py:1344: UndefinedMetricWarning:\n",
            "\n",
            "Precision and F-score are ill-defined and being set to 0.0 in labels with no predicted samples. Use `zero_division` parameter to control this behavior.\n",
            "\n",
            "/usr/local/lib/python3.10/dist-packages/sklearn/metrics/_classification.py:1344: UndefinedMetricWarning:\n",
            "\n",
            "Precision and F-score are ill-defined and being set to 0.0 in labels with no predicted samples. Use `zero_division` parameter to control this behavior.\n",
            "\n"
          ]
        }
      ]
    },
    {
      "cell_type": "markdown",
      "source": [
        "**Hasil Semua Model**"
      ],
      "metadata": {
        "id": "SkoWfaRPwaV6"
      }
    },
    {
      "cell_type": "code",
      "source": [
        "from sklearn.svm import SVC\n",
        "\n",
        "# Buat dan latih model SVM\n",
        "model_svm = SVC()\n",
        "model_svm.fit(X_train, y_train)"
      ],
      "metadata": {
        "id": "MkXVqSCxwK2Q",
        "colab": {
          "base_uri": "https://localhost:8080/",
          "height": 75
        },
        "outputId": "e72ba041-5d62-470a-dff7-8ca8ee3c0c07"
      },
      "execution_count": null,
      "outputs": [
        {
          "output_type": "execute_result",
          "data": {
            "text/plain": [
              "SVC()"
            ],
            "text/html": [
              "<style>#sk-container-id-13 {color: black;background-color: white;}#sk-container-id-13 pre{padding: 0;}#sk-container-id-13 div.sk-toggleable {background-color: white;}#sk-container-id-13 label.sk-toggleable__label {cursor: pointer;display: block;width: 100%;margin-bottom: 0;padding: 0.3em;box-sizing: border-box;text-align: center;}#sk-container-id-13 label.sk-toggleable__label-arrow:before {content: \"▸\";float: left;margin-right: 0.25em;color: #696969;}#sk-container-id-13 label.sk-toggleable__label-arrow:hover:before {color: black;}#sk-container-id-13 div.sk-estimator:hover label.sk-toggleable__label-arrow:before {color: black;}#sk-container-id-13 div.sk-toggleable__content {max-height: 0;max-width: 0;overflow: hidden;text-align: left;background-color: #f0f8ff;}#sk-container-id-13 div.sk-toggleable__content pre {margin: 0.2em;color: black;border-radius: 0.25em;background-color: #f0f8ff;}#sk-container-id-13 input.sk-toggleable__control:checked~div.sk-toggleable__content {max-height: 200px;max-width: 100%;overflow: auto;}#sk-container-id-13 input.sk-toggleable__control:checked~label.sk-toggleable__label-arrow:before {content: \"▾\";}#sk-container-id-13 div.sk-estimator input.sk-toggleable__control:checked~label.sk-toggleable__label {background-color: #d4ebff;}#sk-container-id-13 div.sk-label input.sk-toggleable__control:checked~label.sk-toggleable__label {background-color: #d4ebff;}#sk-container-id-13 input.sk-hidden--visually {border: 0;clip: rect(1px 1px 1px 1px);clip: rect(1px, 1px, 1px, 1px);height: 1px;margin: -1px;overflow: hidden;padding: 0;position: absolute;width: 1px;}#sk-container-id-13 div.sk-estimator {font-family: monospace;background-color: #f0f8ff;border: 1px dotted black;border-radius: 0.25em;box-sizing: border-box;margin-bottom: 0.5em;}#sk-container-id-13 div.sk-estimator:hover {background-color: #d4ebff;}#sk-container-id-13 div.sk-parallel-item::after {content: \"\";width: 100%;border-bottom: 1px solid gray;flex-grow: 1;}#sk-container-id-13 div.sk-label:hover label.sk-toggleable__label {background-color: #d4ebff;}#sk-container-id-13 div.sk-serial::before {content: \"\";position: absolute;border-left: 1px solid gray;box-sizing: border-box;top: 0;bottom: 0;left: 50%;z-index: 0;}#sk-container-id-13 div.sk-serial {display: flex;flex-direction: column;align-items: center;background-color: white;padding-right: 0.2em;padding-left: 0.2em;position: relative;}#sk-container-id-13 div.sk-item {position: relative;z-index: 1;}#sk-container-id-13 div.sk-parallel {display: flex;align-items: stretch;justify-content: center;background-color: white;position: relative;}#sk-container-id-13 div.sk-item::before, #sk-container-id-13 div.sk-parallel-item::before {content: \"\";position: absolute;border-left: 1px solid gray;box-sizing: border-box;top: 0;bottom: 0;left: 50%;z-index: -1;}#sk-container-id-13 div.sk-parallel-item {display: flex;flex-direction: column;z-index: 1;position: relative;background-color: white;}#sk-container-id-13 div.sk-parallel-item:first-child::after {align-self: flex-end;width: 50%;}#sk-container-id-13 div.sk-parallel-item:last-child::after {align-self: flex-start;width: 50%;}#sk-container-id-13 div.sk-parallel-item:only-child::after {width: 0;}#sk-container-id-13 div.sk-dashed-wrapped {border: 1px dashed gray;margin: 0 0.4em 0.5em 0.4em;box-sizing: border-box;padding-bottom: 0.4em;background-color: white;}#sk-container-id-13 div.sk-label label {font-family: monospace;font-weight: bold;display: inline-block;line-height: 1.2em;}#sk-container-id-13 div.sk-label-container {text-align: center;}#sk-container-id-13 div.sk-container {/* jupyter's `normalize.less` sets `[hidden] { display: none; }` but bootstrap.min.css set `[hidden] { display: none !important; }` so we also need the `!important` here to be able to override the default hidden behavior on the sphinx rendered scikit-learn.org. See: https://github.com/scikit-learn/scikit-learn/issues/21755 */display: inline-block !important;position: relative;}#sk-container-id-13 div.sk-text-repr-fallback {display: none;}</style><div id=\"sk-container-id-13\" class=\"sk-top-container\"><div class=\"sk-text-repr-fallback\"><pre>SVC()</pre><b>In a Jupyter environment, please rerun this cell to show the HTML representation or trust the notebook. <br />On GitHub, the HTML representation is unable to render, please try loading this page with nbviewer.org.</b></div><div class=\"sk-container\" hidden><div class=\"sk-item\"><div class=\"sk-estimator sk-toggleable\"><input class=\"sk-toggleable__control sk-hidden--visually\" id=\"sk-estimator-id-13\" type=\"checkbox\" checked><label for=\"sk-estimator-id-13\" class=\"sk-toggleable__label sk-toggleable__label-arrow\">SVC</label><div class=\"sk-toggleable__content\"><pre>SVC()</pre></div></div></div></div></div>"
            ]
          },
          "metadata": {},
          "execution_count": 623
        }
      ]
    },
    {
      "cell_type": "code",
      "source": [
        "from sklearn.neighbors import KNeighborsClassifier\n",
        "\n",
        "# Buat dan latih model K-Nearest Neighbors (KNN)\n",
        "model_knn = KNeighborsClassifier(n_neighbors=3)  # Anda dapat mengganti nilai n_neighbors sesuai kebutuhan\n",
        "model_knn.fit(X_train, y_train)"
      ],
      "metadata": {
        "colab": {
          "base_uri": "https://localhost:8080/",
          "height": 75
        },
        "id": "Fu0CoXZ8H8aD",
        "outputId": "0b2a3154-be96-4e88-f543-c8164a5ca0cc"
      },
      "execution_count": null,
      "outputs": [
        {
          "output_type": "execute_result",
          "data": {
            "text/plain": [
              "KNeighborsClassifier(n_neighbors=3)"
            ],
            "text/html": [
              "<style>#sk-container-id-14 {color: black;background-color: white;}#sk-container-id-14 pre{padding: 0;}#sk-container-id-14 div.sk-toggleable {background-color: white;}#sk-container-id-14 label.sk-toggleable__label {cursor: pointer;display: block;width: 100%;margin-bottom: 0;padding: 0.3em;box-sizing: border-box;text-align: center;}#sk-container-id-14 label.sk-toggleable__label-arrow:before {content: \"▸\";float: left;margin-right: 0.25em;color: #696969;}#sk-container-id-14 label.sk-toggleable__label-arrow:hover:before {color: black;}#sk-container-id-14 div.sk-estimator:hover label.sk-toggleable__label-arrow:before {color: black;}#sk-container-id-14 div.sk-toggleable__content {max-height: 0;max-width: 0;overflow: hidden;text-align: left;background-color: #f0f8ff;}#sk-container-id-14 div.sk-toggleable__content pre {margin: 0.2em;color: black;border-radius: 0.25em;background-color: #f0f8ff;}#sk-container-id-14 input.sk-toggleable__control:checked~div.sk-toggleable__content {max-height: 200px;max-width: 100%;overflow: auto;}#sk-container-id-14 input.sk-toggleable__control:checked~label.sk-toggleable__label-arrow:before {content: \"▾\";}#sk-container-id-14 div.sk-estimator input.sk-toggleable__control:checked~label.sk-toggleable__label {background-color: #d4ebff;}#sk-container-id-14 div.sk-label input.sk-toggleable__control:checked~label.sk-toggleable__label {background-color: #d4ebff;}#sk-container-id-14 input.sk-hidden--visually {border: 0;clip: rect(1px 1px 1px 1px);clip: rect(1px, 1px, 1px, 1px);height: 1px;margin: -1px;overflow: hidden;padding: 0;position: absolute;width: 1px;}#sk-container-id-14 div.sk-estimator {font-family: monospace;background-color: #f0f8ff;border: 1px dotted black;border-radius: 0.25em;box-sizing: border-box;margin-bottom: 0.5em;}#sk-container-id-14 div.sk-estimator:hover {background-color: #d4ebff;}#sk-container-id-14 div.sk-parallel-item::after {content: \"\";width: 100%;border-bottom: 1px solid gray;flex-grow: 1;}#sk-container-id-14 div.sk-label:hover label.sk-toggleable__label {background-color: #d4ebff;}#sk-container-id-14 div.sk-serial::before {content: \"\";position: absolute;border-left: 1px solid gray;box-sizing: border-box;top: 0;bottom: 0;left: 50%;z-index: 0;}#sk-container-id-14 div.sk-serial {display: flex;flex-direction: column;align-items: center;background-color: white;padding-right: 0.2em;padding-left: 0.2em;position: relative;}#sk-container-id-14 div.sk-item {position: relative;z-index: 1;}#sk-container-id-14 div.sk-parallel {display: flex;align-items: stretch;justify-content: center;background-color: white;position: relative;}#sk-container-id-14 div.sk-item::before, #sk-container-id-14 div.sk-parallel-item::before {content: \"\";position: absolute;border-left: 1px solid gray;box-sizing: border-box;top: 0;bottom: 0;left: 50%;z-index: -1;}#sk-container-id-14 div.sk-parallel-item {display: flex;flex-direction: column;z-index: 1;position: relative;background-color: white;}#sk-container-id-14 div.sk-parallel-item:first-child::after {align-self: flex-end;width: 50%;}#sk-container-id-14 div.sk-parallel-item:last-child::after {align-self: flex-start;width: 50%;}#sk-container-id-14 div.sk-parallel-item:only-child::after {width: 0;}#sk-container-id-14 div.sk-dashed-wrapped {border: 1px dashed gray;margin: 0 0.4em 0.5em 0.4em;box-sizing: border-box;padding-bottom: 0.4em;background-color: white;}#sk-container-id-14 div.sk-label label {font-family: monospace;font-weight: bold;display: inline-block;line-height: 1.2em;}#sk-container-id-14 div.sk-label-container {text-align: center;}#sk-container-id-14 div.sk-container {/* jupyter's `normalize.less` sets `[hidden] { display: none; }` but bootstrap.min.css set `[hidden] { display: none !important; }` so we also need the `!important` here to be able to override the default hidden behavior on the sphinx rendered scikit-learn.org. See: https://github.com/scikit-learn/scikit-learn/issues/21755 */display: inline-block !important;position: relative;}#sk-container-id-14 div.sk-text-repr-fallback {display: none;}</style><div id=\"sk-container-id-14\" class=\"sk-top-container\"><div class=\"sk-text-repr-fallback\"><pre>KNeighborsClassifier(n_neighbors=3)</pre><b>In a Jupyter environment, please rerun this cell to show the HTML representation or trust the notebook. <br />On GitHub, the HTML representation is unable to render, please try loading this page with nbviewer.org.</b></div><div class=\"sk-container\" hidden><div class=\"sk-item\"><div class=\"sk-estimator sk-toggleable\"><input class=\"sk-toggleable__control sk-hidden--visually\" id=\"sk-estimator-id-14\" type=\"checkbox\" checked><label for=\"sk-estimator-id-14\" class=\"sk-toggleable__label sk-toggleable__label-arrow\">KNeighborsClassifier</label><div class=\"sk-toggleable__content\"><pre>KNeighborsClassifier(n_neighbors=3)</pre></div></div></div></div></div>"
            ]
          },
          "metadata": {},
          "execution_count": 624
        }
      ]
    },
    {
      "cell_type": "code",
      "source": [
        "from sklearn.linear_model import LogisticRegression\n",
        "\n",
        "# Buat dan latih model Logistic Regression\n",
        "model_lr = LogisticRegression()\n",
        "model_lr.fit(X_train, y_train)"
      ],
      "metadata": {
        "colab": {
          "base_uri": "https://localhost:8080/",
          "height": 75
        },
        "id": "nuVdIPAqISmm",
        "outputId": "552e85b9-b7b9-4d6b-f5db-ab60d0b3e5ec"
      },
      "execution_count": null,
      "outputs": [
        {
          "output_type": "execute_result",
          "data": {
            "text/plain": [
              "LogisticRegression()"
            ],
            "text/html": [
              "<style>#sk-container-id-15 {color: black;background-color: white;}#sk-container-id-15 pre{padding: 0;}#sk-container-id-15 div.sk-toggleable {background-color: white;}#sk-container-id-15 label.sk-toggleable__label {cursor: pointer;display: block;width: 100%;margin-bottom: 0;padding: 0.3em;box-sizing: border-box;text-align: center;}#sk-container-id-15 label.sk-toggleable__label-arrow:before {content: \"▸\";float: left;margin-right: 0.25em;color: #696969;}#sk-container-id-15 label.sk-toggleable__label-arrow:hover:before {color: black;}#sk-container-id-15 div.sk-estimator:hover label.sk-toggleable__label-arrow:before {color: black;}#sk-container-id-15 div.sk-toggleable__content {max-height: 0;max-width: 0;overflow: hidden;text-align: left;background-color: #f0f8ff;}#sk-container-id-15 div.sk-toggleable__content pre {margin: 0.2em;color: black;border-radius: 0.25em;background-color: #f0f8ff;}#sk-container-id-15 input.sk-toggleable__control:checked~div.sk-toggleable__content {max-height: 200px;max-width: 100%;overflow: auto;}#sk-container-id-15 input.sk-toggleable__control:checked~label.sk-toggleable__label-arrow:before {content: \"▾\";}#sk-container-id-15 div.sk-estimator input.sk-toggleable__control:checked~label.sk-toggleable__label {background-color: #d4ebff;}#sk-container-id-15 div.sk-label input.sk-toggleable__control:checked~label.sk-toggleable__label {background-color: #d4ebff;}#sk-container-id-15 input.sk-hidden--visually {border: 0;clip: rect(1px 1px 1px 1px);clip: rect(1px, 1px, 1px, 1px);height: 1px;margin: -1px;overflow: hidden;padding: 0;position: absolute;width: 1px;}#sk-container-id-15 div.sk-estimator {font-family: monospace;background-color: #f0f8ff;border: 1px dotted black;border-radius: 0.25em;box-sizing: border-box;margin-bottom: 0.5em;}#sk-container-id-15 div.sk-estimator:hover {background-color: #d4ebff;}#sk-container-id-15 div.sk-parallel-item::after {content: \"\";width: 100%;border-bottom: 1px solid gray;flex-grow: 1;}#sk-container-id-15 div.sk-label:hover label.sk-toggleable__label {background-color: #d4ebff;}#sk-container-id-15 div.sk-serial::before {content: \"\";position: absolute;border-left: 1px solid gray;box-sizing: border-box;top: 0;bottom: 0;left: 50%;z-index: 0;}#sk-container-id-15 div.sk-serial {display: flex;flex-direction: column;align-items: center;background-color: white;padding-right: 0.2em;padding-left: 0.2em;position: relative;}#sk-container-id-15 div.sk-item {position: relative;z-index: 1;}#sk-container-id-15 div.sk-parallel {display: flex;align-items: stretch;justify-content: center;background-color: white;position: relative;}#sk-container-id-15 div.sk-item::before, #sk-container-id-15 div.sk-parallel-item::before {content: \"\";position: absolute;border-left: 1px solid gray;box-sizing: border-box;top: 0;bottom: 0;left: 50%;z-index: -1;}#sk-container-id-15 div.sk-parallel-item {display: flex;flex-direction: column;z-index: 1;position: relative;background-color: white;}#sk-container-id-15 div.sk-parallel-item:first-child::after {align-self: flex-end;width: 50%;}#sk-container-id-15 div.sk-parallel-item:last-child::after {align-self: flex-start;width: 50%;}#sk-container-id-15 div.sk-parallel-item:only-child::after {width: 0;}#sk-container-id-15 div.sk-dashed-wrapped {border: 1px dashed gray;margin: 0 0.4em 0.5em 0.4em;box-sizing: border-box;padding-bottom: 0.4em;background-color: white;}#sk-container-id-15 div.sk-label label {font-family: monospace;font-weight: bold;display: inline-block;line-height: 1.2em;}#sk-container-id-15 div.sk-label-container {text-align: center;}#sk-container-id-15 div.sk-container {/* jupyter's `normalize.less` sets `[hidden] { display: none; }` but bootstrap.min.css set `[hidden] { display: none !important; }` so we also need the `!important` here to be able to override the default hidden behavior on the sphinx rendered scikit-learn.org. See: https://github.com/scikit-learn/scikit-learn/issues/21755 */display: inline-block !important;position: relative;}#sk-container-id-15 div.sk-text-repr-fallback {display: none;}</style><div id=\"sk-container-id-15\" class=\"sk-top-container\"><div class=\"sk-text-repr-fallback\"><pre>LogisticRegression()</pre><b>In a Jupyter environment, please rerun this cell to show the HTML representation or trust the notebook. <br />On GitHub, the HTML representation is unable to render, please try loading this page with nbviewer.org.</b></div><div class=\"sk-container\" hidden><div class=\"sk-item\"><div class=\"sk-estimator sk-toggleable\"><input class=\"sk-toggleable__control sk-hidden--visually\" id=\"sk-estimator-id-15\" type=\"checkbox\" checked><label for=\"sk-estimator-id-15\" class=\"sk-toggleable__label sk-toggleable__label-arrow\">LogisticRegression</label><div class=\"sk-toggleable__content\"><pre>LogisticRegression()</pre></div></div></div></div></div>"
            ]
          },
          "metadata": {},
          "execution_count": 625
        }
      ]
    },
    {
      "cell_type": "code",
      "source": [
        "from sklearn.naive_bayes import GaussianNB\n",
        "\n",
        "# Buat dan latih model Naive Bayes\n",
        "model_nb = GaussianNB()\n",
        "model_nb.fit(X_train, y_train)"
      ],
      "metadata": {
        "colab": {
          "base_uri": "https://localhost:8080/",
          "height": 75
        },
        "id": "OrFw1fnoIUyI",
        "outputId": "419038c9-43b7-4e46-9af4-1da3cacb1d5d"
      },
      "execution_count": null,
      "outputs": [
        {
          "output_type": "execute_result",
          "data": {
            "text/plain": [
              "GaussianNB()"
            ],
            "text/html": [
              "<style>#sk-container-id-16 {color: black;background-color: white;}#sk-container-id-16 pre{padding: 0;}#sk-container-id-16 div.sk-toggleable {background-color: white;}#sk-container-id-16 label.sk-toggleable__label {cursor: pointer;display: block;width: 100%;margin-bottom: 0;padding: 0.3em;box-sizing: border-box;text-align: center;}#sk-container-id-16 label.sk-toggleable__label-arrow:before {content: \"▸\";float: left;margin-right: 0.25em;color: #696969;}#sk-container-id-16 label.sk-toggleable__label-arrow:hover:before {color: black;}#sk-container-id-16 div.sk-estimator:hover label.sk-toggleable__label-arrow:before {color: black;}#sk-container-id-16 div.sk-toggleable__content {max-height: 0;max-width: 0;overflow: hidden;text-align: left;background-color: #f0f8ff;}#sk-container-id-16 div.sk-toggleable__content pre {margin: 0.2em;color: black;border-radius: 0.25em;background-color: #f0f8ff;}#sk-container-id-16 input.sk-toggleable__control:checked~div.sk-toggleable__content {max-height: 200px;max-width: 100%;overflow: auto;}#sk-container-id-16 input.sk-toggleable__control:checked~label.sk-toggleable__label-arrow:before {content: \"▾\";}#sk-container-id-16 div.sk-estimator input.sk-toggleable__control:checked~label.sk-toggleable__label {background-color: #d4ebff;}#sk-container-id-16 div.sk-label input.sk-toggleable__control:checked~label.sk-toggleable__label {background-color: #d4ebff;}#sk-container-id-16 input.sk-hidden--visually {border: 0;clip: rect(1px 1px 1px 1px);clip: rect(1px, 1px, 1px, 1px);height: 1px;margin: -1px;overflow: hidden;padding: 0;position: absolute;width: 1px;}#sk-container-id-16 div.sk-estimator {font-family: monospace;background-color: #f0f8ff;border: 1px dotted black;border-radius: 0.25em;box-sizing: border-box;margin-bottom: 0.5em;}#sk-container-id-16 div.sk-estimator:hover {background-color: #d4ebff;}#sk-container-id-16 div.sk-parallel-item::after {content: \"\";width: 100%;border-bottom: 1px solid gray;flex-grow: 1;}#sk-container-id-16 div.sk-label:hover label.sk-toggleable__label {background-color: #d4ebff;}#sk-container-id-16 div.sk-serial::before {content: \"\";position: absolute;border-left: 1px solid gray;box-sizing: border-box;top: 0;bottom: 0;left: 50%;z-index: 0;}#sk-container-id-16 div.sk-serial {display: flex;flex-direction: column;align-items: center;background-color: white;padding-right: 0.2em;padding-left: 0.2em;position: relative;}#sk-container-id-16 div.sk-item {position: relative;z-index: 1;}#sk-container-id-16 div.sk-parallel {display: flex;align-items: stretch;justify-content: center;background-color: white;position: relative;}#sk-container-id-16 div.sk-item::before, #sk-container-id-16 div.sk-parallel-item::before {content: \"\";position: absolute;border-left: 1px solid gray;box-sizing: border-box;top: 0;bottom: 0;left: 50%;z-index: -1;}#sk-container-id-16 div.sk-parallel-item {display: flex;flex-direction: column;z-index: 1;position: relative;background-color: white;}#sk-container-id-16 div.sk-parallel-item:first-child::after {align-self: flex-end;width: 50%;}#sk-container-id-16 div.sk-parallel-item:last-child::after {align-self: flex-start;width: 50%;}#sk-container-id-16 div.sk-parallel-item:only-child::after {width: 0;}#sk-container-id-16 div.sk-dashed-wrapped {border: 1px dashed gray;margin: 0 0.4em 0.5em 0.4em;box-sizing: border-box;padding-bottom: 0.4em;background-color: white;}#sk-container-id-16 div.sk-label label {font-family: monospace;font-weight: bold;display: inline-block;line-height: 1.2em;}#sk-container-id-16 div.sk-label-container {text-align: center;}#sk-container-id-16 div.sk-container {/* jupyter's `normalize.less` sets `[hidden] { display: none; }` but bootstrap.min.css set `[hidden] { display: none !important; }` so we also need the `!important` here to be able to override the default hidden behavior on the sphinx rendered scikit-learn.org. See: https://github.com/scikit-learn/scikit-learn/issues/21755 */display: inline-block !important;position: relative;}#sk-container-id-16 div.sk-text-repr-fallback {display: none;}</style><div id=\"sk-container-id-16\" class=\"sk-top-container\"><div class=\"sk-text-repr-fallback\"><pre>GaussianNB()</pre><b>In a Jupyter environment, please rerun this cell to show the HTML representation or trust the notebook. <br />On GitHub, the HTML representation is unable to render, please try loading this page with nbviewer.org.</b></div><div class=\"sk-container\" hidden><div class=\"sk-item\"><div class=\"sk-estimator sk-toggleable\"><input class=\"sk-toggleable__control sk-hidden--visually\" id=\"sk-estimator-id-16\" type=\"checkbox\" checked><label for=\"sk-estimator-id-16\" class=\"sk-toggleable__label sk-toggleable__label-arrow\">GaussianNB</label><div class=\"sk-toggleable__content\"><pre>GaussianNB()</pre></div></div></div></div></div>"
            ]
          },
          "metadata": {},
          "execution_count": 626
        }
      ]
    },
    {
      "cell_type": "code",
      "source": [
        "from sklearn.tree import DecisionTreeClassifier\n",
        "\n",
        "# Buat dan latih model Decision Tree\n",
        "model_dt = DecisionTreeClassifier()\n",
        "model_dt.fit(X_train, y_train)"
      ],
      "metadata": {
        "colab": {
          "base_uri": "https://localhost:8080/",
          "height": 75
        },
        "id": "xE3s0k_kIWlj",
        "outputId": "4d1d3a02-83ed-4c63-90ca-15cc316440e1"
      },
      "execution_count": null,
      "outputs": [
        {
          "output_type": "execute_result",
          "data": {
            "text/plain": [
              "DecisionTreeClassifier()"
            ],
            "text/html": [
              "<style>#sk-container-id-17 {color: black;background-color: white;}#sk-container-id-17 pre{padding: 0;}#sk-container-id-17 div.sk-toggleable {background-color: white;}#sk-container-id-17 label.sk-toggleable__label {cursor: pointer;display: block;width: 100%;margin-bottom: 0;padding: 0.3em;box-sizing: border-box;text-align: center;}#sk-container-id-17 label.sk-toggleable__label-arrow:before {content: \"▸\";float: left;margin-right: 0.25em;color: #696969;}#sk-container-id-17 label.sk-toggleable__label-arrow:hover:before {color: black;}#sk-container-id-17 div.sk-estimator:hover label.sk-toggleable__label-arrow:before {color: black;}#sk-container-id-17 div.sk-toggleable__content {max-height: 0;max-width: 0;overflow: hidden;text-align: left;background-color: #f0f8ff;}#sk-container-id-17 div.sk-toggleable__content pre {margin: 0.2em;color: black;border-radius: 0.25em;background-color: #f0f8ff;}#sk-container-id-17 input.sk-toggleable__control:checked~div.sk-toggleable__content {max-height: 200px;max-width: 100%;overflow: auto;}#sk-container-id-17 input.sk-toggleable__control:checked~label.sk-toggleable__label-arrow:before {content: \"▾\";}#sk-container-id-17 div.sk-estimator input.sk-toggleable__control:checked~label.sk-toggleable__label {background-color: #d4ebff;}#sk-container-id-17 div.sk-label input.sk-toggleable__control:checked~label.sk-toggleable__label {background-color: #d4ebff;}#sk-container-id-17 input.sk-hidden--visually {border: 0;clip: rect(1px 1px 1px 1px);clip: rect(1px, 1px, 1px, 1px);height: 1px;margin: -1px;overflow: hidden;padding: 0;position: absolute;width: 1px;}#sk-container-id-17 div.sk-estimator {font-family: monospace;background-color: #f0f8ff;border: 1px dotted black;border-radius: 0.25em;box-sizing: border-box;margin-bottom: 0.5em;}#sk-container-id-17 div.sk-estimator:hover {background-color: #d4ebff;}#sk-container-id-17 div.sk-parallel-item::after {content: \"\";width: 100%;border-bottom: 1px solid gray;flex-grow: 1;}#sk-container-id-17 div.sk-label:hover label.sk-toggleable__label {background-color: #d4ebff;}#sk-container-id-17 div.sk-serial::before {content: \"\";position: absolute;border-left: 1px solid gray;box-sizing: border-box;top: 0;bottom: 0;left: 50%;z-index: 0;}#sk-container-id-17 div.sk-serial {display: flex;flex-direction: column;align-items: center;background-color: white;padding-right: 0.2em;padding-left: 0.2em;position: relative;}#sk-container-id-17 div.sk-item {position: relative;z-index: 1;}#sk-container-id-17 div.sk-parallel {display: flex;align-items: stretch;justify-content: center;background-color: white;position: relative;}#sk-container-id-17 div.sk-item::before, #sk-container-id-17 div.sk-parallel-item::before {content: \"\";position: absolute;border-left: 1px solid gray;box-sizing: border-box;top: 0;bottom: 0;left: 50%;z-index: -1;}#sk-container-id-17 div.sk-parallel-item {display: flex;flex-direction: column;z-index: 1;position: relative;background-color: white;}#sk-container-id-17 div.sk-parallel-item:first-child::after {align-self: flex-end;width: 50%;}#sk-container-id-17 div.sk-parallel-item:last-child::after {align-self: flex-start;width: 50%;}#sk-container-id-17 div.sk-parallel-item:only-child::after {width: 0;}#sk-container-id-17 div.sk-dashed-wrapped {border: 1px dashed gray;margin: 0 0.4em 0.5em 0.4em;box-sizing: border-box;padding-bottom: 0.4em;background-color: white;}#sk-container-id-17 div.sk-label label {font-family: monospace;font-weight: bold;display: inline-block;line-height: 1.2em;}#sk-container-id-17 div.sk-label-container {text-align: center;}#sk-container-id-17 div.sk-container {/* jupyter's `normalize.less` sets `[hidden] { display: none; }` but bootstrap.min.css set `[hidden] { display: none !important; }` so we also need the `!important` here to be able to override the default hidden behavior on the sphinx rendered scikit-learn.org. See: https://github.com/scikit-learn/scikit-learn/issues/21755 */display: inline-block !important;position: relative;}#sk-container-id-17 div.sk-text-repr-fallback {display: none;}</style><div id=\"sk-container-id-17\" class=\"sk-top-container\"><div class=\"sk-text-repr-fallback\"><pre>DecisionTreeClassifier()</pre><b>In a Jupyter environment, please rerun this cell to show the HTML representation or trust the notebook. <br />On GitHub, the HTML representation is unable to render, please try loading this page with nbviewer.org.</b></div><div class=\"sk-container\" hidden><div class=\"sk-item\"><div class=\"sk-estimator sk-toggleable\"><input class=\"sk-toggleable__control sk-hidden--visually\" id=\"sk-estimator-id-17\" type=\"checkbox\" checked><label for=\"sk-estimator-id-17\" class=\"sk-toggleable__label sk-toggleable__label-arrow\">DecisionTreeClassifier</label><div class=\"sk-toggleable__content\"><pre>DecisionTreeClassifier()</pre></div></div></div></div></div>"
            ]
          },
          "metadata": {},
          "execution_count": 627
        }
      ]
    },
    {
      "cell_type": "code",
      "source": [
        "model_rf = RandomForestClassifier()\n",
        "model_rf.fit(X_train, y_train)"
      ],
      "metadata": {
        "colab": {
          "base_uri": "https://localhost:8080/",
          "height": 75
        },
        "id": "Xr7EK7FeIYSo",
        "outputId": "71164108-216b-47c0-f5ac-254d40f2f179"
      },
      "execution_count": null,
      "outputs": [
        {
          "output_type": "execute_result",
          "data": {
            "text/plain": [
              "RandomForestClassifier()"
            ],
            "text/html": [
              "<style>#sk-container-id-18 {color: black;background-color: white;}#sk-container-id-18 pre{padding: 0;}#sk-container-id-18 div.sk-toggleable {background-color: white;}#sk-container-id-18 label.sk-toggleable__label {cursor: pointer;display: block;width: 100%;margin-bottom: 0;padding: 0.3em;box-sizing: border-box;text-align: center;}#sk-container-id-18 label.sk-toggleable__label-arrow:before {content: \"▸\";float: left;margin-right: 0.25em;color: #696969;}#sk-container-id-18 label.sk-toggleable__label-arrow:hover:before {color: black;}#sk-container-id-18 div.sk-estimator:hover label.sk-toggleable__label-arrow:before {color: black;}#sk-container-id-18 div.sk-toggleable__content {max-height: 0;max-width: 0;overflow: hidden;text-align: left;background-color: #f0f8ff;}#sk-container-id-18 div.sk-toggleable__content pre {margin: 0.2em;color: black;border-radius: 0.25em;background-color: #f0f8ff;}#sk-container-id-18 input.sk-toggleable__control:checked~div.sk-toggleable__content {max-height: 200px;max-width: 100%;overflow: auto;}#sk-container-id-18 input.sk-toggleable__control:checked~label.sk-toggleable__label-arrow:before {content: \"▾\";}#sk-container-id-18 div.sk-estimator input.sk-toggleable__control:checked~label.sk-toggleable__label {background-color: #d4ebff;}#sk-container-id-18 div.sk-label input.sk-toggleable__control:checked~label.sk-toggleable__label {background-color: #d4ebff;}#sk-container-id-18 input.sk-hidden--visually {border: 0;clip: rect(1px 1px 1px 1px);clip: rect(1px, 1px, 1px, 1px);height: 1px;margin: -1px;overflow: hidden;padding: 0;position: absolute;width: 1px;}#sk-container-id-18 div.sk-estimator {font-family: monospace;background-color: #f0f8ff;border: 1px dotted black;border-radius: 0.25em;box-sizing: border-box;margin-bottom: 0.5em;}#sk-container-id-18 div.sk-estimator:hover {background-color: #d4ebff;}#sk-container-id-18 div.sk-parallel-item::after {content: \"\";width: 100%;border-bottom: 1px solid gray;flex-grow: 1;}#sk-container-id-18 div.sk-label:hover label.sk-toggleable__label {background-color: #d4ebff;}#sk-container-id-18 div.sk-serial::before {content: \"\";position: absolute;border-left: 1px solid gray;box-sizing: border-box;top: 0;bottom: 0;left: 50%;z-index: 0;}#sk-container-id-18 div.sk-serial {display: flex;flex-direction: column;align-items: center;background-color: white;padding-right: 0.2em;padding-left: 0.2em;position: relative;}#sk-container-id-18 div.sk-item {position: relative;z-index: 1;}#sk-container-id-18 div.sk-parallel {display: flex;align-items: stretch;justify-content: center;background-color: white;position: relative;}#sk-container-id-18 div.sk-item::before, #sk-container-id-18 div.sk-parallel-item::before {content: \"\";position: absolute;border-left: 1px solid gray;box-sizing: border-box;top: 0;bottom: 0;left: 50%;z-index: -1;}#sk-container-id-18 div.sk-parallel-item {display: flex;flex-direction: column;z-index: 1;position: relative;background-color: white;}#sk-container-id-18 div.sk-parallel-item:first-child::after {align-self: flex-end;width: 50%;}#sk-container-id-18 div.sk-parallel-item:last-child::after {align-self: flex-start;width: 50%;}#sk-container-id-18 div.sk-parallel-item:only-child::after {width: 0;}#sk-container-id-18 div.sk-dashed-wrapped {border: 1px dashed gray;margin: 0 0.4em 0.5em 0.4em;box-sizing: border-box;padding-bottom: 0.4em;background-color: white;}#sk-container-id-18 div.sk-label label {font-family: monospace;font-weight: bold;display: inline-block;line-height: 1.2em;}#sk-container-id-18 div.sk-label-container {text-align: center;}#sk-container-id-18 div.sk-container {/* jupyter's `normalize.less` sets `[hidden] { display: none; }` but bootstrap.min.css set `[hidden] { display: none !important; }` so we also need the `!important` here to be able to override the default hidden behavior on the sphinx rendered scikit-learn.org. See: https://github.com/scikit-learn/scikit-learn/issues/21755 */display: inline-block !important;position: relative;}#sk-container-id-18 div.sk-text-repr-fallback {display: none;}</style><div id=\"sk-container-id-18\" class=\"sk-top-container\"><div class=\"sk-text-repr-fallback\"><pre>RandomForestClassifier()</pre><b>In a Jupyter environment, please rerun this cell to show the HTML representation or trust the notebook. <br />On GitHub, the HTML representation is unable to render, please try loading this page with nbviewer.org.</b></div><div class=\"sk-container\" hidden><div class=\"sk-item\"><div class=\"sk-estimator sk-toggleable\"><input class=\"sk-toggleable__control sk-hidden--visually\" id=\"sk-estimator-id-18\" type=\"checkbox\" checked><label for=\"sk-estimator-id-18\" class=\"sk-toggleable__label sk-toggleable__label-arrow\">RandomForestClassifier</label><div class=\"sk-toggleable__content\"><pre>RandomForestClassifier()</pre></div></div></div></div></div>"
            ]
          },
          "metadata": {},
          "execution_count": 628
        }
      ]
    },
    {
      "cell_type": "code",
      "source": [
        "from sklearn.neural_network import MLPClassifier\n",
        "\n",
        "# Buat model MLP\n",
        "model_mlp = MLPClassifier(hidden_layer_sizes=(100, 50), max_iter=1000)  # Atur parameter sesuai kebutuhan\n",
        "\n",
        "# Latih model MLP dengan data pelatihan\n",
        "model_mlp.fit(X_train, y_train)"
      ],
      "metadata": {
        "colab": {
          "base_uri": "https://localhost:8080/",
          "height": 75
        },
        "id": "jVVjA4I0IXsm",
        "outputId": "dc0dd87a-8898-40c9-dd94-b8f3a60dd1f2"
      },
      "execution_count": null,
      "outputs": [
        {
          "output_type": "execute_result",
          "data": {
            "text/plain": [
              "MLPClassifier(hidden_layer_sizes=(100, 50), max_iter=1000)"
            ],
            "text/html": [
              "<style>#sk-container-id-19 {color: black;background-color: white;}#sk-container-id-19 pre{padding: 0;}#sk-container-id-19 div.sk-toggleable {background-color: white;}#sk-container-id-19 label.sk-toggleable__label {cursor: pointer;display: block;width: 100%;margin-bottom: 0;padding: 0.3em;box-sizing: border-box;text-align: center;}#sk-container-id-19 label.sk-toggleable__label-arrow:before {content: \"▸\";float: left;margin-right: 0.25em;color: #696969;}#sk-container-id-19 label.sk-toggleable__label-arrow:hover:before {color: black;}#sk-container-id-19 div.sk-estimator:hover label.sk-toggleable__label-arrow:before {color: black;}#sk-container-id-19 div.sk-toggleable__content {max-height: 0;max-width: 0;overflow: hidden;text-align: left;background-color: #f0f8ff;}#sk-container-id-19 div.sk-toggleable__content pre {margin: 0.2em;color: black;border-radius: 0.25em;background-color: #f0f8ff;}#sk-container-id-19 input.sk-toggleable__control:checked~div.sk-toggleable__content {max-height: 200px;max-width: 100%;overflow: auto;}#sk-container-id-19 input.sk-toggleable__control:checked~label.sk-toggleable__label-arrow:before {content: \"▾\";}#sk-container-id-19 div.sk-estimator input.sk-toggleable__control:checked~label.sk-toggleable__label {background-color: #d4ebff;}#sk-container-id-19 div.sk-label input.sk-toggleable__control:checked~label.sk-toggleable__label {background-color: #d4ebff;}#sk-container-id-19 input.sk-hidden--visually {border: 0;clip: rect(1px 1px 1px 1px);clip: rect(1px, 1px, 1px, 1px);height: 1px;margin: -1px;overflow: hidden;padding: 0;position: absolute;width: 1px;}#sk-container-id-19 div.sk-estimator {font-family: monospace;background-color: #f0f8ff;border: 1px dotted black;border-radius: 0.25em;box-sizing: border-box;margin-bottom: 0.5em;}#sk-container-id-19 div.sk-estimator:hover {background-color: #d4ebff;}#sk-container-id-19 div.sk-parallel-item::after {content: \"\";width: 100%;border-bottom: 1px solid gray;flex-grow: 1;}#sk-container-id-19 div.sk-label:hover label.sk-toggleable__label {background-color: #d4ebff;}#sk-container-id-19 div.sk-serial::before {content: \"\";position: absolute;border-left: 1px solid gray;box-sizing: border-box;top: 0;bottom: 0;left: 50%;z-index: 0;}#sk-container-id-19 div.sk-serial {display: flex;flex-direction: column;align-items: center;background-color: white;padding-right: 0.2em;padding-left: 0.2em;position: relative;}#sk-container-id-19 div.sk-item {position: relative;z-index: 1;}#sk-container-id-19 div.sk-parallel {display: flex;align-items: stretch;justify-content: center;background-color: white;position: relative;}#sk-container-id-19 div.sk-item::before, #sk-container-id-19 div.sk-parallel-item::before {content: \"\";position: absolute;border-left: 1px solid gray;box-sizing: border-box;top: 0;bottom: 0;left: 50%;z-index: -1;}#sk-container-id-19 div.sk-parallel-item {display: flex;flex-direction: column;z-index: 1;position: relative;background-color: white;}#sk-container-id-19 div.sk-parallel-item:first-child::after {align-self: flex-end;width: 50%;}#sk-container-id-19 div.sk-parallel-item:last-child::after {align-self: flex-start;width: 50%;}#sk-container-id-19 div.sk-parallel-item:only-child::after {width: 0;}#sk-container-id-19 div.sk-dashed-wrapped {border: 1px dashed gray;margin: 0 0.4em 0.5em 0.4em;box-sizing: border-box;padding-bottom: 0.4em;background-color: white;}#sk-container-id-19 div.sk-label label {font-family: monospace;font-weight: bold;display: inline-block;line-height: 1.2em;}#sk-container-id-19 div.sk-label-container {text-align: center;}#sk-container-id-19 div.sk-container {/* jupyter's `normalize.less` sets `[hidden] { display: none; }` but bootstrap.min.css set `[hidden] { display: none !important; }` so we also need the `!important` here to be able to override the default hidden behavior on the sphinx rendered scikit-learn.org. See: https://github.com/scikit-learn/scikit-learn/issues/21755 */display: inline-block !important;position: relative;}#sk-container-id-19 div.sk-text-repr-fallback {display: none;}</style><div id=\"sk-container-id-19\" class=\"sk-top-container\"><div class=\"sk-text-repr-fallback\"><pre>MLPClassifier(hidden_layer_sizes=(100, 50), max_iter=1000)</pre><b>In a Jupyter environment, please rerun this cell to show the HTML representation or trust the notebook. <br />On GitHub, the HTML representation is unable to render, please try loading this page with nbviewer.org.</b></div><div class=\"sk-container\" hidden><div class=\"sk-item\"><div class=\"sk-estimator sk-toggleable\"><input class=\"sk-toggleable__control sk-hidden--visually\" id=\"sk-estimator-id-19\" type=\"checkbox\" checked><label for=\"sk-estimator-id-19\" class=\"sk-toggleable__label sk-toggleable__label-arrow\">MLPClassifier</label><div class=\"sk-toggleable__content\"><pre>MLPClassifier(hidden_layer_sizes=(100, 50), max_iter=1000)</pre></div></div></div></div></div>"
            ]
          },
          "metadata": {},
          "execution_count": 629
        }
      ]
    },
    {
      "cell_type": "code",
      "source": [
        "from sklearn.metrics import confusion_matrix, accuracy_score\n",
        "\n",
        "# Prediksi dari beberapa algoritma\n",
        "y_pred_rf = model_rf.predict(X_test)  # Prediksi dari Random Forest\n",
        "y_pred_svm = model_svm.predict(X_test)  # Prediksi dari SVM\n",
        "y_pred_knn = model_knn.predict(X_test)  # Prediksi dari K-Nearest Neighbors\n",
        "y_pred_lr = model_lr.predict(X_test)  # Prediksi dari Logistic Regression\n",
        "y_pred_nb = model_nb.predict(X_test)  # Prediksi dari Naive Bayes\n",
        "y_pred_dt = model_dt.predict(X_test)  # Prediksi dari Decision Tree\n",
        "y_pred_mlp = model_mlp.predict(X_test)  # Prediksi dari MLP\n",
        "\n",
        "# Label aktual\n",
        "y_true = y_test\n",
        "\n",
        "# Menghitung confusion matrix dan akurasi untuk setiap algoritma\n",
        "confusion_rf = confusion_matrix(y_true, y_pred_rf)\n",
        "confusion_svm = confusion_matrix(y_true, y_pred_svm)\n",
        "confusion_knn = confusion_matrix(y_true, y_pred_knn)\n",
        "confusion_lr = confusion_matrix(y_true, y_pred_lr)\n",
        "confusion_nb = confusion_matrix(y_true, y_pred_nb)\n",
        "confusion_dt = confusion_matrix(y_true, y_pred_dt)\n",
        "confusion_mlp = confusion_matrix(y_true, y_pred_mlp)\n",
        "\n",
        "accuracy_rf = accuracy_score(y_true, y_pred_rf)\n",
        "accuracy_svm = accuracy_score(y_true, y_pred_svm)\n",
        "accuracy_knn = accuracy_score(y_true, y_pred_knn)\n",
        "accuracy_lr = accuracy_score(y_true, y_pred_lr)\n",
        "accuracy_nb = accuracy_score(y_true, y_pred_nb)\n",
        "accuracy_dt = accuracy_score(y_true, y_pred_dt)\n",
        "accuracy_mlp = accuracy_score(y_true, y_pred_mlp)\n",
        "\n",
        "# Menampilkan hasil evaluasi\n",
        "print(\"Random Forest:\")\n",
        "print(\"Confusion Matrix:\\n\", confusion_rf)\n",
        "print(\"Akurasi:\", accuracy_rf)\n",
        "print(\"\")\n",
        "\n",
        "print(\"SVM:\")\n",
        "print(\"Confusion Matrix:\\n\", confusion_svm)\n",
        "print(\"Akurasi:\", accuracy_svm)\n",
        "print(\"\")\n",
        "\n",
        "print(\"K-Nearest Neighbors:\")\n",
        "print(\"Confusion Matrix:\\n\", confusion_knn)\n",
        "print(\"Akurasi:\", accuracy_knn)\n",
        "print(\"\")\n",
        "\n",
        "print(\"Logistic Regression:\")\n",
        "print(\"Confusion Matrix:\\n\", confusion_lr)\n",
        "print(\"Akurasi:\", accuracy_lr)\n",
        "print(\"\")\n",
        "\n",
        "print(\"Naive Bayes:\")\n",
        "print(\"Confusion Matrix:\\n\", confusion_nb)\n",
        "print(\"Akurasi:\", accuracy_nb)\n",
        "print(\"\")\n",
        "\n",
        "print(\"Decision Tree:\")\n",
        "print(\"Confusion Matrix:\\n\", confusion_dt)\n",
        "print(\"Akurasi:\", accuracy_dt)\n",
        "print(\"\")\n",
        "\n",
        "print(\"MLP:\")\n",
        "print(\"Confusion Matrix:\\n\", confusion_mlp)\n",
        "print(\"Akurasi:\", accuracy_mlp)"
      ],
      "metadata": {
        "colab": {
          "base_uri": "https://localhost:8080/"
        },
        "id": "RtGRM0HMIXpZ",
        "outputId": "f27d027d-657d-4b87-d09f-1c13b4ded226"
      },
      "execution_count": null,
      "outputs": [
        {
          "output_type": "stream",
          "name": "stdout",
          "text": [
            "Random Forest:\n",
            "Confusion Matrix:\n",
            " [[ 0 27  0 ...  0  0  0]\n",
            " [ 0 23  0 ...  0  0  0]\n",
            " [ 0  5  0 ...  0  0  0]\n",
            " ...\n",
            " [ 0  8  0 ...  0  0  0]\n",
            " [ 0 20  0 ...  0  0  0]\n",
            " [ 0 11  0 ...  0  0  0]]\n",
            "Akurasi: 0.06927710843373494\n",
            "\n",
            "SVM:\n",
            "Confusion Matrix:\n",
            " [[ 0 11  0 ...  9  6  0]\n",
            " [ 0  5  0 ...  3 14  0]\n",
            " [ 0  0  0 ...  0  3  0]\n",
            " ...\n",
            " [ 0  5  0 ...  0  2  0]\n",
            " [ 0  6  0 ...  7  7  0]\n",
            " [ 0  1  0 ...  3  7  0]]\n",
            "Akurasi: 0.03614457831325301\n",
            "\n",
            "K-Nearest Neighbors:\n",
            "Confusion Matrix:\n",
            " [[ 8  6  0 ...  0  0  0]\n",
            " [13  3  0 ...  0  0  0]\n",
            " [ 1  0  0 ...  0  0  0]\n",
            " ...\n",
            " [ 2  4  0 ...  0  0  0]\n",
            " [ 8  4  0 ...  0  0  0]\n",
            " [ 7  1  0 ...  0  0  0]]\n",
            "Akurasi: 0.04819277108433735\n",
            "\n",
            "Logistic Regression:\n",
            "Confusion Matrix:\n",
            " [[ 0 27  0 ...  0  0  0]\n",
            " [ 0 23  0 ...  0  0  0]\n",
            " [ 0  5  0 ...  0  0  0]\n",
            " ...\n",
            " [ 0  8  0 ...  0  0  0]\n",
            " [ 0 20  0 ...  0  0  0]\n",
            " [ 0 11  0 ...  0  0  0]]\n",
            "Akurasi: 0.06927710843373494\n",
            "\n",
            "Naive Bayes:\n",
            "Confusion Matrix:\n",
            " [[ 0 24  0 ...  0  0  0]\n",
            " [ 0 22  0 ...  0  0  0]\n",
            " [ 0  3  0 ...  0  0  0]\n",
            " ...\n",
            " [ 0  7  0 ...  0  0  0]\n",
            " [ 0 15  0 ...  0  0  0]\n",
            " [ 0 10  0 ...  0  0  0]]\n",
            "Akurasi: 0.07530120481927711\n",
            "\n",
            "Decision Tree:\n",
            "Confusion Matrix:\n",
            " [[ 0 27  0 ...  0  0  0]\n",
            " [ 0 23  0 ...  0  0  0]\n",
            " [ 0  5  0 ...  0  0  0]\n",
            " ...\n",
            " [ 0  8  0 ...  0  0  0]\n",
            " [ 0 20  0 ...  0  0  0]\n",
            " [ 0 11  0 ...  0  0  0]]\n",
            "Akurasi: 0.06927710843373494\n",
            "\n",
            "MLP:\n",
            "Confusion Matrix:\n",
            " [[0 0 0 ... 0 0 0]\n",
            " [0 0 0 ... 0 0 0]\n",
            " [0 0 0 ... 0 0 0]\n",
            " ...\n",
            " [0 0 0 ... 0 0 0]\n",
            " [0 0 0 ... 0 0 0]\n",
            " [0 0 0 ... 0 0 0]]\n",
            "Akurasi: 0.015060240963855422\n"
          ]
        }
      ]
    }
  ]
}